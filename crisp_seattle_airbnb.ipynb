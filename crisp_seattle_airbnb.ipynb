{
 "cells": [
  {
   "cell_type": "markdown",
   "id": "26674004-032a-4e20-a76a-15552a0dc528",
   "metadata": {},
   "source": [
    "# Seattle Airbnb Analysis\n",
    "Since 2008, guests and hosts have used Airbnb to travel in a more unique, personalized way. As part of the Airbnb Inside initiative, this dataset describes the listing activity of homestays in Seattle, WA.\n",
    "\n",
    "6 steps of CRISP-DM (Cross-Industry Standard Process for Data Mining):\n",
    "1. Business Understanding\n",
    "1. Data Understanding\n",
    "1. Data Preparation\n",
    "1. Modelling\n",
    "1. Evaluation\n",
    "1. Deployment\n",
    "\n"
   ]
  },
  {
   "cell_type": "markdown",
   "id": "06d8cd77-a031-4e36-955c-68d3de118c05",
   "metadata": {},
   "source": [
    "# 1. Business Understanding\n",
    "Since 2008, guests and hosts have used Airbnb to travel in a more unique, personalized way. As part of the Airbnb Inside initiative, this dataset describes the listing activity of homestays in Seattle, WA.\n",
    "\n",
    "In this project, we will use the datasets available on Kaggle: https://www.kaggle.com/datasets/airbnb/seattle\n",
    "Let's answer 3 business questions:\n",
    "1. Where is the busiest in Seattle?\n",
    "1. What is the distribution of properties in the city limits?\n",
    "1. What are the main factors that affect booking prices?."
   ]
  },
  {
   "cell_type": "markdown",
   "id": "a71a8f89-3440-489b-bf96-89f57f306064",
   "metadata": {},
   "source": [
    "# 2. Data Understanding\n",
    "The **Seatlle Airbnb Open** Dataset catalogues homestay listings in Seattle, Washington from 01-2016 to 01-2017.\n",
    "\n",
    "\n",
    "There are 3 subsets in the dataset:\n",
    "1. The pricing for each listing id for a certain day is described in **calendar.csv**.\n",
    "1. **listings.csv** contains a detailed description of each listing id, as well as review scores.\n",
    "1. For each individual listing id, **reviews.csv** gives detailed reviews.\n",
    "\n",
    "First, let's import the data & revelant libraries needed for the analysis."
   ]
  },
  {
   "cell_type": "code",
   "execution_count": 61,
   "id": "8c16faa0-fc1b-425b-a244-6229628cd317",
   "metadata": {
    "execution": {
     "iopub.execute_input": "2023-01-04T17:01:37.480912Z",
     "iopub.status.busy": "2023-01-04T17:01:37.480413Z",
     "iopub.status.idle": "2023-01-04T17:01:37.699416Z",
     "shell.execute_reply": "2023-01-04T17:01:37.698914Z",
     "shell.execute_reply.started": "2023-01-04T17:01:37.480912Z"
    },
    "tags": []
   },
   "outputs": [
    {
     "name": "stderr",
     "output_type": "stream",
     "text": [
      "C:\\Users\\Vagner Belfort\\AppData\\Roaming\\Python\\Python39\\site-packages\\pkg_resources\\__init__.py:123: PkgResourcesDeprecationWarning: ardet is an invalid version and will not be supported in a future release\n",
      "  warnings.warn(\n",
      "C:\\Users\\Vagner Belfort\\AppData\\Roaming\\Python\\Python39\\site-packages\\pkg_resources\\__init__.py:123: PkgResourcesDeprecationWarning: rkupsafe is an invalid version and will not be supported in a future release\n",
      "  warnings.warn(\n"
     ]
    }
   ],
   "source": [
    "import matplotlib.pyplot as plt\n",
    "import seaborn as sns\n",
    "import pandas as pd\n",
    "import numpy as np\n",
    "from datetime import datetime\n",
    "from sklearn.ensemble import RandomForestRegressor\n",
    "from sklearn.model_selection import train_test_split\n",
    "from sklearn.metrics import r2_score, mean_squared_error\n",
    "pd.options.mode.chained_assignment = None"
   ]
  },
  {
   "cell_type": "code",
   "execution_count": 4,
   "id": "941ada2f-7c21-46c3-b4ed-57a4163ecb63",
   "metadata": {
    "execution": {
     "iopub.execute_input": "2023-01-04T13:50:24.962027Z",
     "iopub.status.busy": "2023-01-04T13:50:24.962027Z",
     "iopub.status.idle": "2023-01-04T13:50:25.800022Z",
     "shell.execute_reply": "2023-01-04T13:50:25.799523Z",
     "shell.execute_reply.started": "2023-01-04T13:50:24.962027Z"
    }
   },
   "outputs": [],
   "source": [
    "calendar = pd.read_csv('calendar.csv')\n",
    "listings = pd.read_csv('listings.csv')"
   ]
  },
  {
   "cell_type": "code",
   "execution_count": 5,
   "id": "9220a4b9-ce3f-4f11-9fac-9c93d2e33a2b",
   "metadata": {
    "execution": {
     "iopub.execute_input": "2023-01-04T13:50:31.490023Z",
     "iopub.status.busy": "2023-01-04T13:50:31.489527Z",
     "iopub.status.idle": "2023-01-04T13:50:31.504024Z",
     "shell.execute_reply": "2023-01-04T13:50:31.503525Z",
     "shell.execute_reply.started": "2023-01-04T13:50:31.490023Z"
    }
   },
   "outputs": [
    {
     "data": {
      "text/html": [
       "<div>\n",
       "<style scoped>\n",
       "    .dataframe tbody tr th:only-of-type {\n",
       "        vertical-align: middle;\n",
       "    }\n",
       "\n",
       "    .dataframe tbody tr th {\n",
       "        vertical-align: top;\n",
       "    }\n",
       "\n",
       "    .dataframe thead th {\n",
       "        text-align: right;\n",
       "    }\n",
       "</style>\n",
       "<table border=\"1\" class=\"dataframe\">\n",
       "  <thead>\n",
       "    <tr style=\"text-align: right;\">\n",
       "      <th></th>\n",
       "      <th>listing_id</th>\n",
       "      <th>date</th>\n",
       "      <th>available</th>\n",
       "      <th>price</th>\n",
       "    </tr>\n",
       "  </thead>\n",
       "  <tbody>\n",
       "    <tr>\n",
       "      <th>0</th>\n",
       "      <td>241032</td>\n",
       "      <td>2016-01-04</td>\n",
       "      <td>t</td>\n",
       "      <td>$85.00</td>\n",
       "    </tr>\n",
       "    <tr>\n",
       "      <th>1</th>\n",
       "      <td>241032</td>\n",
       "      <td>2016-01-05</td>\n",
       "      <td>t</td>\n",
       "      <td>$85.00</td>\n",
       "    </tr>\n",
       "    <tr>\n",
       "      <th>2</th>\n",
       "      <td>241032</td>\n",
       "      <td>2016-01-06</td>\n",
       "      <td>f</td>\n",
       "      <td>NaN</td>\n",
       "    </tr>\n",
       "    <tr>\n",
       "      <th>3</th>\n",
       "      <td>241032</td>\n",
       "      <td>2016-01-07</td>\n",
       "      <td>f</td>\n",
       "      <td>NaN</td>\n",
       "    </tr>\n",
       "    <tr>\n",
       "      <th>4</th>\n",
       "      <td>241032</td>\n",
       "      <td>2016-01-08</td>\n",
       "      <td>f</td>\n",
       "      <td>NaN</td>\n",
       "    </tr>\n",
       "  </tbody>\n",
       "</table>\n",
       "</div>"
      ],
      "text/plain": [
       "   listing_id        date available   price\n",
       "0      241032  2016-01-04         t  $85.00\n",
       "1      241032  2016-01-05         t  $85.00\n",
       "2      241032  2016-01-06         f     NaN\n",
       "3      241032  2016-01-07         f     NaN\n",
       "4      241032  2016-01-08         f     NaN"
      ]
     },
     "execution_count": 5,
     "metadata": {},
     "output_type": "execute_result"
    }
   ],
   "source": [
    "calendar.head()"
   ]
  },
  {
   "cell_type": "code",
   "execution_count": 6,
   "id": "2d6758ea-6eb1-4ec7-b6e2-190cd8a27918",
   "metadata": {
    "execution": {
     "iopub.execute_input": "2023-01-04T13:50:35.418524Z",
     "iopub.status.busy": "2023-01-04T13:50:35.418524Z",
     "iopub.status.idle": "2023-01-04T13:50:35.735523Z",
     "shell.execute_reply": "2023-01-04T13:50:35.735023Z",
     "shell.execute_reply.started": "2023-01-04T13:50:35.418524Z"
    }
   },
   "outputs": [
    {
     "name": "stdout",
     "output_type": "stream",
     "text": [
      "<class 'pandas.core.frame.DataFrame'>\n",
      "RangeIndex: 1393570 entries, 0 to 1393569\n",
      "Data columns (total 4 columns):\n",
      " #   Column      Non-Null Count    Dtype \n",
      "---  ------      --------------    ----- \n",
      " 0   listing_id  1393570 non-null  int64 \n",
      " 1   date        1393570 non-null  object\n",
      " 2   available   1393570 non-null  object\n",
      " 3   price       934542 non-null   object\n",
      "dtypes: int64(1), object(3)\n",
      "memory usage: 42.5+ MB\n"
     ]
    }
   ],
   "source": [
    "calendar.info()"
   ]
  },
  {
   "cell_type": "code",
   "execution_count": 7,
   "id": "807e05e2-5837-4eab-9a5f-ba1fc666911c",
   "metadata": {
    "execution": {
     "iopub.execute_input": "2023-01-04T13:50:40.313534Z",
     "iopub.status.busy": "2023-01-04T13:50:40.313034Z",
     "iopub.status.idle": "2023-01-04T13:50:40.338535Z",
     "shell.execute_reply": "2023-01-04T13:50:40.338034Z",
     "shell.execute_reply.started": "2023-01-04T13:50:40.313534Z"
    }
   },
   "outputs": [
    {
     "data": {
      "text/html": [
       "<div>\n",
       "<style scoped>\n",
       "    .dataframe tbody tr th:only-of-type {\n",
       "        vertical-align: middle;\n",
       "    }\n",
       "\n",
       "    .dataframe tbody tr th {\n",
       "        vertical-align: top;\n",
       "    }\n",
       "\n",
       "    .dataframe thead th {\n",
       "        text-align: right;\n",
       "    }\n",
       "</style>\n",
       "<table border=\"1\" class=\"dataframe\">\n",
       "  <thead>\n",
       "    <tr style=\"text-align: right;\">\n",
       "      <th></th>\n",
       "      <th>id</th>\n",
       "      <th>listing_url</th>\n",
       "      <th>scrape_id</th>\n",
       "      <th>last_scraped</th>\n",
       "      <th>name</th>\n",
       "      <th>summary</th>\n",
       "      <th>space</th>\n",
       "      <th>description</th>\n",
       "      <th>experiences_offered</th>\n",
       "      <th>neighborhood_overview</th>\n",
       "      <th>...</th>\n",
       "      <th>review_scores_value</th>\n",
       "      <th>requires_license</th>\n",
       "      <th>license</th>\n",
       "      <th>jurisdiction_names</th>\n",
       "      <th>instant_bookable</th>\n",
       "      <th>cancellation_policy</th>\n",
       "      <th>require_guest_profile_picture</th>\n",
       "      <th>require_guest_phone_verification</th>\n",
       "      <th>calculated_host_listings_count</th>\n",
       "      <th>reviews_per_month</th>\n",
       "    </tr>\n",
       "  </thead>\n",
       "  <tbody>\n",
       "    <tr>\n",
       "      <th>0</th>\n",
       "      <td>241032</td>\n",
       "      <td>https://www.airbnb.com/rooms/241032</td>\n",
       "      <td>20160104002432</td>\n",
       "      <td>2016-01-04</td>\n",
       "      <td>Stylish Queen Anne Apartment</td>\n",
       "      <td>NaN</td>\n",
       "      <td>Make your self at home in this charming one-be...</td>\n",
       "      <td>Make your self at home in this charming one-be...</td>\n",
       "      <td>none</td>\n",
       "      <td>NaN</td>\n",
       "      <td>...</td>\n",
       "      <td>10.0</td>\n",
       "      <td>f</td>\n",
       "      <td>NaN</td>\n",
       "      <td>WASHINGTON</td>\n",
       "      <td>f</td>\n",
       "      <td>moderate</td>\n",
       "      <td>f</td>\n",
       "      <td>f</td>\n",
       "      <td>2</td>\n",
       "      <td>4.07</td>\n",
       "    </tr>\n",
       "    <tr>\n",
       "      <th>1</th>\n",
       "      <td>953595</td>\n",
       "      <td>https://www.airbnb.com/rooms/953595</td>\n",
       "      <td>20160104002432</td>\n",
       "      <td>2016-01-04</td>\n",
       "      <td>Bright &amp; Airy Queen Anne Apartment</td>\n",
       "      <td>Chemically sensitive? We've removed the irrita...</td>\n",
       "      <td>Beautiful, hypoallergenic apartment in an extr...</td>\n",
       "      <td>Chemically sensitive? We've removed the irrita...</td>\n",
       "      <td>none</td>\n",
       "      <td>Queen Anne is a wonderful, truly functional vi...</td>\n",
       "      <td>...</td>\n",
       "      <td>10.0</td>\n",
       "      <td>f</td>\n",
       "      <td>NaN</td>\n",
       "      <td>WASHINGTON</td>\n",
       "      <td>f</td>\n",
       "      <td>strict</td>\n",
       "      <td>t</td>\n",
       "      <td>t</td>\n",
       "      <td>6</td>\n",
       "      <td>1.48</td>\n",
       "    </tr>\n",
       "    <tr>\n",
       "      <th>2</th>\n",
       "      <td>3308979</td>\n",
       "      <td>https://www.airbnb.com/rooms/3308979</td>\n",
       "      <td>20160104002432</td>\n",
       "      <td>2016-01-04</td>\n",
       "      <td>New Modern House-Amazing water view</td>\n",
       "      <td>New modern house built in 2013.  Spectacular s...</td>\n",
       "      <td>Our house is modern, light and fresh with a wa...</td>\n",
       "      <td>New modern house built in 2013.  Spectacular s...</td>\n",
       "      <td>none</td>\n",
       "      <td>Upper Queen Anne is a charming neighborhood fu...</td>\n",
       "      <td>...</td>\n",
       "      <td>10.0</td>\n",
       "      <td>f</td>\n",
       "      <td>NaN</td>\n",
       "      <td>WASHINGTON</td>\n",
       "      <td>f</td>\n",
       "      <td>strict</td>\n",
       "      <td>f</td>\n",
       "      <td>f</td>\n",
       "      <td>2</td>\n",
       "      <td>1.15</td>\n",
       "    </tr>\n",
       "    <tr>\n",
       "      <th>3</th>\n",
       "      <td>7421966</td>\n",
       "      <td>https://www.airbnb.com/rooms/7421966</td>\n",
       "      <td>20160104002432</td>\n",
       "      <td>2016-01-04</td>\n",
       "      <td>Queen Anne Chateau</td>\n",
       "      <td>A charming apartment that sits atop Queen Anne...</td>\n",
       "      <td>NaN</td>\n",
       "      <td>A charming apartment that sits atop Queen Anne...</td>\n",
       "      <td>none</td>\n",
       "      <td>NaN</td>\n",
       "      <td>...</td>\n",
       "      <td>NaN</td>\n",
       "      <td>f</td>\n",
       "      <td>NaN</td>\n",
       "      <td>WASHINGTON</td>\n",
       "      <td>f</td>\n",
       "      <td>flexible</td>\n",
       "      <td>f</td>\n",
       "      <td>f</td>\n",
       "      <td>1</td>\n",
       "      <td>NaN</td>\n",
       "    </tr>\n",
       "    <tr>\n",
       "      <th>4</th>\n",
       "      <td>278830</td>\n",
       "      <td>https://www.airbnb.com/rooms/278830</td>\n",
       "      <td>20160104002432</td>\n",
       "      <td>2016-01-04</td>\n",
       "      <td>Charming craftsman 3 bdm house</td>\n",
       "      <td>Cozy family craftman house in beautiful neighb...</td>\n",
       "      <td>Cozy family craftman house in beautiful neighb...</td>\n",
       "      <td>Cozy family craftman house in beautiful neighb...</td>\n",
       "      <td>none</td>\n",
       "      <td>We are in the beautiful neighborhood of Queen ...</td>\n",
       "      <td>...</td>\n",
       "      <td>9.0</td>\n",
       "      <td>f</td>\n",
       "      <td>NaN</td>\n",
       "      <td>WASHINGTON</td>\n",
       "      <td>f</td>\n",
       "      <td>strict</td>\n",
       "      <td>f</td>\n",
       "      <td>f</td>\n",
       "      <td>1</td>\n",
       "      <td>0.89</td>\n",
       "    </tr>\n",
       "  </tbody>\n",
       "</table>\n",
       "<p>5 rows × 92 columns</p>\n",
       "</div>"
      ],
      "text/plain": [
       "        id                           listing_url       scrape_id last_scraped  \\\n",
       "0   241032   https://www.airbnb.com/rooms/241032  20160104002432   2016-01-04   \n",
       "1   953595   https://www.airbnb.com/rooms/953595  20160104002432   2016-01-04   \n",
       "2  3308979  https://www.airbnb.com/rooms/3308979  20160104002432   2016-01-04   \n",
       "3  7421966  https://www.airbnb.com/rooms/7421966  20160104002432   2016-01-04   \n",
       "4   278830   https://www.airbnb.com/rooms/278830  20160104002432   2016-01-04   \n",
       "\n",
       "                                  name  \\\n",
       "0         Stylish Queen Anne Apartment   \n",
       "1   Bright & Airy Queen Anne Apartment   \n",
       "2  New Modern House-Amazing water view   \n",
       "3                   Queen Anne Chateau   \n",
       "4       Charming craftsman 3 bdm house   \n",
       "\n",
       "                                             summary  \\\n",
       "0                                                NaN   \n",
       "1  Chemically sensitive? We've removed the irrita...   \n",
       "2  New modern house built in 2013.  Spectacular s...   \n",
       "3  A charming apartment that sits atop Queen Anne...   \n",
       "4  Cozy family craftman house in beautiful neighb...   \n",
       "\n",
       "                                               space  \\\n",
       "0  Make your self at home in this charming one-be...   \n",
       "1  Beautiful, hypoallergenic apartment in an extr...   \n",
       "2  Our house is modern, light and fresh with a wa...   \n",
       "3                                                NaN   \n",
       "4  Cozy family craftman house in beautiful neighb...   \n",
       "\n",
       "                                         description experiences_offered  \\\n",
       "0  Make your self at home in this charming one-be...                none   \n",
       "1  Chemically sensitive? We've removed the irrita...                none   \n",
       "2  New modern house built in 2013.  Spectacular s...                none   \n",
       "3  A charming apartment that sits atop Queen Anne...                none   \n",
       "4  Cozy family craftman house in beautiful neighb...                none   \n",
       "\n",
       "                               neighborhood_overview  ... review_scores_value  \\\n",
       "0                                                NaN  ...                10.0   \n",
       "1  Queen Anne is a wonderful, truly functional vi...  ...                10.0   \n",
       "2  Upper Queen Anne is a charming neighborhood fu...  ...                10.0   \n",
       "3                                                NaN  ...                 NaN   \n",
       "4  We are in the beautiful neighborhood of Queen ...  ...                 9.0   \n",
       "\n",
       "  requires_license license jurisdiction_names instant_bookable  \\\n",
       "0                f     NaN         WASHINGTON                f   \n",
       "1                f     NaN         WASHINGTON                f   \n",
       "2                f     NaN         WASHINGTON                f   \n",
       "3                f     NaN         WASHINGTON                f   \n",
       "4                f     NaN         WASHINGTON                f   \n",
       "\n",
       "  cancellation_policy  require_guest_profile_picture  \\\n",
       "0            moderate                              f   \n",
       "1              strict                              t   \n",
       "2              strict                              f   \n",
       "3            flexible                              f   \n",
       "4              strict                              f   \n",
       "\n",
       "  require_guest_phone_verification calculated_host_listings_count  \\\n",
       "0                                f                              2   \n",
       "1                                t                              6   \n",
       "2                                f                              2   \n",
       "3                                f                              1   \n",
       "4                                f                              1   \n",
       "\n",
       "  reviews_per_month  \n",
       "0              4.07  \n",
       "1              1.48  \n",
       "2              1.15  \n",
       "3               NaN  \n",
       "4              0.89  \n",
       "\n",
       "[5 rows x 92 columns]"
      ]
     },
     "execution_count": 7,
     "metadata": {},
     "output_type": "execute_result"
    }
   ],
   "source": [
    "listings.head()"
   ]
  },
  {
   "cell_type": "code",
   "execution_count": 8,
   "id": "9eb6335b-c867-4e7f-8641-22190d3d4743",
   "metadata": {
    "execution": {
     "iopub.execute_input": "2023-01-04T13:50:52.615535Z",
     "iopub.status.busy": "2023-01-04T13:50:52.615035Z",
     "iopub.status.idle": "2023-01-04T13:50:52.630035Z",
     "shell.execute_reply": "2023-01-04T13:50:52.629536Z",
     "shell.execute_reply.started": "2023-01-04T13:50:52.615535Z"
    }
   },
   "outputs": [
    {
     "name": "stdout",
     "output_type": "stream",
     "text": [
      "The listings.csv subset has 92 columns and 3818 rows.\n"
     ]
    }
   ],
   "source": [
    "print('The listings.csv subset has {} columns and {} rows.'.format(listings.shape[1], listings.shape[0]))"
   ]
  },
  {
   "cell_type": "code",
   "execution_count": 9,
   "id": "ee78beb2-23b7-4e9b-bbf1-323042df0c96",
   "metadata": {
    "collapsed": true,
    "execution": {
     "iopub.execute_input": "2023-01-04T13:51:05.057537Z",
     "iopub.status.busy": "2023-01-04T13:51:05.057038Z",
     "iopub.status.idle": "2023-01-04T13:51:05.091533Z",
     "shell.execute_reply": "2023-01-04T13:51:05.091034Z",
     "shell.execute_reply.started": "2023-01-04T13:51:05.057537Z"
    },
    "jupyter": {
     "outputs_hidden": true
    },
    "tags": []
   },
   "outputs": [
    {
     "name": "stdout",
     "output_type": "stream",
     "text": [
      "<class 'pandas.core.frame.DataFrame'>\n",
      "RangeIndex: 3818 entries, 0 to 3817\n",
      "Data columns (total 92 columns):\n",
      " #   Column                            Non-Null Count  Dtype  \n",
      "---  ------                            --------------  -----  \n",
      " 0   id                                3818 non-null   int64  \n",
      " 1   listing_url                       3818 non-null   object \n",
      " 2   scrape_id                         3818 non-null   int64  \n",
      " 3   last_scraped                      3818 non-null   object \n",
      " 4   name                              3818 non-null   object \n",
      " 5   summary                           3641 non-null   object \n",
      " 6   space                             3249 non-null   object \n",
      " 7   description                       3818 non-null   object \n",
      " 8   experiences_offered               3818 non-null   object \n",
      " 9   neighborhood_overview             2786 non-null   object \n",
      " 10  notes                             2212 non-null   object \n",
      " 11  transit                           2884 non-null   object \n",
      " 12  thumbnail_url                     3498 non-null   object \n",
      " 13  medium_url                        3498 non-null   object \n",
      " 14  picture_url                       3818 non-null   object \n",
      " 15  xl_picture_url                    3498 non-null   object \n",
      " 16  host_id                           3818 non-null   int64  \n",
      " 17  host_url                          3818 non-null   object \n",
      " 18  host_name                         3816 non-null   object \n",
      " 19  host_since                        3816 non-null   object \n",
      " 20  host_location                     3810 non-null   object \n",
      " 21  host_about                        2959 non-null   object \n",
      " 22  host_response_time                3295 non-null   object \n",
      " 23  host_response_rate                3295 non-null   object \n",
      " 24  host_acceptance_rate              3045 non-null   object \n",
      " 25  host_is_superhost                 3816 non-null   object \n",
      " 26  host_thumbnail_url                3816 non-null   object \n",
      " 27  host_picture_url                  3816 non-null   object \n",
      " 28  host_neighbourhood                3518 non-null   object \n",
      " 29  host_listings_count               3816 non-null   float64\n",
      " 30  host_total_listings_count         3816 non-null   float64\n",
      " 31  host_verifications                3818 non-null   object \n",
      " 32  host_has_profile_pic              3816 non-null   object \n",
      " 33  host_identity_verified            3816 non-null   object \n",
      " 34  street                            3818 non-null   object \n",
      " 35  neighbourhood                     3402 non-null   object \n",
      " 36  neighbourhood_cleansed            3818 non-null   object \n",
      " 37  neighbourhood_group_cleansed      3818 non-null   object \n",
      " 38  city                              3818 non-null   object \n",
      " 39  state                             3818 non-null   object \n",
      " 40  zipcode                           3811 non-null   object \n",
      " 41  market                            3818 non-null   object \n",
      " 42  smart_location                    3818 non-null   object \n",
      " 43  country_code                      3818 non-null   object \n",
      " 44  country                           3818 non-null   object \n",
      " 45  latitude                          3818 non-null   float64\n",
      " 46  longitude                         3818 non-null   float64\n",
      " 47  is_location_exact                 3818 non-null   object \n",
      " 48  property_type                     3817 non-null   object \n",
      " 49  room_type                         3818 non-null   object \n",
      " 50  accommodates                      3818 non-null   int64  \n",
      " 51  bathrooms                         3802 non-null   float64\n",
      " 52  bedrooms                          3812 non-null   float64\n",
      " 53  beds                              3817 non-null   float64\n",
      " 54  bed_type                          3818 non-null   object \n",
      " 55  amenities                         3818 non-null   object \n",
      " 56  square_feet                       97 non-null     float64\n",
      " 57  price                             3818 non-null   object \n",
      " 58  weekly_price                      2009 non-null   object \n",
      " 59  monthly_price                     1517 non-null   object \n",
      " 60  security_deposit                  1866 non-null   object \n",
      " 61  cleaning_fee                      2788 non-null   object \n",
      " 62  guests_included                   3818 non-null   int64  \n",
      " 63  extra_people                      3818 non-null   object \n",
      " 64  minimum_nights                    3818 non-null   int64  \n",
      " 65  maximum_nights                    3818 non-null   int64  \n",
      " 66  calendar_updated                  3818 non-null   object \n",
      " 67  has_availability                  3818 non-null   object \n",
      " 68  availability_30                   3818 non-null   int64  \n",
      " 69  availability_60                   3818 non-null   int64  \n",
      " 70  availability_90                   3818 non-null   int64  \n",
      " 71  availability_365                  3818 non-null   int64  \n",
      " 72  calendar_last_scraped             3818 non-null   object \n",
      " 73  number_of_reviews                 3818 non-null   int64  \n",
      " 74  first_review                      3191 non-null   object \n",
      " 75  last_review                       3191 non-null   object \n",
      " 76  review_scores_rating              3171 non-null   float64\n",
      " 77  review_scores_accuracy            3160 non-null   float64\n",
      " 78  review_scores_cleanliness         3165 non-null   float64\n",
      " 79  review_scores_checkin             3160 non-null   float64\n",
      " 80  review_scores_communication       3167 non-null   float64\n",
      " 81  review_scores_location            3163 non-null   float64\n",
      " 82  review_scores_value               3162 non-null   float64\n",
      " 83  requires_license                  3818 non-null   object \n",
      " 84  license                           0 non-null      float64\n",
      " 85  jurisdiction_names                3818 non-null   object \n",
      " 86  instant_bookable                  3818 non-null   object \n",
      " 87  cancellation_policy               3818 non-null   object \n",
      " 88  require_guest_profile_picture     3818 non-null   object \n",
      " 89  require_guest_phone_verification  3818 non-null   object \n",
      " 90  calculated_host_listings_count    3818 non-null   int64  \n",
      " 91  reviews_per_month                 3191 non-null   float64\n",
      "dtypes: float64(17), int64(13), object(62)\n",
      "memory usage: 2.7+ MB\n"
     ]
    }
   ],
   "source": [
    "listings.info()"
   ]
  },
  {
   "cell_type": "code",
   "execution_count": 10,
   "id": "47bcd79f-8927-480f-b1eb-dd7ec87a873d",
   "metadata": {
    "execution": {
     "iopub.execute_input": "2023-01-04T13:51:24.296035Z",
     "iopub.status.busy": "2023-01-04T13:51:24.296035Z",
     "iopub.status.idle": "2023-01-04T13:51:24.311036Z",
     "shell.execute_reply": "2023-01-04T13:51:24.310533Z",
     "shell.execute_reply.started": "2023-01-04T13:51:24.296035Z"
    },
    "tags": []
   },
   "outputs": [
    {
     "data": {
      "text/html": [
       "<div>\n",
       "<style scoped>\n",
       "    .dataframe tbody tr th:only-of-type {\n",
       "        vertical-align: middle;\n",
       "    }\n",
       "\n",
       "    .dataframe tbody tr th {\n",
       "        vertical-align: top;\n",
       "    }\n",
       "\n",
       "    .dataframe thead th {\n",
       "        text-align: right;\n",
       "    }\n",
       "</style>\n",
       "<table border=\"1\" class=\"dataframe\">\n",
       "  <thead>\n",
       "    <tr style=\"text-align: right;\">\n",
       "      <th></th>\n",
       "      <th>listing_id</th>\n",
       "      <th>id</th>\n",
       "      <th>date</th>\n",
       "      <th>reviewer_id</th>\n",
       "      <th>reviewer_name</th>\n",
       "      <th>comments</th>\n",
       "    </tr>\n",
       "  </thead>\n",
       "  <tbody>\n",
       "    <tr>\n",
       "      <th>0</th>\n",
       "      <td>7202016</td>\n",
       "      <td>38917982</td>\n",
       "      <td>2015-07-19</td>\n",
       "      <td>28943674</td>\n",
       "      <td>Bianca</td>\n",
       "      <td>Cute and cozy place. Perfect location to every...</td>\n",
       "    </tr>\n",
       "    <tr>\n",
       "      <th>1</th>\n",
       "      <td>7202016</td>\n",
       "      <td>39087409</td>\n",
       "      <td>2015-07-20</td>\n",
       "      <td>32440555</td>\n",
       "      <td>Frank</td>\n",
       "      <td>Kelly has a great room in a very central locat...</td>\n",
       "    </tr>\n",
       "    <tr>\n",
       "      <th>2</th>\n",
       "      <td>7202016</td>\n",
       "      <td>39820030</td>\n",
       "      <td>2015-07-26</td>\n",
       "      <td>37722850</td>\n",
       "      <td>Ian</td>\n",
       "      <td>Very spacious apartment, and in a great neighb...</td>\n",
       "    </tr>\n",
       "    <tr>\n",
       "      <th>3</th>\n",
       "      <td>7202016</td>\n",
       "      <td>40813543</td>\n",
       "      <td>2015-08-02</td>\n",
       "      <td>33671805</td>\n",
       "      <td>George</td>\n",
       "      <td>Close to Seattle Center and all it has to offe...</td>\n",
       "    </tr>\n",
       "    <tr>\n",
       "      <th>4</th>\n",
       "      <td>7202016</td>\n",
       "      <td>41986501</td>\n",
       "      <td>2015-08-10</td>\n",
       "      <td>34959538</td>\n",
       "      <td>Ming</td>\n",
       "      <td>Kelly was a great host and very accommodating ...</td>\n",
       "    </tr>\n",
       "  </tbody>\n",
       "</table>\n",
       "</div>"
      ],
      "text/plain": [
       "   listing_id        id        date  reviewer_id reviewer_name  \\\n",
       "0     7202016  38917982  2015-07-19     28943674        Bianca   \n",
       "1     7202016  39087409  2015-07-20     32440555         Frank   \n",
       "2     7202016  39820030  2015-07-26     37722850           Ian   \n",
       "3     7202016  40813543  2015-08-02     33671805        George   \n",
       "4     7202016  41986501  2015-08-10     34959538          Ming   \n",
       "\n",
       "                                            comments  \n",
       "0  Cute and cozy place. Perfect location to every...  \n",
       "1  Kelly has a great room in a very central locat...  \n",
       "2  Very spacious apartment, and in a great neighb...  \n",
       "3  Close to Seattle Center and all it has to offe...  \n",
       "4  Kelly was a great host and very accommodating ...  "
      ]
     },
     "execution_count": 10,
     "metadata": {},
     "output_type": "execute_result"
    }
   ],
   "source": [
    "reviews.head()"
   ]
  },
  {
   "cell_type": "code",
   "execution_count": 11,
   "id": "88b81e62-0bde-498a-91c4-0c529e45fed7",
   "metadata": {
    "execution": {
     "iopub.execute_input": "2023-01-04T13:51:36.968534Z",
     "iopub.status.busy": "2023-01-04T13:51:36.968534Z",
     "iopub.status.idle": "2023-01-04T13:51:37.004033Z",
     "shell.execute_reply": "2023-01-04T13:51:37.004033Z",
     "shell.execute_reply.started": "2023-01-04T13:51:36.968534Z"
    },
    "tags": []
   },
   "outputs": [
    {
     "name": "stdout",
     "output_type": "stream",
     "text": [
      "<class 'pandas.core.frame.DataFrame'>\n",
      "RangeIndex: 84849 entries, 0 to 84848\n",
      "Data columns (total 6 columns):\n",
      " #   Column         Non-Null Count  Dtype \n",
      "---  ------         --------------  ----- \n",
      " 0   listing_id     84849 non-null  int64 \n",
      " 1   id             84849 non-null  int64 \n",
      " 2   date           84849 non-null  object\n",
      " 3   reviewer_id    84849 non-null  int64 \n",
      " 4   reviewer_name  84849 non-null  object\n",
      " 5   comments       84831 non-null  object\n",
      "dtypes: int64(3), object(3)\n",
      "memory usage: 3.9+ MB\n"
     ]
    }
   ],
   "source": [
    "reviews.info()"
   ]
  },
  {
   "cell_type": "markdown",
   "id": "97780583-ad7c-4ad1-a231-e2429c67e0d3",
   "metadata": {
    "execution": {
     "iopub.execute_input": "2023-01-04T13:52:04.503533Z",
     "iopub.status.busy": "2023-01-04T13:52:04.503035Z",
     "iopub.status.idle": "2023-01-04T13:52:04.516034Z",
     "shell.execute_reply": "2023-01-04T13:52:04.515534Z",
     "shell.execute_reply.started": "2023-01-04T13:52:04.503533Z"
    }
   },
   "source": [
    "# 3. Prepare Data"
   ]
  },
  {
   "cell_type": "markdown",
   "id": "a4347af0-e284-48df-a3df-62c28b1772a7",
   "metadata": {},
   "source": [
    "Having a glance at the **calendar.csv**.\n",
    "There are 4 columns.\n",
    "\n",
    "The **listing_id** and **price** columns are currently NOT in the correct datatype. We need to convert the data type of **listing_id** column into string and **price**'s into float.\n",
    "\n",
    "We are going to extract **month** and **month_year** from the **date** column as well."
   ]
  },
  {
   "cell_type": "code",
   "execution_count": 13,
   "id": "0f66097b-bd51-438d-9569-f2f7d61cb075",
   "metadata": {
    "execution": {
     "iopub.execute_input": "2023-01-04T13:53:25.231036Z",
     "iopub.status.busy": "2023-01-04T13:53:25.230537Z",
     "iopub.status.idle": "2023-01-04T13:53:27.192536Z",
     "shell.execute_reply": "2023-01-04T13:53:27.192033Z",
     "shell.execute_reply.started": "2023-01-04T13:53:25.231036Z"
    }
   },
   "outputs": [
    {
     "data": {
      "text/html": [
       "<div>\n",
       "<style scoped>\n",
       "    .dataframe tbody tr th:only-of-type {\n",
       "        vertical-align: middle;\n",
       "    }\n",
       "\n",
       "    .dataframe tbody tr th {\n",
       "        vertical-align: top;\n",
       "    }\n",
       "\n",
       "    .dataframe thead th {\n",
       "        text-align: right;\n",
       "    }\n",
       "</style>\n",
       "<table border=\"1\" class=\"dataframe\">\n",
       "  <thead>\n",
       "    <tr style=\"text-align: right;\">\n",
       "      <th></th>\n",
       "      <th>listing_id</th>\n",
       "      <th>date</th>\n",
       "      <th>available</th>\n",
       "      <th>price</th>\n",
       "      <th>month</th>\n",
       "      <th>year</th>\n",
       "      <th>month_year</th>\n",
       "    </tr>\n",
       "  </thead>\n",
       "  <tbody>\n",
       "    <tr>\n",
       "      <th>0</th>\n",
       "      <td>241032</td>\n",
       "      <td>2016-01-04</td>\n",
       "      <td>t</td>\n",
       "      <td>85.0</td>\n",
       "      <td>1</td>\n",
       "      <td>2016</td>\n",
       "      <td>2016-01</td>\n",
       "    </tr>\n",
       "    <tr>\n",
       "      <th>1</th>\n",
       "      <td>241032</td>\n",
       "      <td>2016-01-05</td>\n",
       "      <td>t</td>\n",
       "      <td>85.0</td>\n",
       "      <td>1</td>\n",
       "      <td>2016</td>\n",
       "      <td>2016-01</td>\n",
       "    </tr>\n",
       "    <tr>\n",
       "      <th>2</th>\n",
       "      <td>241032</td>\n",
       "      <td>2016-01-06</td>\n",
       "      <td>f</td>\n",
       "      <td>NaN</td>\n",
       "      <td>1</td>\n",
       "      <td>2016</td>\n",
       "      <td>2016-01</td>\n",
       "    </tr>\n",
       "    <tr>\n",
       "      <th>3</th>\n",
       "      <td>241032</td>\n",
       "      <td>2016-01-07</td>\n",
       "      <td>f</td>\n",
       "      <td>NaN</td>\n",
       "      <td>1</td>\n",
       "      <td>2016</td>\n",
       "      <td>2016-01</td>\n",
       "    </tr>\n",
       "    <tr>\n",
       "      <th>4</th>\n",
       "      <td>241032</td>\n",
       "      <td>2016-01-08</td>\n",
       "      <td>f</td>\n",
       "      <td>NaN</td>\n",
       "      <td>1</td>\n",
       "      <td>2016</td>\n",
       "      <td>2016-01</td>\n",
       "    </tr>\n",
       "  </tbody>\n",
       "</table>\n",
       "</div>"
      ],
      "text/plain": [
       "  listing_id        date available  price  month  year month_year\n",
       "0     241032  2016-01-04         t   85.0      1  2016    2016-01\n",
       "1     241032  2016-01-05         t   85.0      1  2016    2016-01\n",
       "2     241032  2016-01-06         f    NaN      1  2016    2016-01\n",
       "3     241032  2016-01-07         f    NaN      1  2016    2016-01\n",
       "4     241032  2016-01-08         f    NaN      1  2016    2016-01"
      ]
     },
     "execution_count": 13,
     "metadata": {},
     "output_type": "execute_result"
    }
   ],
   "source": [
    "# listing_id\n",
    "calendar['listing_id'] = calendar['listing_id'].astype(str)\n",
    "\n",
    "# month, year and month_year\n",
    "calendar['month'] = pd.DatetimeIndex(calendar['date']).month\n",
    "calendar['year'] = pd.DatetimeIndex(calendar['date']).year\n",
    "calendar['month_year'] = pd.to_datetime(calendar['date']).dt.to_period('M')\n",
    "\n",
    "# price\n",
    "calendar['price'] = calendar['price'].apply(lambda x: float((x[1:].replace(',',''))) if type(x) != float else x)\n",
    "\n",
    "calendar.head()"
   ]
  },
  {
   "cell_type": "markdown",
   "id": "5d8cfdfa-b4b1-4cfb-8d37-d52bb770f8c0",
   "metadata": {},
   "source": [
    "# 4. Modeling & Evaluation"
   ]
  },
  {
   "cell_type": "markdown",
   "id": "3bf80112-e83c-44ab-aa02-4f99f2296455",
   "metadata": {},
   "source": [
    "## Question 1. Where are more Airbnb properties in Settle????"
   ]
  },
  {
   "cell_type": "code",
   "execution_count": 14,
   "id": "14bcb5f1-bda3-4e16-95e7-4ab9e386bab3",
   "metadata": {
    "execution": {
     "iopub.execute_input": "2023-01-04T14:10:48.425383Z",
     "iopub.status.busy": "2023-01-04T14:10:48.425383Z",
     "iopub.status.idle": "2023-01-04T14:10:48.668383Z",
     "shell.execute_reply": "2023-01-04T14:10:48.667883Z",
     "shell.execute_reply.started": "2023-01-04T14:10:48.425383Z"
    }
   },
   "outputs": [
    {
     "data": {
      "image/png": "[encoded data removed]",
      "text/plain": [
       "<Figure size 2000x1000 with 1 Axes>"
      ]
     },
     "metadata": {},
     "output_type": "display_data"
    }
   ],
   "source": [
    "zip = listings['zipcode'].value_counts()\n",
    "zip = zip.to_frame().reset_index()\n",
    "zip = zip.rename({'index':'zipcode', 'zipcode':'listingid_count'}, axis=1)\n",
    "zip['zipcode'].astype('str')\n",
    "\n",
    "\n",
    "plt.figure(figsize = (20,10))\n",
    "plt.bar(zip['zipcode'], zip['listingid_count'])\n",
    "plt.xlabel('zipcode')\n",
    "plt.xticks(zip['zipcode'])\n",
    "plt.ylabel('listingid_count')\n",
    "plt.title('listingid_count by zipcode')\n",
    "plt.show()"
   ]
  },
  {
   "cell_type": "code",
   "execution_count": 15,
   "id": "18fd0314-e1cc-4d0c-82a9-4d4c36fede53",
   "metadata": {
    "execution": {
     "iopub.execute_input": "2023-01-04T14:11:01.228385Z",
     "iopub.status.busy": "2023-01-04T14:11:01.228385Z",
     "iopub.status.idle": "2023-01-04T14:11:01.238384Z",
     "shell.execute_reply": "2023-01-04T14:11:01.237883Z",
     "shell.execute_reply.started": "2023-01-04T14:11:01.228385Z"
    }
   },
   "outputs": [
    {
     "name": "stdout",
     "output_type": "stream",
     "text": [
      "Top 5 areas which have the highest number of Airbnb properties in Seattle are: \n"
     ]
    },
    {
     "data": {
      "text/html": [
       "<div>\n",
       "<style scoped>\n",
       "    .dataframe tbody tr th:only-of-type {\n",
       "        vertical-align: middle;\n",
       "    }\n",
       "\n",
       "    .dataframe tbody tr th {\n",
       "        vertical-align: top;\n",
       "    }\n",
       "\n",
       "    .dataframe thead th {\n",
       "        text-align: right;\n",
       "    }\n",
       "</style>\n",
       "<table border=\"1\" class=\"dataframe\">\n",
       "  <thead>\n",
       "    <tr style=\"text-align: right;\">\n",
       "      <th></th>\n",
       "      <th>zipcode</th>\n",
       "      <th>listingid_count</th>\n",
       "    </tr>\n",
       "  </thead>\n",
       "  <tbody>\n",
       "    <tr>\n",
       "      <th>0</th>\n",
       "      <td>98122</td>\n",
       "      <td>420</td>\n",
       "    </tr>\n",
       "    <tr>\n",
       "      <th>1</th>\n",
       "      <td>98103</td>\n",
       "      <td>394</td>\n",
       "    </tr>\n",
       "    <tr>\n",
       "      <th>2</th>\n",
       "      <td>98102</td>\n",
       "      <td>339</td>\n",
       "    </tr>\n",
       "    <tr>\n",
       "      <th>3</th>\n",
       "      <td>98105</td>\n",
       "      <td>225</td>\n",
       "    </tr>\n",
       "    <tr>\n",
       "      <th>4</th>\n",
       "      <td>98109</td>\n",
       "      <td>202</td>\n",
       "    </tr>\n",
       "  </tbody>\n",
       "</table>\n",
       "</div>"
      ],
      "text/plain": [
       "  zipcode  listingid_count\n",
       "0   98122              420\n",
       "1   98103              394\n",
       "2   98102              339\n",
       "3   98105              225\n",
       "4   98109              202"
      ]
     },
     "execution_count": 15,
     "metadata": {},
     "output_type": "execute_result"
    }
   ],
   "source": [
    "print('Top 5 areas which have the highest number of Airbnb properties in Seattle are: ')\n",
    "zip.head()"
   ]
  },
  {
   "cell_type": "markdown",
   "id": "8e1f3353-754a-4482-aa93-9be919350fdd",
   "metadata": {},
   "source": [
    "Top 5 areas which have the highest number of Airbnb properties in Seattle are: 98122, 98103, 98102, 98105, 98109. They all in the center of Seattle and near Lake Washington where has the most convenient transportation."
   ]
  },
  {
   "cell_type": "markdown",
   "id": "b3138f85-2443-45b5-9145-332bb7a1105a",
   "metadata": {},
   "source": [
    "## Question 2. What is the distribution of properties in the city limits?"
   ]
  },
  {
   "cell_type": "code",
   "execution_count": 16,
   "id": "14a8942a-e9e6-4ff8-aba6-c57abff37c4a",
   "metadata": {
    "execution": {
     "iopub.execute_input": "2023-01-04T14:17:01.667387Z",
     "iopub.status.busy": "2023-01-04T14:17:01.667387Z",
     "iopub.status.idle": "2023-01-04T14:17:01.687384Z",
     "shell.execute_reply": "2023-01-04T14:17:01.686883Z",
     "shell.execute_reply.started": "2023-01-04T14:17:01.667387Z"
    }
   },
   "outputs": [
    {
     "data": {
      "text/html": [
       "<div>\n",
       "<style scoped>\n",
       "    .dataframe tbody tr th:only-of-type {\n",
       "        vertical-align: middle;\n",
       "    }\n",
       "\n",
       "    .dataframe tbody tr th {\n",
       "        vertical-align: top;\n",
       "    }\n",
       "\n",
       "    .dataframe thead th {\n",
       "        text-align: right;\n",
       "    }\n",
       "</style>\n",
       "<table border=\"1\" class=\"dataframe\">\n",
       "  <thead>\n",
       "    <tr style=\"text-align: right;\">\n",
       "      <th></th>\n",
       "      <th>name</th>\n",
       "      <th>counts</th>\n",
       "    </tr>\n",
       "  </thead>\n",
       "  <tbody>\n",
       "    <tr>\n",
       "      <th>0</th>\n",
       "      <td>Broadway</td>\n",
       "      <td>397</td>\n",
       "    </tr>\n",
       "    <tr>\n",
       "      <th>1</th>\n",
       "      <td>Belltown</td>\n",
       "      <td>234</td>\n",
       "    </tr>\n",
       "    <tr>\n",
       "      <th>2</th>\n",
       "      <td>Wallingford</td>\n",
       "      <td>167</td>\n",
       "    </tr>\n",
       "    <tr>\n",
       "      <th>3</th>\n",
       "      <td>Fremont</td>\n",
       "      <td>158</td>\n",
       "    </tr>\n",
       "    <tr>\n",
       "      <th>4</th>\n",
       "      <td>Minor</td>\n",
       "      <td>135</td>\n",
       "    </tr>\n",
       "  </tbody>\n",
       "</table>\n",
       "</div>"
      ],
      "text/plain": [
       "          name  counts\n",
       "0     Broadway     397\n",
       "1     Belltown     234\n",
       "2  Wallingford     167\n",
       "3      Fremont     158\n",
       "4        Minor     135"
      ]
     },
     "execution_count": 16,
     "metadata": {},
     "output_type": "execute_result"
    }
   ],
   "source": [
    "area_counts = listings['neighbourhood_cleansed'].value_counts().rename_axis('name').reset_index(name='counts')\n",
    "area_counts.head()"
   ]
  },
  {
   "cell_type": "code",
   "execution_count": 17,
   "id": "a4a253f9-c356-416f-8551-eb69703ecfb2",
   "metadata": {
    "execution": {
     "iopub.execute_input": "2023-01-04T14:17:18.646383Z",
     "iopub.status.busy": "2023-01-04T14:17:18.646383Z",
     "iopub.status.idle": "2023-01-04T14:17:18.659384Z",
     "shell.execute_reply": "2023-01-04T14:17:18.658884Z",
     "shell.execute_reply.started": "2023-01-04T14:17:18.646383Z"
    }
   },
   "outputs": [
    {
     "data": {
      "text/plain": [
       "array([[  47.63628904, -122.3710252 ],\n",
       "       [  47.63912312, -122.36566646],\n",
       "       [  47.62972413, -122.36948318],\n",
       "       ...,\n",
       "       [  47.50845297, -122.24060703],\n",
       "       [  47.63233495, -122.27553032],\n",
       "       [  47.6411863 , -122.34208458]])"
      ]
     },
     "execution_count": 17,
     "metadata": {},
     "output_type": "execute_result"
    }
   ],
   "source": [
    "listing_coordinates = listings[['latitude', 'longitude']]\n",
    "listing_coordinates.values"
   ]
  },
  {
   "cell_type": "code",
   "execution_count": 22,
   "id": "b2abb742-6f3b-489e-8440-1d5417434fb2",
   "metadata": {
    "execution": {
     "iopub.execute_input": "2023-01-04T14:27:42.041922Z",
     "iopub.status.busy": "2023-01-04T14:27:42.041922Z",
     "iopub.status.idle": "2023-01-04T14:27:42.084424Z",
     "shell.execute_reply": "2023-01-04T14:27:42.083921Z",
     "shell.execute_reply.started": "2023-01-04T14:27:42.041922Z"
    },
    "tags": []
   },
   "outputs": [
    {
     "data": {
      "text/html": [
       "<div style=\"width:100%;\"><div style=\"position:relative;width:100%;height:0;padding-bottom:60%;\"><span style=\"color:#565656\">Make this Notebook Trusted to load map: File -> Trust Notebook</span><iframe srcdoc=\"&lt;!DOCTYPE html&gt;\n",
       "&lt;html&gt;\n",
       "&lt;head&gt;\n",
       "    \n",
       "    &lt;meta http-equiv=&quot;content-type&quot; content=&quot;text/html; charset=UTF-8&quot; /&gt;\n",
       "    \n",
       "        &lt;script&gt;\n",
       "            L_NO_TOUCH = false;\n",
       "            L_DISABLE_3D = false;\n",
       "        &lt;/script&gt;\n",
       "    \n",
       "    &lt;style&gt;html, body {width: 100%;height: 100%;margin: 0;padding: 0;}&lt;/style&gt;\n",
       "    &lt;style&gt;#map {position:absolute;top:0;bottom:0;right:0;left:0;}&lt;/style&gt;\n",
       "    &lt;script src=&quot;https://cdn.jsdelivr.net/npm/leaflet@1.9.3/dist/leaflet.js&quot;&gt;&lt;/script&gt;\n",
       "    &lt;script src=&quot;https://code.jquery.com/jquery-1.12.4.min.js&quot;&gt;&lt;/script&gt;\n",
       "    &lt;script src=&quot;https://cdn.jsdelivr.net/npm/bootstrap@5.2.2/dist/js/bootstrap.bundle.min.js&quot;&gt;&lt;/script&gt;\n",
       "    &lt;script src=&quot;https://cdnjs.cloudflare.com/ajax/libs/Leaflet.awesome-markers/2.0.2/leaflet.awesome-markers.js&quot;&gt;&lt;/script&gt;\n",
       "    &lt;link rel=&quot;stylesheet&quot; href=&quot;https://cdn.jsdelivr.net/npm/leaflet@1.9.3/dist/leaflet.css&quot;/&gt;\n",
       "    &lt;link rel=&quot;stylesheet&quot; href=&quot;https://cdn.jsdelivr.net/npm/bootstrap@5.2.2/dist/css/bootstrap.min.css&quot;/&gt;\n",
       "    &lt;link rel=&quot;stylesheet&quot; href=&quot;https://netdna.bootstrapcdn.com/bootstrap/3.0.0/css/bootstrap.min.css&quot;/&gt;\n",
       "    &lt;link rel=&quot;stylesheet&quot; href=&quot;https://cdn.jsdelivr.net/npm/@fortawesome/fontawesome-free@6.2.0/css/all.min.css&quot;/&gt;\n",
       "    &lt;link rel=&quot;stylesheet&quot; href=&quot;https://cdnjs.cloudflare.com/ajax/libs/Leaflet.awesome-markers/2.0.2/leaflet.awesome-markers.css&quot;/&gt;\n",
       "    &lt;link rel=&quot;stylesheet&quot; href=&quot;https://cdn.jsdelivr.net/gh/python-visualization/folium/folium/templates/leaflet.awesome.rotate.min.css&quot;/&gt;\n",
       "    \n",
       "            &lt;meta name=&quot;viewport&quot; content=&quot;width=device-width,\n",
       "                initial-scale=1.0, maximum-scale=1.0, user-scalable=no&quot; /&gt;\n",
       "            &lt;style&gt;\n",
       "                #map_c5e538559d47f628b12ae991fc4aaae4 {\n",
       "                    position: relative;\n",
       "                    width: 100.0%;\n",
       "                    height: 100.0%;\n",
       "                    left: 0.0%;\n",
       "                    top: 0.0%;\n",
       "                }\n",
       "                .leaflet-container { font-size: 1rem; }\n",
       "            &lt;/style&gt;\n",
       "        \n",
       "    &lt;script src=&quot;https://cdn.jsdelivr.net/gh/python-visualization/folium@main/folium/templates/leaflet_heat.min.js&quot;&gt;&lt;/script&gt;\n",
       "&lt;/head&gt;\n",
       "&lt;body&gt;\n",
       "    \n",
       "    \n",
       "            &lt;div class=&quot;folium-map&quot; id=&quot;map_c5e538559d47f628b12ae991fc4aaae4&quot; &gt;&lt;/div&gt;\n",
       "        \n",
       "&lt;/body&gt;\n",
       "&lt;script&gt;\n",
       "    \n",
       "    \n",
       "            var map_c5e538559d47f628b12ae991fc4aaae4 = L.map(\n",
       "                &quot;map_c5e538559d47f628b12ae991fc4aaae4&quot;,\n",
       "                {\n",
       "                    center: [47.608013, -122.335167],\n",
       "                    crs: L.CRS.EPSG3857,\n",
       "                    zoom: 12,\n",
       "                    zoomControl: true,\n",
       "                    preferCanvas: false,\n",
       "                }\n",
       "            );\n",
       "\n",
       "            \n",
       "\n",
       "        \n",
       "    \n",
       "            var tile_layer_b84522c2ecc5e94e551a10fe9bcd4f41 = L.tileLayer(\n",
       "                &quot;https://{s}.tile.openstreetmap.org/{z}/{x}/{y}.png&quot;,\n",
       "                {&quot;attribution&quot;: &quot;Data by \\u0026copy; \\u003ca target=\\&quot;_blank\\&quot; href=\\&quot;http://openstreetmap.org\\&quot;\\u003eOpenStreetMap\\u003c/a\\u003e, under \\u003ca target=\\&quot;_blank\\&quot; href=\\&quot;http://www.openstreetmap.org/copyright\\&quot;\\u003eODbL\\u003c/a\\u003e.&quot;, &quot;detectRetina&quot;: false, &quot;maxNativeZoom&quot;: 18, &quot;maxZoom&quot;: 18, &quot;minZoom&quot;: 0, &quot;noWrap&quot;: false, &quot;opacity&quot;: 1, &quot;subdomains&quot;: &quot;abc&quot;, &quot;tms&quot;: false}\n",
       "            ).addTo(map_c5e538559d47f628b12ae991fc4aaae4);\n",
       "        \n",
       "    \n",
       "            var heat_map_b5c243d9d40aa97d027fab1fda688408 = L.heatLayer(\n",
       "                [[47.636289038357184, -122.37102519997764], [47.63912312136253, -122.36566646439582], [47.62972413157736, -122.3694831756176], [47.638473201766416, -122.36927912263018], [47.63291840276724, -122.37247063402224], [47.63052548240193, -122.36617406518856], [47.63660544532006, -122.36851905844937], [47.64016054121466, -122.37585597885769], [47.63241029982899, -122.35721606914028], [47.63749172022628, -122.3668885909212], [47.63548170841016, -122.35847776162176], [47.63721407513561, -122.3600457614146], [47.63554551151239, -122.37317075183506], [47.62950680923431, -122.3676292967417], [47.63920265551509, -122.36586274154313], [47.63564979343857, -122.37289282480928], [47.62620037381708, -122.36660192617585], [47.64064587578452, -122.37240588895553], [47.63977587341084, -122.37223535879995], [47.63602477658138, -122.35869359564737], [47.62794033813239, -122.36495872243864], [47.636374262238846, -122.36103343324052], [47.63563222417987, -122.35888090262146], [47.63339395777785, -122.37191994372272], [47.63851671212965, -122.36958103291498], [47.63139734518299, -122.367766870679], [47.63875224201261, -122.36797266885502], [47.63926602026095, -122.37472581108145], [47.62990711611138, -122.36894813824875], [47.63981586823574, -122.37433846349175], [47.63900777818944, -122.36532007300232], [47.63508504491007, -122.36444347330422], [47.640633234573535, -122.37270939338376], [47.63812148697112, -122.37578997278467], [47.62981553345287, -122.36621233485974], [47.639810187873806, -122.37380062876858], [47.63556952470362, -122.3616525946424], [47.63497873047923, -122.35886941246471], [47.63936210298089, -122.37240255654484], [47.6346162843086, -122.3580227325536], [47.63800137747846, -122.36100481691408], [47.63199585097701, -122.3716576650487], [47.63868624334983, -122.37079986877468], [47.633650043720536, -122.36044969320191], [47.63430017546052, -122.35705980444612], [47.62834386974812, -122.36640542137962], [47.63539394059413, -122.36899114110729], [47.63803515893716, -122.36091010563622], [47.63933158548954, -122.36159942269484], [47.63530805145543, -122.36653170901198], [47.63737488413853, -122.36941092468903], [47.63829756707327, -122.37377871072084], [47.63175343884966, -122.37127173011557], [47.63858056073184, -122.3753257408229], [47.63788372174487, -122.3673710937777], [47.63751734544927, -122.36081167446434], [47.63687417802139, -122.37227171191188], [47.632562742655686, -122.36722284674144], [47.63532192210432, -122.36612114800724], [47.63263390932941, -122.36931844777416], [47.63260003819552, -122.36995243412568], [47.64105215050513, -122.37508173306394], [47.63140094589966, -122.3676901333062], [47.64152492560981, -122.3761503724508], [47.635310702971786, -122.36350557505072], [47.66932717471968, -122.39259356469373], [47.67407415557543, -122.3938640503292], [47.67362807262794, -122.38930195133072], [47.6684599605579, -122.37951599522182], [47.670662322939705, -122.37866592236747], [47.67264618041156, -122.3893330272264], [47.67317538409765, -122.38225959936204], [47.66793300136605, -122.3786524676208], [47.67296864487422, -122.39733818247204], [47.66862741947888, -122.3894959253679], [47.67011138347177, -122.39386928567664], [47.671690500882136, -122.38523906517403], [47.67083617832085, -122.39253711071063], [47.67088677445985, -122.39302934993714], [47.67011497066786, -122.3929944430576], [47.67430793211146, -122.37674229798984], [47.67125039125342, -122.38263911755712], [47.6686920575291, -122.39608935555252], [47.67180552427677, -122.38804711763316], [47.67141840265096, -122.38538535838536], [47.66874895490854, -122.38386997628156], [47.67268172430127, -122.38773072437924], [47.669681845352216, -122.3909884706122], [47.675044037520806, -122.38271491715572], [47.66797916893154, -122.38210544982788], [47.67324984968532, -122.38733165189252], [47.67553326838632, -122.37632401407798], [47.675708114276055, -122.38755942597574], [47.67477102702812, -122.38583049183896], [47.669874319189546, -122.38771744416978], [47.670975763542906, -122.38782530429948], [47.67333938829472, -122.39512028203794], [47.67100488663872, -122.38138141804372], [47.67170353055552, -122.37633810114096], [47.67175997191882, -122.39002012190964], [47.67481867247337, -122.38752123193476], [47.673004006803325, -122.38500476109115], [47.670394534161645, -122.39389700139684], [47.67582151758453, -122.38971013062891], [47.67228446216902, -122.38231353831996], [47.6722723724429, -122.38413221284148], [47.67575024473943, -122.37657992996256], [47.67260212498738, -122.38844149131732], [47.66676678367042, -122.3812426518729], [47.67550084177057, -122.38890631386724], [47.67575764326512, -122.37879830487678], [47.66780058682701, -122.38830016297266], [47.669371290094354, -122.37628776467491], [47.66896087580327, -122.39387694463308], [47.67168770578295, -122.3925585891835], [47.67180998159056, -122.38343718053753], [47.66502232989992, -122.38279676983008], [47.66898920822731, -122.39514528093302], [47.66935430313959, -122.39034762933292], [47.67166567877917, -122.37791232634322], [47.67058142200578, -122.3822111614972], [47.67210896416091, -122.38358854815434], [47.671458070061, -122.3791744931495], [47.671559770588594, -122.38270398820174], [47.67283504028537, -122.38747162849462], [47.67397128782682, -122.38938054168425], [47.67360709682782, -122.39380285936105], [47.66939869221165, -122.38925404053214], [47.67217669776719, -122.39036168722622], [47.67349962278431, -122.38696357012668], [47.66934442551612, -122.38653914653788], [47.671921801519815, -122.38065681959446], [47.66934543707652, -122.3969734650869], [47.66746397778186, -122.37825532356035], [47.67181197349134, -122.38898134331578], [47.67082046273361, -122.37051108183849], [47.66373440372556, -122.36208010121663], [47.66759680332012, -122.36470165349674], [47.67053238312327, -122.3653184658712], [47.66676677493285, -122.36882353054044], [47.67235397537273, -122.36617489987724], [47.66583686586745, -122.37013230902768], [47.67433308471203, -122.3756779846251], [47.672691738016646, -122.37355860934434], [47.67529056125138, -122.3704740867495], [47.66899339456252, -122.36286030212108], [47.66879474989719, -122.36161253562618], [47.67388232209365, -122.37462627764069], [47.66578734385211, -122.36199230817006], [47.67228262980748, -122.37316164543348], [47.66835401382791, -122.36113882173048], [47.66880846075268, -122.3662617896586], [47.66832396294996, -122.37182116588184], [47.672372403565824, -122.36284167727256], [47.66388205553107, -122.36217494637008], [47.670928653094855, -122.36678178087116], [47.67261671354907, -122.37439272047212], [47.67271727544414, -122.3614171313138], [47.67274336154873, -122.37319448871268], [47.66454921287359, -122.36820885545076], [47.66658567122086, -122.3656518297328], [47.67171434029387, -122.36588759794856], [47.66686785296194, -122.36403130868251], [47.66807053413411, -122.36208615998127], [47.67212368546617, -122.36500937361328], [47.67358404078293, -122.37381429203026], [47.66337838362958, -122.36469149710264], [47.66934138807211, -122.36626412798002], [47.66493715631803, -122.36167965105034], [47.66884466698575, -122.36837930645352], [47.66501670356925, -122.36470709008395], [47.66893752195504, -122.3733392272172], [47.66597002223229, -122.36863925023113], [47.67431327427621, -122.3679688358834], [47.66520903071561, -122.36245654108222], [47.6644454546346, -122.3701709809324], [47.6668216771774, -122.36293667267698], [47.67122242982592, -122.36368689464132], [47.66365549017706, -122.36694111938831], [47.67548902955034, -122.36751450938364], [47.66688717008992, -122.36466408857248], [47.673571182372754, -122.36427426098558], [47.66524463768145, -122.37040951426208], [47.6716795637434, -122.36538980595968], [47.66624016921079, -122.36091774648482], [47.67091242440639, -122.36559953129216], [47.67098702442725, -122.37514055469671], [47.66539135407781, -122.36609876373974], [47.67342403072462, -122.37423278945565], [47.67155243448252, -122.36763330550473], [47.66338811065872, -122.36137836276784], [47.66336497817738, -122.36246852511682], [47.67076134600554, -122.3710950340088], [47.6759157416881, -122.37047360265642], [47.66365131127364, -122.3620817788268], [47.66525243324793, -122.36192069117308], [47.671334420188046, -122.3657976203187], [47.67307821308784, -122.36414012428024], [47.666785348808254, -122.36675142388304], [47.63184303730085, -122.34512350364072], [47.62812030680687, -122.34875209868711], [47.643599733762926, -122.34462988872022], [47.628894791967326, -122.34757144638264], [47.63899882105632, -122.34357393149686], [47.639500826233096, -122.3433038877346], [47.63152635962671, -122.35628277607007], [47.64017716917174, -122.34652263514218], [47.64290503084548, -122.34670499078108], [47.64075557421937, -122.34287656419664], [47.63544455882173, -122.35551660487096], [47.642697171642624, -122.3436911432716], [47.638923009567264, -122.34282687028396], [47.642912112464536, -122.3446833199524], [47.63934586006096, -122.34313235161407], [47.63507292926039, -122.35459413199024], [47.62857355428276, -122.35590915697244], [47.63793825819439, -122.35072564856766], [47.62930930813364, -122.34413623476452], [47.63050640341463, -122.34502206933224], [47.63021399726569, -122.34761508910964], [47.62954816309299, -122.3465965676034], [47.63376670078833, -122.34461541236196], [47.63444163867191, -122.343784147235], [47.63211912885084, -122.34681925491051], [47.63043465175436, -122.35017116506448], [47.638406836124176, -122.34407700488276], [47.62900387234053, -122.34382334831317], [47.639358667537145, -122.34402874897694], [47.64011972075073, -122.3445298134504], [47.638157777568814, -122.34415740858152], [47.63987162110587, -122.34183446186633], [47.63214523371973, -122.35064869111656], [47.634532624200055, -122.34379009996228], [47.62994743327768, -122.35138796733872], [47.631921428247104, -122.34852025483625], [47.64154276225782, -122.34466124326784], [47.6381290280144, -122.35237403416497], [47.63279987984936, -122.34655790024463], [47.63082668971104, -122.35622983326977], [47.632756398999646, -122.34698651876325], [47.62846483912497, -122.34654808940331], [47.64236917257364, -122.34408644762196], [47.6293876955458, -122.34592466867242], [47.63685503386989, -122.3568734622366], [47.636302850564185, -122.34782710866662], [47.63321404453066, -122.35493979697122], [47.6294311046409, -122.34529372563878], [47.63770584557101, -122.34398776349178], [47.62917175155999, -122.34747869430645], [47.64219185671586, -122.34643033714576], [47.64034606220687, -122.34208824893022], [47.62905146544943, -122.35098931248784], [47.6298343737372, -122.34687216497706], [47.64051552579719, -122.34450402727064], [47.63000397302036, -122.34512025210604], [47.64103957706407, -122.34440379321084], [47.63111241577231, -122.34396424619324], [47.640468037954136, -122.35576374487084], [47.63953891558456, -122.34484750829438], [47.640711112744434, -122.34631792958152], [47.64145197176003, -122.3528848146092], [47.64387482741456, -122.3461443303754], [47.63911467903458, -122.3542986237147], [47.64032332485242, -122.34938628124064], [47.62963743240054, -122.35616910345657], [47.637037588516726, -122.35311103362456], [47.63394911960187, -122.34969113411306], [47.637867516806345, -122.35306449740874], [47.6373655271738, -122.35234397791731], [47.63784753756462, -122.35358689021068], [47.63180065694061, -122.35599765681252], [47.63831371623401, -122.34293120979892], [47.628336410982975, -122.34633351817844], [47.64007889186826, -122.3452415261875], [47.638925421559, -122.35628823238493], [47.64001746321101, -122.34512962576213], [47.638790428511285, -122.3415790051676], [47.62919530710048, -122.34803448837113], [47.63933710162693, -122.34429137032254], [47.63033292131741, -122.347626924165], [47.65386101204191, -122.33849652099612], [47.66772999173181, -122.3268727001244], [47.66144065343326, -122.3439529618668], [47.661669033175045, -122.33374306236075], [47.65317215961197, -122.3372993893043], [47.66458664481404, -122.33305766786964], [47.66407098417638, -122.33537936202671], [47.653898557321526, -122.3380691939344], [47.67094939067514, -122.32474046736364], [47.666182735594624, -122.33461063169432], [47.67150263280098, -122.3278906401913], [47.66546743318308, -122.32357372932864], [47.66698490125298, -122.3394021787658], [47.65373805266103, -122.33898023342284], [47.66895679099421, -122.33778254712875], [47.655884937674095, -122.33213596885538], [47.65163618936747, -122.33862181944848], [47.66540203117213, -122.33938691677308], [47.65361625263687, -122.33255974968444], [47.66474421816979, -122.33817376864796], [47.6658556433007, -122.32269067037302], [47.656355151737706, -122.33810372251084], [47.66014668205187, -122.34153026794368], [47.666920146015286, -122.33879416148388], [47.65158617574105, -122.3399027062465], [47.65595529400546, -122.33215539804296], [47.659911781579, -122.33768605553892], [47.66103159060855, -122.33516407166192], [47.668363121514425, -122.33888694146142], [47.66369538720739, -122.33622518099068], [47.65611906078057, -122.33903153017856], [47.661282947712735, -122.3268359580298], [47.66107312509288, -122.33349810116547], [47.669802242996695, -122.33853950847008], [47.6558966497027, -122.32653464093583], [47.65085837675028, -122.33133778707744], [47.66150338637424, -122.33425704669044], [47.66922780939365, -122.3351737225184], [47.66414745432069, -122.33424953721756], [47.64857217450708, -122.34075910815412], [47.65707097851384, -122.32388010549494], [47.66735093611901, -122.33992279997872], [47.66243175651926, -122.34679235101969], [47.6508909185423, -122.3335344192157], [47.67206214825999, -122.32492826355102], [47.65215975992442, -122.33943011802263], [47.66228939790632, -122.34609005160766], [47.66668939085139, -122.33927120405662], [47.66667110358891, -122.33260174961887], [47.67065921638415, -122.33596188370134], [47.65430640018783, -122.33022622207292], [47.659400414593485, -122.32450712276416], [47.64970820103404, -122.33101527388114], [47.6509338347498, -122.33132580833848], [47.650972509616594, -122.33088417302577], [47.65002386715329, -122.33280306183389], [47.66182279618636, -122.32930066581253], [47.66140493966286, -122.3454721739557], [47.65736191503488, -122.32762492574577], [47.64985411901644, -122.3306847925706], [47.6512939217661, -122.33103178451675], [47.64983061112128, -122.334331356761], [47.65945121010363, -122.32913667001743], [47.669479057894485, -122.3294414938728], [47.66097944489599, -122.33348297952595], [47.66846777167293, -122.3266958030204], [47.665213571557, -122.3367529584816], [47.66116477884383, -122.33684627403572], [47.65098656428652, -122.34170482145844], [47.65512858293506, -122.33528820422292], [47.65021118760789, -122.3320347790396], [47.65055155589547, -122.3305886624664], [47.66286984193, -122.3248900919911], [47.666596240934965, -122.33791231361248], [47.66330128614055, -122.34345865259765], [47.65809327062868, -122.33171648220493], [47.657672362907554, -122.32584829272088], [47.65020660581188, -122.3311042722245], [47.64952915650776, -122.33217737474172], [47.65372000225723, -122.33838833446576], [47.65059635588992, -122.33403785270656], [47.65787895565664, -122.34179972269035], [47.661893831846726, -122.32374943731676], [47.66266784221877, -122.34504411165372], [47.6699022378915, -122.32404868714583], [47.66400538383212, -122.3283365610624], [47.65934280176169, -122.33193947567312], [47.662630628787824, -122.3461181734977], [47.6551029666014, -122.33604357704404], [47.64734509722329, -122.33348616103396], [47.66214454021592, -122.32401692473348], [47.653210087388594, -122.3399708450672], [47.6509424526273, -122.33258893048549], [47.6535538226472, -122.32896848495692], [47.66436892647994, -122.33063560194849], [47.670252754668304, -122.3288855590358], [47.66031845198722, -122.33190515117818], [47.6541086069472, -122.33760528816453], [47.64996079853613, -122.33270150932088], [47.65769988179397, -122.33415131299296], [47.651581662709255, -122.33079667212384], [47.67084570118031, -122.33746656281208], [47.66809218842, -122.3367732835758], [47.664320192586864, -122.32917532528678], [47.66291652478462, -122.32672333140722], [47.67081358173347, -122.32748553967812], [47.65491444978424, -122.33807522559133], [47.67164209517876, -122.3252767752146], [47.66982240890338, -122.32696044584804], [47.65084965555605, -122.33291072019222], [47.65543134648598, -122.33342234576538], [47.66230982225841, -122.3268488016782], [47.66332376042779, -122.32575641729169], [47.66580250357935, -122.33876739833978], [47.65254158522795, -122.33876859641788], [47.649898063458174, -122.33125621917527], [47.65899259228358, -122.32466335427704], [47.6680060912153, -122.3293890374673], [47.666424882155205, -122.33490521305129], [47.65166320337482, -122.33968504915391], [47.65349107957978, -122.34095341331717], [47.6570827282358, -122.32655113710162], [47.67096384666843, -122.32886331069498], [47.66191805778083, -122.3249911936322], [47.6509940204123, -122.33234504670516], [47.65612701676519, -122.33530288727115], [47.66752607642939, -122.32891105159128], [47.65929724244516, -122.3330959836512], [47.6525762621653, -122.32873603122351], [47.65410156586528, -122.33851094420066], [47.67048822217898, -122.32260006958822], [47.65668734140474, -122.32656987944428], [47.652434156093086, -122.3378533128977], [47.64826946132916, -122.33703239045413], [47.66817599754457, -122.33737078892932], [47.670267202096966, -122.32537254083478], [47.661905511973, -122.323971662859], [47.66222165880239, -122.32358714068236], [47.66632646722553, -122.33374126317668], [47.66198073763037, -122.34609578500071], [47.654476789922704, -122.33646426288396], [47.65127573416264, -122.33279650289032], [47.6642271115897, -122.33904925011102], [47.66121706051919, -122.33942421330588], [47.66247669890075, -122.3326592048572], [47.66369277578446, -122.32836574381416], [47.66767781200834, -122.3284137681407], [47.66358478630542, -122.34072797645749], [47.65736664396986, -122.3267419776907], [47.66440367941576, -122.33812735653586], [47.654787431000194, -122.33651988462252], [47.65014724729702, -122.3417705080057], [47.649236044709085, -122.3321802410851], [47.67169512983537, -122.32487928245118], [47.64784967397029, -122.33607883941548], [47.65105572913226, -122.33098569942962], [47.648115292177415, -122.33166537419878], [47.65437002180367, -122.32789618932952], [47.65754175863111, -122.34153252138238], [47.66858110521485, -122.33688020592248], [47.66029589021287, -122.34026075100036], [47.669934292457256, -122.32668994810786], [47.67146343960836, -122.33413317558308], [47.65837647388668, -122.32676554716288], [47.658538900609166, -122.32581803195674], [47.66536801249707, -122.33999428735017], [47.6593870611002, -122.34188150985614], [47.64181148252343, -122.37407118740737], [47.646757454269526, -122.35279913111854], [47.64169150649173, -122.35925504623052], [47.64977536416141, -122.35798281170726], [47.64235821035005, -122.37404682885943], [47.642622141001816, -122.36435474422646], [47.64689453994919, -122.36143994699944], [47.65186065987389, -122.36499372093164], [47.64763893577057, -122.35529433604732], [47.64758831759029, -122.35889539343296], [47.64665843980952, -122.35681489262724], [47.65247213891898, -122.36907776663206], [47.65349155528919, -122.36974127038262], [47.64530244683545, -122.36090611299028], [47.6452880124382, -122.37264242636508], [47.64353087698336, -122.36083387335496], [47.641451509062776, -122.37418789203667], [47.64491324750283, -122.3734627733431], [47.64094709939915, -122.357374824587], [47.64141466138152, -122.365496027281], [47.64652744484477, -122.35433431586048], [47.6507952493895, -122.3723846328047], [47.63992530260141, -122.3674312992984], [47.64238208473374, -122.37207284613996], [47.64265653973072, -122.35810822728764], [47.64096457779044, -122.368286189945], [47.64519299025467, -122.37581952643252], [47.644104661696616, -122.3706796342196], [47.643624330969935, -122.3674237242466], [47.654339683168885, -122.37087744288876], [47.65017304308882, -122.3676003804966], [47.650589773235104, -122.37122861345358], [47.649393430202124, -122.3755835210545], [47.64341119246965, -122.36271562950031], [47.6434349985243, -122.37300786803804], [47.64413086059172, -122.35629916528968], [47.64598071656989, -122.35124443334378], [47.65276019670642, -122.36878421115956], [47.64328624276872, -122.37581862242078], [47.64152919286595, -122.35670934868836], [47.64725690168129, -122.35931887654284], [47.64721551159796, -122.35669660398833], [47.64688300013172, -122.3542310165176], [47.647192767771024, -122.35890622951284], [47.64478716402588, -122.35131440111223], [47.64535059290253, -122.3751941751695], [47.64480022366984, -122.37393147214128], [47.64018625598384, -122.36637571211942], [47.64936685732856, -122.37224737692708], [47.643149858934265, -122.35895235791824], [47.64215180918174, -122.36959277569508], [47.64783678240164, -122.35616878067796], [47.644020847602114, -122.375571561826], [47.64266228040768, -122.37108398238104], [47.67701504957937, -122.33084774780092], [47.688265547431456, -122.33585552400169], [47.686145006907466, -122.3321849751381], [47.68532672168496, -122.34238907846724], [47.67330353871278, -122.32251297901789], [47.67803024358791, -122.32648504901016], [47.68415690977499, -122.32597215420334], [47.67373141398342, -122.3345713117135], [47.68976769740704, -122.33464655022172], [47.67467646855027, -122.3334961915704], [47.6733577759528, -122.32732533007768], [47.67491183579188, -122.3252380951683], [47.67431014975748, -122.32266007737906], [47.67708443743182, -122.3235236075421], [47.67452613236305, -122.33347301523406], [47.682260605449805, -122.34344999894368], [47.67556915343221, -122.33277302821662], [47.67650239365669, -122.3255527604734], [47.67535854285697, -122.33338452656102], [47.676058121940336, -122.3232793465981], [47.6763382443755, -122.3295859349241], [47.67805610107565, -122.32224559220342], [47.68770668079719, -122.33577771632416], [47.690448568469705, -122.34218739501554], [47.67552250956003, -122.32429765119242], [47.67232266670014, -122.3219423188122], [47.6853297927933, -122.32485184323632], [47.68378067083367, -122.34201281887876], [47.683544739522105, -122.33091114440992], [47.6746899149564, -122.3324154804086], [47.68587050244162, -122.32756703496166], [47.68009638486844, -122.32342106647218], [47.67314448957891, -122.32595311079731], [47.67659658889269, -122.33077592567152], [47.67644022102626, -122.32749326587074], [47.68427307787124, -122.32661592202152], [47.67030660259595, -122.33909515157718], [47.67571998823421, -122.33217677470728], [47.67853735891897, -122.32501336391968], [47.68724567609187, -122.33469570235958], [47.67345533950756, -122.33721207525872], [47.68713059269259, -122.3345137442024], [47.68833692633032, -122.34390742968702], [47.67611450487329, -122.33243806911608], [47.67132207415538, -122.336826764107], [47.67478054084144, -122.3246218215553], [47.68190776442436, -122.32785335416446], [47.675139184967584, -122.33328389067924], [47.675724025098, -122.32469276256744], [47.68110583872478, -122.32394649076448], [47.67673937453269, -122.33019073342916], [47.68653223716291, -122.33777331275876], [47.68472182069251, -122.338821456984], [47.688906909220506, -122.33401310076852], [47.63347386153112, -122.34344476605077], [47.62794325965197, -122.34127051767652], [47.628664018479576, -122.34270922172894], [47.63201049417837, -122.34273678549263], [47.63296626544111, -122.3413051951908], [47.63340284040974, -122.34263074218238], [47.63119424303562, -122.34130359487251], [47.63619003910564, -122.34258864849213], [47.63615549360155, -122.34042119967522], [47.63262638791507, -122.34180058589548], [47.631673523683965, -122.34050817402728], [47.63730097144283, -122.34015689940765], [47.62937474268793, -122.33974644855031], [47.62715964898084, -122.34322280800365], [47.63058331096555, -122.34344930825112], [47.62820156887668, -122.34351604787196], [47.63435768912089, -122.34099032713756], [47.62001637395433, -122.29980456293592], [47.61331951040391, -122.30056685170116], [47.61375392434961, -122.30045754145362], [47.62191137070222, -122.29750112615385], [47.613036722098826, -122.29945323678372], [47.618252846233766, -122.29846789003402], [47.61305967186488, -122.29738501105558], [47.60312697072383, -122.30067065718514], [47.62091627474815, -122.29791487605736], [47.6121976255837, -122.29777149083864], [47.618586174067296, -122.30150506676604], [47.61608360784067, -122.29817073257844], [47.603270250103705, -122.3021606268358], [47.61763200045236, -122.30055650261596], [47.61780091284801, -122.30002377668248], [47.62039309171455, -122.2995755231249], [47.6198220292028, -122.29796445019862], [47.61894867801814, -122.2983498260121], [47.61110455283242, -122.29913214402768], [47.61401049351889, -122.29660736893614], [47.60957775998547, -122.29886413405028], [47.60526921641393, -122.2987883027356], [47.604237750843424, -122.29944677292688], [47.61818758049492, -122.30192110347144], [47.60888015444575, -122.2987123006504], [47.61433213940118, -122.3013292631539], [47.6148181545578, -122.30034347905833], [47.60921741281968, -122.3025701266539], [47.60846511862368, -122.29685423311096], [47.612157487743005, -122.30119662490958], [47.62013918118004, -122.29635721407102], [47.61532060816362, -122.30176000568297], [47.62022331900628, -122.29857748892704], [47.61231304498604, -122.2982521554196], [47.618710169598565, -122.29642382876408], [47.61518001458239, -122.30161347374188], [47.61285110418292, -122.29968154097976], [47.61323754058683, -122.29766863516026], [47.6139812901005, -122.29673983444886], [47.61893324126997, -122.29985120662792], [47.61118873183955, -122.3007846041714], [47.61662262519432, -122.29860596290534], [47.62088255254932, -122.29774493518411], [47.61297673205196, -122.30147314590172], [47.613796174996175, -122.30072853334316], [47.61942863302132, -122.29827646846728], [47.61119778352579, -122.30108669175176], [47.61822209510685, -122.29853624733953], [47.610498729537525, -122.29725725327305], [47.61015560009247, -122.30240771635629], [47.622336877645154, -122.29743574773848], [47.609522990748616, -122.29865814217558], [47.60810282021911, -122.29706112950724], [47.61847455916663, -122.29867867704992], [47.617102444015096, -122.29655924832736], [47.610402799129744, -122.30033258665728], [47.619161093517405, -122.29865513217156], [47.617208801548976, -122.30175375800732], [47.61286679515595, -122.2984791320944], [47.61560787981952, -122.30189596267968], [47.61742570399484, -122.30090157403644], [47.60881883523649, -122.30073554972392], [47.61294385930088, -122.298556754718], [47.61837466000623, -122.29770520237862], [47.61027135556048, -122.30186882016557], [47.6159681584389, -122.29821734617909], [47.60279527919704, -122.30167436775336], [47.60913635805175, -122.29518831031596], [47.618316340937774, -122.29004929195465], [47.61815491565198, -122.287582643562], [47.61635681786917, -122.29133601492], [47.61356637727895, -122.29005758622452], [47.609263708318856, -122.28573234505552], [47.61619937606606, -122.29119220433402], [47.60823704882705, -122.29008955359618], [47.61316306737074, -122.28232551343288], [47.61708714964424, -122.29313943380076], [47.61043977115341, -122.29561205303987], [47.615005495333385, -122.29000153293624], [47.61455595795184, -122.29017881020184], [47.61093921818367, -122.29408922946628], [47.6109344369786, -122.29382064484582], [47.61096565742065, -122.29332714207015], [47.6086574109611, -122.2948638432924], [47.60907001870248, -122.2961326101736], [47.61495756940349, -122.2891258976365], [47.60974856785952, -122.29010858095336], [47.61632845383795, -122.29548181260728], [47.61028147921465, -122.29574436760574], [47.60814371690935, -122.29196293143596], [47.61498153572323, -122.28356971870316], [47.61853608599045, -122.29572378483228], [47.61251152947628, -122.28994417870128], [47.61121661558367, -122.2960781992296], [47.61601738704285, -122.29266186470431], [47.61018869979217, -122.29217040287496], [47.61152475222442, -122.28881868718734], [47.6112685773953, -122.29146476757282], [47.61568370664231, -122.2851739762994], [47.61593275983533, -122.28531414190576], [47.61750858354696, -122.2920225627565], [47.61589742410733, -122.28204290999324], [47.615199387925664, -122.29417850100458], [47.60808438730835, -122.29434247770308], [47.61625334048031, -122.29306664685824], [47.61512548625005, -122.2944282086226], [47.611710814089335, -122.2877229917884], [47.61608833052863, -122.2885017279892], [47.61553435758195, -122.28300250056908], [47.61056360123111, -122.2863438084951], [47.618353361143605, -122.28745604564772], [47.61648988572799, -122.29401821150424], [47.61217344252554, -122.29192838093992], [47.61556576443697, -122.28527866611972], [47.66519839543154, -122.3052890189639], [47.66415028240257, -122.3039721417717], [47.669407378312215, -122.3083481582267], [47.66404592726376, -122.30353209380635], [47.657329108701006, -122.317467356805], [47.66449697379735, -122.31277272196076], [47.65993300424422, -122.3214421155834], [47.662155161872505, -122.30354468198406], [47.664224523375566, -122.30974096102815], [47.66778802711448, -122.31998465568265], [47.657491746637824, -122.31989780594267], [47.66664004133328, -122.31648237770112], [47.66722261300824, -122.31679834604866], [47.65889784664368, -122.32217328627672], [47.65900535033008, -122.3217559290628], [47.66491324794354, -122.30976375393608], [47.6633935245974, -122.31149608670376], [47.66130990161428, -122.3100722222472], [47.66452089958867, -122.3095983235564], [47.67205628405604, -122.3177188511541], [47.65737283946541, -122.31460629193302], [47.66637833513893, -122.3168924537305], [47.65890869525999, -122.31479362436328], [47.66218140897996, -122.31339111651842], [47.65732954014212, -122.31780935531891], [47.666955929106365, -122.3155975043497], [47.65707081848165, -122.31426023387488], [47.65634216811144, -122.31883984397456], [47.66494949497077, -122.32113277173224], [47.66701647686934, -122.30440085782202], [47.6591700737371, -122.31653539871525], [47.66456190765464, -122.30839942990949], [47.6589290542303, -122.31630780258703], [47.663140025567394, -122.30285003939984], [47.65760578287434, -122.31444467021925], [47.66239538120556, -122.31462984408984], [47.66307119948014, -122.31301726801983], [47.67056917067304, -122.31579486009882], [47.65641448777153, -122.31723831850378], [47.661693639722266, -122.31291415717229], [47.663145437417285, -122.31341300715955], [47.65730353344232, -122.3186601057054], [47.65741764143603, -122.32064407884276], [47.66436520121168, -122.30322582970776], [47.66757537845896, -122.31871564666312], [47.66825151526437, -122.30944969560088], [47.65962584333522, -122.31742070915936], [47.65753035851744, -122.31785317939328], [47.65932930265247, -122.3134564763318], [47.66145427696404, -122.3129248667416], [47.66749233376807, -122.31528244887832], [47.666677244725776, -122.31634372180196], [47.66622474460777, -122.31760932552228], [47.6586576469736, -122.31896668433812], [47.67136970024968, -122.3157986876817], [47.67140572894384, -122.31678474108467], [47.66311746594501, -122.31881338569708], [47.66818255139419, -122.31737174737631], [47.657124776967365, -122.3178221340468], [47.65700652169627, -122.319619660833], [47.66709568535477, -122.31680859382152], [47.66580428060751, -122.32088757675612], [47.66250162237267, -122.31341625338172], [47.666914498204974, -122.31427340251], [47.66125017620657, -122.31439334082393], [47.66581865947708, -122.30317129207454], [47.66765062689846, -122.31948013873952], [47.67119879073299, -122.31509324262348], [47.661322949486696, -122.31498353855407], [47.66443670912076, -122.30673806651392], [47.66116769019262, -122.31465123900637], [47.66101091990224, -122.31373440078272], [47.66267229546644, -122.3043698309528], [47.65895308711308, -122.32197858006728], [47.661484948049086, -122.31569340276803], [47.66852257817995, -122.3154539657994], [47.66948569204274, -122.31455013476597], [47.66129401149544, -122.3131820121498], [47.66317893273352, -122.30399039504596], [47.6640470302401, -122.31821953257312], [47.66871492932789, -122.31631621598132], [47.663122285899576, -122.30983960674465], [47.66833787980445, -122.3151859508812], [47.65836315994907, -122.31800632642232], [47.6610967060518, -122.31877397999848], [47.664423566404345, -122.3032118919272], [47.66044158497392, -122.31376828743196], [47.65877002754865, -122.31369043358384], [47.65825773833654, -122.31356599400932], [47.66154611817469, -122.31479365243338], [47.66856586583583, -122.30746196378225], [47.65883580598525, -122.31814955929693], [47.65721705819162, -122.3142328619162], [47.66692210432474, -122.31720189306375], [47.66299472085648, -122.31022150527043], [47.65824886150637, -122.3176388721325], [47.65856120833457, -122.31608656335912], [47.66147374152716, -122.31356281044512], [47.66765748239081, -122.31780716890728], [47.65665819458098, -122.32031378158015], [47.66270102791644, -122.309732056787], [47.6644857528012, -122.30467063357894], [47.662360599433896, -122.30242395277932], [47.65863155005484, -122.31776635593395], [47.66321788314095, -122.30437085771638], [47.667132180868265, -122.31644887976832], [47.66313457786451, -122.3145582495302], [47.66396766058472, -122.3065184774108], [47.65731408746019, -122.31975999730996], [47.65860891102937, -122.31771304868194], [47.65688213347102, -122.31827300837466], [47.67160466476604, -122.31576541332288], [47.65697101562818, -122.31891805261412], [47.66391817092261, -122.31134231156015], [47.66902313550703, -122.31588247376602], [47.66353217104436, -122.31149151494373], [47.66881617454991, -122.31844165100117], [47.657414116452685, -122.31582407185034], [47.66048820478944, -122.31483485267373], [47.65697035652631, -122.31577978392691], [47.65747556063892, -122.31754267474382], [47.67042421546338, -122.3152792275667], [47.61893903258519, -122.29212341783386], [47.62371456878761, -122.29122744660847], [47.620161895872336, -122.29581428532816], [47.6245934179258, -122.29454683181132], [47.63051111930501, -122.28177129951526], [47.6196623719805, -122.28955653874908], [47.6254344628427, -122.29043889679272], [47.62033230426741, -122.29553458518288], [47.62302601439876, -122.29529805126904], [47.62250279036886, -122.29561574982894], [47.62416949934836, -122.29304472909554], [47.61931690011908, -122.28737367572572], [47.61839317784939, -122.2867805569107], [47.625360711312496, -122.29151781936784], [47.60950172847286, -122.31177157702528], [47.60676849413972, -122.31343767450304], [47.60510733905768, -122.30370783228072], [47.611906101753846, -122.30334868505156], [47.61136902136102, -122.31452866921532], [47.61351809219013, -122.31160539156312], [47.61109190945406, -122.30664837694638], [47.615628149985454, -122.30783687851384], [47.61251670497654, -122.31434526003112], [47.61397307404379, -122.30788827000364], [47.60844248666312, -122.31037597400976], [47.60518579310529, -122.31230222073312], [47.603088586074286, -122.30523403516216], [47.612475395205685, -122.30858195406589], [47.605522788156286, -122.30753011695194], [47.605623322613255, -122.3089054659442], [47.605812709660256, -122.3040398399683], [47.60998161167129, -122.30463983646948], [47.606796138622, -122.30908568485606], [47.60230964999229, -122.30579815011583], [47.60489136952938, -122.30671025942998], [47.610668142295054, -122.31255337250228], [47.60663950616629, -122.30813977196972], [47.61025306382735, -122.30504930183336], [47.60315575549827, -122.30985527636498], [47.604405671315625, -122.30542912804276], [47.61067856169876, -122.31267153040274], [47.61577893596818, -122.30682588342886], [47.60977692020093, -122.3130000524823], [47.60614936046147, -122.30385749227617], [47.606612610869256, -122.30663788977122], [47.60591072855371, -122.3054460005485], [47.60338844044182, -122.3074369687219], [47.6117310242863, -122.30826747009765], [47.61111051030719, -122.31196192197982], [47.61107512723588, -122.31362671917574], [47.61600213564987, -122.30806037546648], [47.61107854284731, -122.3128200572236], [47.6101741808134, -122.3127991934084], [47.60590763613759, -122.31394683611158], [47.60587457085138, -122.3079306886998], [47.6168739874494, -122.3032697208691], [47.60620715184495, -122.30683458000011], [47.60979650050509, -122.31532968312956], [47.61040168539943, -122.31387395092968], [47.60994589077138, -122.31563727442878], [47.60956186323319, -122.31509885196124], [47.61153529516661, -122.3143253380698], [47.61065563546966, -122.31407277869305], [47.60293949917974, -122.30840894035538], [47.61002733935077, -122.30436643052948], [47.60332553469387, -122.31386467665844], [47.61035829134184, -122.3140323051812], [47.60415027153781, -122.3032344850122], [47.60213708281797, -122.31414249916207], [47.61241592914583, -122.31450401225334], [47.6112213774844, -122.30694433388378], [47.60767916681336, -122.31571531493066], [47.60547479445143, -122.30947750897684], [47.613500924317776, -122.31275202654032], [47.6019224184471, -122.30797866295534], [47.61327640595346, -122.31499743142014], [47.609104117931, -122.31114998875164], [47.611800566131485, -122.31416139403603], [47.6094176820892, -122.31210067984286], [47.615617185913045, -122.30434578578158], [47.60794615343736, -122.30754023332705], [47.610089383861336, -122.31368058540365], [47.60409558566215, -122.30540894196074], [47.61108859254959, -122.3158229308303], [47.61057510548824, -122.30440130112288], [47.61372390208192, -122.30916429038656], [47.61006630122117, -122.3048812156356], [47.606460903003786, -122.30747838724444], [47.6063218446013, -122.30557718298296], [47.605501776376585, -122.303836938887], [47.60767478303682, -122.30561848864168], [47.613694155123774, -122.30732536255796], [47.60751122227053, -122.30758469273545], [47.61243073102736, -122.31589739866128], [47.61722523969229, -122.30263618609337], [47.61350303138208, -122.31080262853337], [47.6158783442314, -122.30773900975102], [47.60254407146387, -122.30986442048628], [47.60260013403676, -122.3095146857115], [47.61075240080532, -122.3121520302354], [47.61396247592841, -122.30418487413536], [47.61245586565764, -122.3148894143841], [47.61093716288886, -122.31073313873723], [47.61240200729462, -122.31120715032816], [47.61092049068732, -122.31348962321856], [47.60820376922664, -122.30999500401548], [47.61497797200951, -122.30923613005676], [47.60373014765212, -122.31314709187964], [47.61037711716619, -122.31156583651604], [47.61280971286735, -122.30936984592196], [47.61006942360317, -122.3077298267739], [47.61014850829877, -122.30925566387418], [47.610467288397246, -122.31109126428028], [47.61161948163706, -122.3142566542725], [47.61416800242501, -122.30746685721464], [47.614228588250846, -122.30838186065726], [47.60725052860155, -122.3081946389686], [47.6119787445596, -122.30362147449677], [47.61056398661628, -122.31291185698112], [47.60419373184845, -122.309920112886], [47.60262174893203, -122.3085165099408], [47.6076188376266, -122.3083245607994], [47.60848067649264, -122.31069147338631], [47.60951888878712, -122.31270359357129], [47.60712102065274, -122.31046265372628], [47.61704032410954, -122.30280625110277], [47.61089432766836, -122.3044800910876], [47.602301478046655, -122.30717311847032], [47.606136454957465, -122.30903284028966], [47.6095962528124, -122.31643735359218], [47.60294718195022, -122.31321072182703], [47.60216456223711, -122.31188220898946], [47.61137403766362, -122.30748121316677], [47.611482929813896, -122.309765134676], [47.61621959104925, -122.30732404585127], [47.60927075934829, -122.31112560783598], [47.611550820546775, -122.30681639587677], [47.612106274673366, -122.30412489624987], [47.601871882553645, -122.3071289967336], [47.61360689024364, -122.312432482075], [47.612379583655496, -122.31374243089144], [47.60702962425278, -122.30694957710028], [47.60663359295163, -122.31606472501132], [47.6144192325638, -122.30672066700804], [47.60863925473037, -122.30653342411138], [47.61340137845593, -122.3034552986589], [47.6041843999341, -122.31263900562249], [47.61250123105969, -122.3096554366618], [47.6027551533338, -122.3119688527842], [47.59680105291752, -122.28846141350496], [47.59631799843225, -122.2966468290636], [47.60724931970943, -122.29415319014328], [47.596200781614094, -122.29080422652784], [47.595154323573006, -122.29666616633985], [47.60393133796265, -122.29451687656584], [47.607811030949534, -122.29576744304534], [47.592665961668345, -122.29756177429198], [47.602386556233526, -122.29534697074192], [47.59526162757328, -122.29721290385794], [47.60744830941725, -122.29381553242442], [47.59431107385529, -122.29440844942552], [47.59537123237492, -122.29672945391698], [47.60459749472024, -122.29672495071482], [47.5925985167331, -122.29554706025776], [47.59206643205684, -122.2935654892344], [47.60382448521499, -122.2932510912658], [47.591726420619935, -122.29598513622602], [47.59482904290224, -122.29563198339233], [47.59394152059896, -122.29108797509294], [47.60070744639539, -122.29327316855156], [47.60582903444895, -122.28521021565496], [47.59570850322102, -122.29756855987095], [47.60639203167424, -122.29061238496936], [47.59708807414581, -122.29739477892484], [47.59880162512078, -122.29247610111098], [47.594438603035485, -122.29387027808848], [47.60297419124395, -122.2934195467164], [47.60568441543959, -122.29535981728516], [47.59465847216215, -122.29541071211946], [47.60778217714765, -122.28928428484627], [47.60475366826954, -122.29438262841263], [47.606884329734136, -122.28724188509948], [47.59254367665021, -122.29393824358316], [47.60673689580716, -122.2900877360172], [47.592207947967154, -122.29500317024632], [47.60161606791941, -122.29437983336092], [47.59788773837028, -122.29696275509468], [47.59481013397341, -122.2961644926146], [47.60429647452136, -122.29435859796423], [47.604379217920886, -122.29111533563513], [47.596970588919305, -122.29648174969871], [47.591768317579344, -122.2943216628796], [47.59390123053156, -122.29605353458516], [47.59522339418938, -122.29663666958425], [47.60256127928604, -122.29365533378602], [47.59770093552144, -122.29199955056563], [47.60469679562237, -122.28548917606564], [47.60212071608815, -122.29012957077724], [47.5949576810631, -122.2951654785332], [47.59176976998948, -122.29228780851258], [47.593196433910975, -122.29249213070776], [47.60574572736222, -122.2928298505583], [47.59523563349801, -122.30972464852412], [47.59362266595876, -122.30746179617256], [47.59379732048903, -122.30514883618577], [47.599439107975456, -122.3063462664639], [47.60004911071688, -122.30986796506645], [47.5914284600237, -122.30173872120228], [47.59449640285119, -122.2987894334239], [47.60026601289113, -122.2998674161128], [47.59921758655656, -122.3120997264212], [47.595617642678185, -122.31082084464038], [47.57669611936, -122.29688054091991], [47.59695169306506, -122.30198714200608], [47.59515921862206, -122.30906125677714], [47.59213627586876, -122.30008011656535], [47.59802553148498, -122.30696747293956], [47.59622687443117, -122.30292305960572], [47.6001661599035, -122.30781604769996], [47.58725541310016, -122.30038471405916], [47.59370214105586, -122.30810548794058], [47.5862269592916, -122.29861610624314], [47.60158523336886, -122.3069832058069], [47.59321975682426, -122.30889145858656], [47.59984836711288, -122.30703419904872], [47.59364421348489, -122.30932006601871], [47.59964652242866, -122.3073967487344], [47.591978737848194, -122.30717591339564], [47.593167773749535, -122.30169915845056], [47.59704962483554, -122.29988677936632], [47.59382037991534, -122.30596703151843], [47.599582986654525, -122.31315383143053], [47.59797617706516, -122.30087989418804], [47.594372353566186, -122.30935811040432], [47.59127370680727, -122.3057613840659], [47.59696031037259, -122.29816524817096], [47.59578065882079, -122.30965294709826], [47.59639091209716, -122.30490548753951], [47.59856675177874, -122.30754397003604], [47.5937104624609, -122.30419012599371], [47.59933472560618, -122.31136831687203], [47.59361161881, -122.3097999367515], [47.591966142116405, -122.30839293402664], [47.59235748498173, -122.30334454324016], [47.60044105811188, -122.30922329574224], [47.6014120715165, -122.31288884196078], [47.59982698879022, -122.30948305952512], [47.58748247047183, -122.30062210708007], [47.59412508467701, -122.30866189043124], [47.59428979601738, -122.3091904628022], [47.59083216624786, -122.29981339194988], [47.600510494802194, -122.30199396646078], [47.60138625566898, -122.30767904056344], [47.600112682193455, -122.30375448214524], [47.581723470149925, -122.29898053271232], [47.61070500556576, -122.3409750354935], [47.60927418099725, -122.34087737931168], [47.60854614710938, -122.33919154815946], [47.60979836461152, -122.34036797019972], [47.60846226651112, -122.33950625460922], [47.60816272667272, -122.3389925867736], [47.60908008126359, -122.3401055293267], [47.61217391381203, -122.34339349369624], [47.608663438061065, -122.34130108409688], [47.61051908413297, -122.34180959822972], [47.60772361283373, -122.34047579709434], [47.60882169959264, -122.341017624811], [47.60777108347135, -122.33963978133644], [47.61056026415293, -122.34129640209342], [47.6096934949842, -122.34199733819229], [47.60846137579494, -122.3418883453184], [47.6109952681579, -122.34352190634353], [47.60723759372576, -122.34131427066426], [47.60800145757679, -122.33984576376696], [47.60880267142026, -122.33930029784275], [47.607753341071856, -122.34134792020951], [47.61041221212846, -122.3414901518356], [47.60855884319104, -122.3402695683243], [47.608170005509535, -122.33837592287016], [47.61078024449274, -122.34116511425164], [47.60768097033046, -122.34026667821816], [47.608737748300506, -122.34118078540386], [47.60893108803913, -122.34028228758726], [47.64482057138439, -122.32748842671565], [47.640917298786654, -122.32332152102768], [47.64208137387094, -122.32460508028248], [47.64338998972608, -122.32582194935232], [47.640525303970605, -122.32852056796554], [47.63917688779133, -122.32622512567526], [47.63947810487664, -122.32593091508474], [47.64078786904274, -122.32320828069976], [47.63757485032236, -122.323359105944], [47.64007903660119, -122.32554341814708], [47.64050457984974, -122.3282015758919], [47.63897300566033, -122.32488780691936], [47.63828959099585, -122.32789542082536], [47.6396350754695, -122.3244523916632], [47.651956269103465, -122.32139820587813], [47.64011693940568, -122.32656696030656], [47.64198079046304, -122.32299004419228], [47.64793265461914, -122.323342719935], [47.641560907893336, -122.32707262350172], [47.63602270000166, -122.32446539007128], [47.63857442093185, -122.32480368577356], [47.641790264007774, -122.32495318552736], [47.64454557413683, -122.32552288019718], [47.64069201963972, -122.32350323069664], [47.64715015298293, -122.3227390312922], [47.63844165537417, -122.32512573831492], [47.640812265389805, -122.32606249745176], [47.642114725646266, -122.32722268245546], [47.64125058079826, -122.3240877802971], [47.64648795037989, -122.32589090660288], [47.64538718066522, -122.3237816106551], [47.637544957792926, -122.32739218381847], [47.63611986392126, -122.3243359396101], [47.64032438254302, -122.3231675657492], [47.64862792010664, -122.32422052403872], [47.63874945219668, -122.32704747692048], [47.63672995432083, -122.32379935852606], [47.64097355936412, -122.32857305312628], [47.63667440035846, -122.32315503853526], [47.6361811061378, -122.32663786024446], [47.63550919151156, -122.32541187638996], [47.6442552529616, -122.32617222874065], [47.64166537096043, -122.32464542376532], [47.64687986205291, -122.32417356787066], [47.63845448973991, -122.32338184739912], [47.61907155891863, -122.34779881165326], [47.62386146833082, -122.34226309987451], [47.62086249765871, -122.33896607982014], [47.63449323415144, -122.32584731780597], [47.619205536420885, -122.33202959666092], [47.62398873615973, -122.3321661553665], [47.62330201572779, -122.33196911303747], [47.63443453877037, -122.3241573464705], [47.62667517278397, -122.34290562125], [47.61970698060349, -122.33699718040832], [47.61991684788018, -122.3461084122388], [47.620362329812814, -122.3446291254164], [47.628666804500405, -122.32854562240352], [47.62013508023269, -122.33701934446954], [47.61998352497964, -122.3338897690749], [47.61974792613376, -122.33913098708214], [47.61994408937855, -122.3385515188176], [47.62366226511544, -122.33329257542756], [47.62547232228354, -122.33747890417337], [47.61971805924664, -122.3372046750729], [47.62151024882332, -122.3287866741671], [47.62175655878359, -122.32969625722896], [47.62089020314738, -122.33035912990098], [47.62027939417354, -122.33921467299108], [47.62096789405152, -122.3377743573903], [47.6193017975263, -122.34436131157774], [47.62147034857805, -122.33107430090902], [47.65947038043821, -122.40187337072383], [47.65421133752042, -122.4083888074941], [47.65103145414174, -122.38500383072392], [47.659121332258366, -122.40226539973396], [47.66403531158239, -122.40375013597804], [47.65157060815373, -122.3837191303833], [47.65982998032791, -122.40273837679248], [47.65398031032751, -122.39554748645848], [47.65061812182692, -122.40311977466432], [47.64899204884812, -122.39711199862296], [47.64950045817472, -122.38396354226109], [47.65058888703841, -122.39101630243276], [47.64987478997546, -122.3835611772729], [47.649500294788446, -122.3827632051666], [47.66119733659824, -122.40144552294248], [47.65221578947863, -122.38548096041151], [47.65243830436589, -122.38969849929728], [47.657950176973465, -122.3981545560932], [47.65440286717076, -122.39359087945527], [47.658426264106815, -122.40229815060222], [47.66056382947187, -122.40186399570533], [47.64962413684396, -122.38553052382235], [47.65249556967002, -122.39635405485495], [47.65378345044243, -122.38813022705432], [47.655130585008514, -122.4078176655202], [47.65412764382537, -122.3896939276198], [47.64868391301852, -122.38378884405408], [47.65438187355757, -122.40962831268268], [47.650810804005935, -122.38469440627335], [47.64944286497743, -122.38331243566094], [47.65362955103284, -122.40760446618836], [47.65312176307169, -122.40981689210182], [47.635436187004274, -122.4024723028526], [47.64609020995631, -122.41584774912928], [47.64145682202061, -122.40388298659678], [47.640127266889934, -122.40273909978016], [47.64789129317619, -122.40876488885866], [47.64709028633747, -122.4085552829752], [47.650204029734105, -122.41388180739214], [47.6489240991816, -122.4127147406588], [47.64724228325847, -122.40450477335784], [47.65168581302368, -122.40457343737052], [47.652668732025184, -122.40929610836392], [47.63149513840309, -122.39543705621988], [47.615702409982106, -122.33262704060192], [47.61537863407858, -122.33525880312752], [47.61572829823154, -122.34225330698472], [47.61361553464316, -122.34705781490612], [47.61297330260804, -122.34442552070212], [47.61109043272179, -122.34815712189656], [47.613813785808645, -122.34252869739944], [47.61491676888918, -122.3449797198399], [47.61644586694668, -122.35221775456692], [47.61442745478297, -122.34909711524604], [47.61297811582403, -122.35097696477922], [47.61338553252198, -122.34006569989886], [47.6142941793077, -122.33639025958873], [47.61638693772675, -122.35382214641388], [47.61805329129193, -122.33755440466552], [47.61420539724743, -122.34398891049324], [47.61522894535234, -122.3371196109019], [47.61483647774018, -122.3468337531846], [47.61463530316687, -122.34539999551276], [47.61632073840055, -122.3493250012565], [47.615748872678914, -122.34365283611687], [47.614943478157166, -122.3406781767356], [47.61451450623773, -122.34032921154324], [47.61534360926678, -122.332741345447], [47.61847931578053, -122.35549144608322], [47.61411914483935, -122.34129656255176], [47.61397107841926, -122.34821807358792], [47.61242487102254, -122.34378263035347], [47.61430703919969, -122.34725786838602], [47.61369630724902, -122.34205499158784], [47.61290508478416, -122.34657071763752], [47.61729069930838, -122.34960002538058], [47.61429607370371, -122.3473831543682], [47.61601594205148, -122.32951794696018], [47.61383960268609, -122.34943502856775], [47.61561134846152, -122.34592672734446], [47.61689555668805, -122.34638319846388], [47.61486390395154, -122.34398542649116], [47.61724869829734, -122.34724612798178], [47.61551227179511, -122.33728601913258], [47.61157559687141, -122.34661156923316], [47.617736896395385, -122.35551998095058], [47.61540884707473, -122.3486192989743], [47.616629842664935, -122.35000162972398], [47.61269734864145, -122.34152622705844], [47.61406468772992, -122.34922456706516], [47.617936448668296, -122.3383948638184], [47.615182768291135, -122.34693185317502], [47.61513543949039, -122.3506702565885], [47.61758374726596, -122.35330284413048], [47.61370508707574, -122.35044782278032], [47.61462364554128, -122.3483970904106], [47.61597793129371, -122.34929109953944], [47.61481343497806, -122.34279332885806], [47.61484887227336, -122.34117216714188], [47.61409386227389, -122.34442412824733], [47.614289540643256, -122.34894723682538], [47.61496234189891, -122.33213918258188], [47.61469962013541, -122.33995254722548], [47.614239557677074, -122.34890680137636], [47.61537219257034, -122.34910428678825], [47.61595926832904, -122.34061702263176], [47.6154536688591, -122.33355602597308], [47.61413013763413, -122.34213581786808], [47.61401555886604, -122.34922235970096], [47.6159688113496, -122.34508910011004], [47.613733422592425, -122.34373851509106], [47.613499506830735, -122.33802720382238], [47.61716454839897, -122.34971710540508], [47.61758028221193, -122.34598902087367], [47.61651123100762, -122.34811426303484], [47.61621072469548, -122.35033464286674], [47.61516478974478, -122.34657207631444], [47.61757220202414, -122.34943876817192], [47.61677625081502, -122.34826281247996], [47.613772020914034, -122.34758555042352], [47.61419263398338, -122.34886181402892], [47.61249914579573, -122.34825799039392], [47.614664469993855, -122.34659165527498], [47.61377548821507, -122.35041303409864], [47.61504932036208, -122.34293154381936], [47.6149817857164, -122.34886956081012], [47.61521885859596, -122.34907561414543], [47.61549069572877, -122.34712111534452], [47.615775348227885, -122.34871858409774], [47.61660167895739, -122.33756170349096], [47.61571292587374, -122.34242339749066], [47.61795919820708, -122.34783298094553], [47.61458579910316, -122.35153260397952], [47.616157972426215, -122.3393907497796], [47.61670470104829, -122.35396930615134], [47.61587789478989, -122.33325594464723], [47.61533864521228, -122.3479052929908], [47.6148660535413, -122.33832117777318], [47.61374699368203, -122.3361265661423], [47.61582776099287, -122.34077729895668], [47.61372198521183, -122.34275704323512], [47.61618260708238, -122.354206031072], [47.61736895479512, -122.35305972009338], [47.613453153652365, -122.34751787491491], [47.615649537761456, -122.34766954648526], [47.61792621100185, -122.34783351278692], [47.61593588109247, -122.34063615049568], [47.61516930592132, -122.34369079982112], [47.61672537948056, -122.34805664766672], [47.61520501016245, -122.33545893582546], [47.61435145548069, -122.34815301874956], [47.61627389089252, -122.34412623197156], [47.61588988256984, -122.34530859662588], [47.61832135226417, -122.34513758996248], [47.61755262609408, -122.34992906125706], [47.6164981554488, -122.35296527326108], [47.61355824717978, -122.33788422286165], [47.61602298054833, -122.34449163794338], [47.61788305605376, -122.34552200962833], [47.61643392214901, -122.3417453064318], [47.61601147030859, -122.347951057352], [47.614760679879694, -122.34702295885964], [47.61365588005577, -122.3475903109824], [47.617536478701005, -122.3479978320426], [47.61392512249676, -122.34980196614904], [47.61624824759066, -122.3491765575672], [47.61607915745027, -122.35022574375888], [47.6150140499844, -122.35170447553118], [47.613602090579285, -122.3474066700914], [47.61561596188464, -122.3390891834984], [47.6136863182789, -122.3366677121476], [47.61401438337359, -122.33779346444666], [47.6158921047594, -122.34640247547652], [47.61603046672147, -122.35007658361954], [47.61504187772411, -122.34260369597708], [47.61341335899103, -122.33751769765104], [47.61497282402782, -122.34855449678832], [47.616442781449095, -122.34941519946652], [47.61733297737607, -122.33072969012396], [47.61483281194082, -122.350165939418], [47.61640745598536, -122.3425325589713], [47.61697766780488, -122.35692867082616], [47.61462314862224, -122.34063384288184], [47.61444332579933, -122.34700769268912], [47.61328916259384, -122.34947346929007], [47.61530089786124, -122.3543396886188], [47.61063499072831, -122.3460172048142], [47.6160323160932, -122.34822593585524], [47.61295037542308, -122.34974707319007], [47.61539626635263, -122.34866374592198], [47.61568603148651, -122.3403747001802], [47.613580878740464, -122.3489023962597], [47.61496183533968, -122.33365750527622], [47.61604221779273, -122.34443797411107], [47.61642985861803, -122.34634406779092], [47.61429504237132, -122.3368171260742], [47.61528970490008, -122.33795423574124], [47.615438026734445, -122.3474027196648], [47.61452527631607, -122.34646880966244], [47.61367945398656, -122.34932989230434], [47.61607469425918, -122.3466774770061], [47.61734292070993, -122.35616812457349], [47.61373726973387, -122.34777537064532], [47.61836999823401, -122.3384569032431], [47.61444854517949, -122.34069448919465], [47.61803420477396, -122.3463076379644], [47.61598279602645, -122.3466598098365], [47.614196071263, -122.34445768627762], [47.61354066589992, -122.33773066809512], [47.61741288592483, -122.34676257954732], [47.61434361483221, -122.34667855860891], [47.61554044247665, -122.34059887459836], [47.61566387501426, -122.33866620869264], [47.61639153514827, -122.3480628825807], [47.61303751726503, -122.34583594190164], [47.61386020183852, -122.34878733911825], [47.61830940875164, -122.34648119586912], [47.617816132633365, -122.34832053424748], [47.61656414044683, -122.35144156430184], [47.61385175716298, -122.34789310157656], [47.6134861217169, -122.34928584391416], [47.61602552840912, -122.34852483424518], [47.61489768771301, -122.34066084877456], [47.61530601011993, -122.33469727000067], [47.61533238263307, -122.33390821413808], [47.61147668499856, -122.3485184984931], [47.61630460279739, -122.35258670498742], [47.61171087582871, -122.3475320318341], [47.61440405341769, -122.3375703754553], [47.612709346702815, -122.3441144220207], [47.61521360043369, -122.34763621753056], [47.61753710556913, -122.34654956171644], [47.61405683789051, -122.3472697543768], [47.61822090225338, -122.35756808051303], [47.610916160429866, -122.3466293214791], [47.61617924284391, -122.34941699091438], [47.61296782696456, -122.34777487146768], [47.611411138998925, -122.34083029482622], [47.61714904250761, -122.35176931250396], [47.61543400244045, -122.34852076042066], [47.61508702554052, -122.34714242059393], [47.61441925936749, -122.33620580141302], [47.61437559281085, -122.34504272841475], [47.61325897425292, -122.34514715306553], [47.61796798970183, -122.34751406722296], [47.6162397544285, -122.35068406432708], [47.61324760153705, -122.3489803410028], [47.615976915005646, -122.34804474976464], [47.61510709735236, -122.34868786253664], [47.61434663965622, -122.34060236649628], [47.61248614931077, -122.3456451302312], [47.61772967104482, -122.34768527714472], [47.6161233047416, -122.34569439036714], [47.61687816241655, -122.34848417115757], [47.611492102457326, -122.34119198663194], [47.61427511876522, -122.34724728008028], [47.615973611430135, -122.3405366110425], [47.61778087350479, -122.3459708417368], [47.615537630070605, -122.34655776415008], [47.61227626316741, -122.3437812056331], [47.61558796884932, -122.34882232861952], [47.61773595234457, -122.34933031161825], [47.61515193533549, -122.34222981474252], [47.61418994451972, -122.34495731476817], [47.61651237509104, -122.34791180269733], [47.61483233255613, -122.34902912406262], [47.61507049526989, -122.3459189045046], [47.61261355218574, -122.34404496465984], [47.612674299145525, -122.34166534509072], [47.61116467964433, -122.3475446225018], [47.615178469428336, -122.35132481307524], [47.61744943807916, -122.34615682591104], [47.61700366643737, -122.35397978355832], [47.61348311198294, -122.34843211138308], [47.61282309379007, -122.34555342227866], [47.61364702689299, -122.34162109575016], [47.61715481465128, -122.35258965502196], [47.61554030939353, -122.34334153114614], [47.59901630438827, -122.3270798762824], [47.60132622117951, -122.3246403741031], [47.5977974556908, -122.3198595879356], [47.59924858710847, -122.32824267065754], [47.59931294003344, -122.32831821887709], [47.59912500813352, -122.32311539904067], [47.59908074853163, -122.32559126162168], [47.599175724833806, -122.32466028179368], [47.601485955488485, -122.32586599287276], [47.6006045137528, -122.32573470125566], [47.59939861416997, -122.32615201434568], [47.59898018085828, -122.32473324549788], [47.59964084046434, -122.32505406974089], [47.601503327750734, -122.32517444025328], [47.60135296470288, -122.3273204582535], [47.5992689208717, -122.32847236364248], [47.60116547612201, -122.32699851913424], [47.605429414130505, -122.331364403788], [47.60749350465245, -122.33968876248898], [47.6026286669149, -122.33683161393633], [47.60732739011686, -122.3393777084574], [47.60727498064082, -122.33156445150712], [47.60970345501252, -122.33626002767824], [47.60761293410203, -122.3390860870762], [47.6069193458126, -122.33971313096032], [47.60673015610224, -122.33788207688796], [47.61165910537519, -122.3310871208059], [47.61445131679813, -122.33274534492242], [47.61411022475016, -122.33248148174702], [47.612953445042834, -122.33442686311696], [47.61288423701098, -122.33067592480116], [47.60989010415315, -122.33795291271518], [47.61057862672629, -122.33816537430552], [47.60983581710683, -122.33479702967207], [47.61093008152037, -122.33614790345511], [47.60603716934824, -122.33747568765224], [47.61266588432112, -122.33304198685444], [47.6031828931029, -122.33699553704628], [47.60691493573588, -122.32982530926152], [47.614156436715874, -122.33294991663416], [47.61245834360789, -122.33278093615678], [47.614274895423016, -122.3311659254316], [47.61434440477847, -122.33293830112778], [47.61443604501599, -122.3330042382224], [47.60549166385085, -122.33724617959676], [47.61350573564118, -122.33278668888694], [47.60576700931568, -122.33757060558388], [47.60700758505116, -122.33720644099289], [47.60600197667792, -122.33861295059636], [47.605557051094365, -122.33908947783549], [47.606002541611765, -122.33890030868928], [47.61436368660468, -122.3317161881412], [47.61356040759493, -122.33304648746731], [47.60748445975273, -122.33946033196725], [47.61313536044607, -122.33176374336436], [47.60724979085114, -122.33667079853342], [47.60736064620542, -122.33960189664646], [47.606623631159714, -122.33733733089475], [47.60593225354328, -122.33083231531664], [47.61087576212299, -122.33928908407869], [47.60679937964971, -122.33819175621905], [47.61254733011034, -122.33333057177325], [47.6071584400189, -122.33321040807304], [47.607466113315205, -122.3389022718821], [47.60735492420199, -122.34019796733553], [47.61251466532152, -122.3332892972786], [47.612078344925045, -122.3325922141348], [47.613051242708096, -122.332437233783], [47.6139248872342, -122.33145445408908], [47.6096735138654, -122.33570828283872], [47.60736787309671, -122.33508188751858], [47.60541994840816, -122.33784289477968], [47.61275933459832, -122.33244316203206], [47.60613005279123, -122.3377678507714], [47.612548495973606, -122.33162951941026], [47.61312537505151, -122.33071778067506], [47.60353576184542, -122.3371224448341], [47.60614693170834, -122.33480638302235], [47.61432585777669, -122.33267595965144], [47.60548679001118, -122.3386693332818], [47.61376186658188, -122.3330110099762], [47.6101005823784, -122.33766043793878], [47.61314853534389, -122.33440216463951], [47.6093328909088, -122.33547448670602], [47.60630221345672, -122.34052759983771], [47.61105801870975, -122.33428392247328], [47.6138157269231, -122.3319405777184], [47.60557460486069, -122.3309500788614], [47.60608276513488, -122.33943425791192], [47.611926794428, -122.33188118769588], [47.60822056572, -122.33807806184215], [47.612136459377496, -122.33302643113728], [47.61369449408285, -122.33177937093696], [47.60855257585055, -122.33800963889192], [47.60724579769869, -122.33912927164228], [47.61037933365163, -122.33867795269413], [47.61238818688324, -122.33084165034056], [47.606990551833526, -122.33386506954751], [47.60745267207665, -122.33906002787364], [47.610007487500354, -122.33801632747046], [47.61366310693939, -122.33173432068187], [47.6074118751676, -122.3391668763066], [47.60580748047951, -122.3385549259342], [47.6069270341798, -122.33924217231356], [47.60521067229065, -122.32994308749808], [47.6104834297297, -122.3370290642769], [47.60736057499324, -122.3376072657957], [47.61131631594428, -122.33992029997432], [47.61237434800635, -122.33512546798484], [47.606881766835954, -122.34059571388124], [47.612465377195576, -122.33263410623032], [47.60655570910676, -122.33882922903253], [47.61306311127274, -122.33065175492445], [47.61186259581745, -122.33878166789836], [47.608175813171904, -122.33765470753072], [47.60758178902561, -122.3388422596158], [47.602662341349415, -122.33753716684896], [47.6120669290215, -122.33321261190451], [47.60689720228564, -122.34068376679512], [47.60567205123268, -122.33149399202291], [47.61100176512663, -122.32858612455696], [47.61133441835708, -122.32604789144008], [47.61225737242129, -122.32636562553294], [47.61320978481119, -122.32327762641904], [47.61096539961981, -122.32907247302464], [47.61317622635249, -122.32908403668802], [47.61304301054661, -122.32321421294104], [47.61096182378536, -122.33032119082864], [47.61345647608498, -122.32497953403096], [47.611855354434034, -122.3304909486734], [47.6101624890202, -122.32357163296597], [47.60887199748911, -122.32810576665769], [47.60815597715229, -122.32919840425645], [47.61109149775773, -122.3307334251513], [47.60834831273565, -122.32867412004522], [47.61263327263565, -122.32944199239355], [47.61132764177196, -122.33060010202864], [47.61136873936966, -122.328852549505], [47.60953835498555, -122.33017847610924], [47.60940704488772, -122.32911502838186], [47.60970200536118, -122.3288628462014], [47.60844896548192, -122.3288112096693], [47.61281849257712, -122.32761469498789], [47.609806605930935, -122.32442444659095], [47.61399801782469, -122.32639599096396], [47.61367456391695, -122.32202827214266], [47.61089994947447, -122.32520882574411], [47.60692271765238, -122.32526394571826], [47.613174143670726, -122.32449043749628], [47.6129264391055, -122.32867171149422], [47.61365484766513, -122.32320300912764], [47.608009981918165, -122.32873866995098], [47.61013561529305, -122.32652007789687], [47.60907318829982, -122.32357691127716], [47.61244678674176, -122.33034001695718], [47.612456264579485, -122.33014138835166], [47.61392866627492, -122.32635162630623], [47.61345287238848, -122.32345143729216], [47.61175963828419, -122.32141596390466], [47.60623759325325, -122.32730650838728], [47.61171392994843, -122.32860197178177], [47.606661301766856, -122.32779217432402], [47.60956657229394, -122.32771243284247], [47.60673703603516, -122.3259039158822], [47.611812394153866, -122.32924446230872], [47.61088532713274, -122.3248832552434], [47.608418792832616, -122.32420051784364], [47.61165691358035, -122.3231988324168], [47.60779422764064, -122.32746298526035], [47.61386974982458, -122.32655013742576], [47.60941774977953, -122.3286885452584], [47.61229418451298, -122.32965424649244], [47.60789080549439, -122.3278083773261], [47.61172003131037, -122.33042524699611], [47.61160340666677, -122.3172294011493], [47.61191940800439, -122.33033455666546], [47.611828386631416, -122.32941397086329], [47.60795126066051, -122.32823748227948], [47.60680771726547, -122.32898000296063], [47.61186619927651, -122.3285520217916], [47.61354857519745, -122.32130539888736], [47.61313839605288, -122.32516160019074], [47.61145048591772, -122.33108396142684], [47.613225876603416, -122.3236009427514], [47.61048943396307, -122.32532929385854], [47.61159541550975, -122.3307621640446], [47.61246834969736, -122.33005311469508], [47.60971645471888, -122.32472462559878], [47.61262784530071, -122.32458051327824], [47.6114811166588, -122.32912106367388], [47.60907506730186, -122.3230500285628], [47.60884940522395, -122.32175366243024], [47.6124791346092, -122.32374712347256], [47.60967014995581, -122.32292569153772], [47.61100265102012, -122.32880399937044], [47.61327375903392, -122.32223758585812], [47.609225257375385, -122.32310136961593], [47.61365053599741, -122.32101464132356], [47.61129002208384, -122.32894250103138], [47.611542641578126, -122.32868197954168], [47.61227904152256, -122.33046453206696], [47.612819444556365, -122.32128627700746], [47.61185607845229, -122.3247536850616], [47.60808608372815, -122.327991508483], [47.606839745352, -122.32775412272808], [47.6083221732831, -122.32999566916388], [47.61259701572926, -122.32987565050767], [47.61288548828431, -122.32924135212996], [47.609843416168616, -122.32119982188446], [47.611581211140816, -122.32938345978393], [47.6098849075609, -122.32694834841004], [47.61123080840802, -122.32510200188608], [47.61265098823325, -122.32392214481813], [47.60971006264152, -122.32361711381472], [47.61143729278416, -122.32876669174055], [47.60878597735972, -122.32580861521382], [47.60670100005239, -122.32870269270516], [47.61069985763136, -122.32417655326871], [47.609447147739225, -122.32585664860537], [47.60768750362729, -122.32874998838732], [47.61396778992279, -122.32582643088574], [47.61168312260929, -122.32873782791197], [47.610418576555205, -122.32545239840842], [47.61169622242593, -122.32929414367467], [47.61071771905078, -122.325583922795], [47.60977140685161, -122.3241333748826], [47.613593804350494, -122.32784009458852], [47.61232922226869, -122.327265501594], [47.60712630400483, -122.32003198195524], [47.60656187173609, -122.32129774291404], [47.60440531895508, -122.31801029662788], [47.6048786282568, -122.32230815190458], [47.603275591302165, -122.32038992835588], [47.60528826793278, -122.32087818896088], [47.6048131665093, -122.3188037181771], [47.60593216517163, -122.32000131429685], [47.60532853151924, -122.31942629211224], [47.606988781631145, -122.3197008961962], [47.603930476728365, -122.3230191472683], [47.60405104047602, -122.3226425797513], [47.60386977881134, -122.31898078492227], [47.60571032937745, -122.3180858936221], [47.60479790289673, -122.3173820767618], [47.602336448785564, -122.31866792061248], [47.60559023012555, -122.32105525919368], [47.60202559046066, -122.32688258523208], [47.60209069332543, -122.32543690801556], [47.600687555565685, -122.33469389773336], [47.60057321582399, -122.33086541744464], [47.600895267020434, -122.33558977669134], [47.60056684369136, -122.33430511441074], [47.601777135945085, -122.3327657267152], [47.60000891961889, -122.33528130277976], [47.59582849701532, -122.33234611094812], [47.60222233407273, -122.33490050276338], [47.60220239691749, -122.3350627862122], [47.598893485981215, -122.33349277559104], [47.60225657747136, -122.33505134280078], [47.60092837210805, -122.3322627174985], [47.60164256598255, -122.33357723261456], [47.60279420404356, -122.33564378929962], [47.60480460155016, -122.32806040984302], [47.5938624232896, -122.33449525582412], [47.602270603481394, -122.33623859640348], [47.602729335491006, -122.33454668846748], [47.60246536436639, -122.33378368726676], [47.60102787406927, -122.3346014585082], [47.59894233023168, -122.33693632643435], [47.54430132154804, -122.38598316628077], [47.53974024395122, -122.38232059437964], [47.5289552904142, -122.3859437787281], [47.5423325617997, -122.3906288853628], [47.5374249870235, -122.37786622622497], [47.53357553877368, -122.38120272272592], [47.54593206938102, -122.38262126666932], [47.5292000902954, -122.38564003924304], [47.54570685346311, -122.38180415312355], [47.54351053030582, -122.38471940877167], [47.5371649472752, -122.39413276345113], [47.5446206010773, -122.38105434218392], [47.5402394063988, -122.3874740207102], [47.529282953115725, -122.38159015581776], [47.53808693149215, -122.39311722812], [47.5357006475623, -122.38631240820725], [47.54283416507776, -122.37775861421316], [47.53556400923613, -122.37997549935616], [47.53923887554091, -122.39570443121464], [47.54057538244386, -122.3865409692964], [47.54394244673478, -122.38623656446391], [47.54405829982496, -122.38254188450868], [47.51286492025661, -122.37903344956904], [47.51248178472956, -122.38714672316792], [47.50546946843944, -122.38063615800942], [47.51624262588068, -122.3845995970444], [47.50508834369015, -122.3782388157457], [47.57700793740527, -122.41166700268096], [47.57189115195659, -122.40739056923468], [47.57370825831641, -122.41502502060048], [47.57822274876536, -122.41297509483516], [47.57418563012765, -122.41541701923138], [47.57450451620381, -122.4129798367683], [47.57399944611516, -122.41147001291664], [47.577681454875446, -122.41136943694208], [47.576517464414025, -122.41108586541058], [47.5763776490437, -122.4085242090064], [47.5807389159116, -122.406729086031], [47.578652147843336, -122.40518823565424], [47.56784938778624, -122.4097418910164], [47.57761916015534, -122.41366735523944], [47.567392233189175, -122.40968312954868], [47.58154504608365, -122.4037086392134], [47.57685345144482, -122.41636191405388], [47.57029435892099, -122.40212665704313], [47.57841867909087, -122.4071214365844], [47.56934934205828, -122.40334526705792], [47.5756885488326, -122.41545457464817], [47.58160430577848, -122.4043662004681], [47.57613116345623, -122.41223469163836], [47.57400291694791, -122.4172188142562], [47.57494001773911, -122.40455080314813], [47.57342180018264, -122.41096330073697], [47.57704075132939, -122.41048671948457], [47.56889830356045, -122.3991592715513], [47.578454148554606, -122.40714269468448], [47.565984188333296, -122.39970736228642], [47.57703780401302, -122.41380164048266], [47.58076675246143, -122.40371035712543], [47.588760334237776, -122.39492454241784], [47.57466459405863, -122.40982214317336], [47.577933123234494, -122.4101447891087], [47.56129602691222, -122.40026183630944], [47.58464659206852, -122.39880012393364], [47.56499677957059, -122.40642956604404], [47.56841922591498, -122.4066165075231], [47.57446873501646, -122.40316810156295], [47.56895311812488, -122.40759757029755], [47.581261258905606, -122.40581823396988], [47.579396211738384, -122.39275970472532], [47.58669747810401, -122.38743658141458], [47.5826377767238, -122.3993528037626], [47.58563440896928, -122.37933295401052], [47.58127839649051, -122.38508496473904], [47.58423904063197, -122.3868915625672], [47.58168427232789, -122.37444525214016], [47.57783405230008, -122.38928546684436], [47.57326555829689, -122.37436117067983], [47.57289171398944, -122.38585474560774], [47.58239154799495, -122.39447761315976], [47.58675627136847, -122.39198241073396], [47.57970602782005, -122.37923221136562], [47.58044917939991, -122.3968705675228], [47.58403665557211, -122.38667043229285], [47.58143267810479, -122.3941090278362], [47.57855600874326, -122.39484640673756], [47.580028809847256, -122.39025109179283], [47.58257499061229, -122.38495484920756], [47.58295134649591, -122.3870115580709], [47.573566070667695, -122.38700676567844], [47.57477347497297, -122.3818521633808], [47.57120748820738, -122.3920486063657], [47.5713534107058, -122.37557989787996], [47.57332445271773, -122.39551100742418], [47.573017615436754, -122.38744713271272], [47.58468259352497, -122.38621185476342], [47.57290027493866, -122.38593771282066], [47.57463808365612, -122.39503268110272], [47.587230556018525, -122.38001565840624], [47.576167506077766, -122.3715806271944], [47.572113382122325, -122.3859170513712], [47.57356203940263, -122.39099294112133], [47.57190254895162, -122.37893191360172], [47.57274384773297, -122.381833166746], [47.582740730606815, -122.39808406205266], [47.57342732844927, -122.37174585695684], [47.57658171948047, -122.3886757752433], [47.57209541775803, -122.39111040513096], [47.58893774261446, -122.38214354038188], [47.58495099218209, -122.38161717684736], [47.58044817334773, -122.39779195646824], [47.59114113235604, -122.38644507606152], [47.58273995079724, -122.38107273722584], [47.57586831991014, -122.39842757486672], [47.57204406612867, -122.38616191692728], [47.57305868590578, -122.37439908999774], [47.57805853853869, -122.382461307405], [47.572261416804224, -122.38789854449112], [47.69736004130411, -122.37622221181891], [47.69855397250144, -122.36927100668932], [47.69989837304277, -122.366141804709], [47.700060505541046, -122.37437155908977], [47.69179388225017, -122.36896058399503], [47.69314351821861, -122.36807893362344], [47.69335528918061, -122.37317566903064], [47.69920590223323, -122.37317216621558], [47.70348161633171, -122.36984208789748], [47.70155129107415, -122.3665112760806], [47.69102796168696, -122.3681546525904], [47.7051408314449, -122.37121339006184], [47.692910532225554, -122.37849462852014], [47.69757112015085, -122.37587543713704], [47.693445755499305, -122.3668032092268], [47.700363283542806, -122.37090648999867], [47.6909559036202, -122.36971981467885], [47.69397589696934, -122.3716537783612], [47.69306524149757, -122.36735081193385], [47.69996238748539, -122.37551070498328], [47.70295439643304, -122.36861150221334], [47.556700653644576, -122.38497350615108], [47.558044419701005, -122.38578798910842], [47.55226284905913, -122.38101462576137], [47.5553892557942, -122.38473862707006], [47.55448285220604, -122.37880454304006], [47.55538173399459, -122.3862226310316], [47.553090037990685, -122.37871495490974], [47.54755688747737, -122.37833050628365], [47.562976062287184, -122.37854466075312], [47.5555199781724, -122.38548187471406], [47.54899529710669, -122.38345205120784], [47.55596903548988, -122.38397082938243], [47.55176783750248, -122.38584203314828], [47.55663242156003, -122.37720365411673], [47.54727136022502, -122.37871894653232], [47.550024089975565, -122.3812314664074], [47.55594365831243, -122.37994744796248], [47.5533567629696, -122.37900130748804], [47.55219361700836, -122.37795390300462], [47.56432767055991, -122.37374580916664], [47.55890375346899, -122.37751113324926], [47.55731794800922, -122.37778223044464], [47.54778740966759, -122.3780016001745], [47.5483168146443, -122.38645840880145], [47.55629075946558, -122.37700213556948], [47.55766966557905, -122.37900981486736], [47.55556516043844, -122.37703992867569], [47.55554064596684, -122.3827543817824], [47.5592558468981, -122.3845557579071], [47.56639268224653, -122.37814624863503], [47.56073594747432, -122.38249363713304], [47.56744376541989, -122.38634160987944], [47.56098967046815, -122.38493210180684], [47.56781625863084, -122.37616240582574], [47.564839837172045, -122.3885824766572], [47.56355309216989, -122.38678880614482], [47.56953843090034, -122.39283204947556], [47.562605333620034, -122.3967024657224], [47.566894557880495, -122.39213487299055], [47.560476141625934, -122.39364127092242], [47.56371212435627, -122.38132714210109], [47.56724120602177, -122.38638673198275], [47.5641246529799, -122.37850726206136], [47.56642870956144, -122.38084221302331], [47.56272303972221, -122.39523837188904], [47.56570398024409, -122.37511036063242], [47.56523792594474, -122.38723512854509], [47.56460284610454, -122.37704664437986], [47.56759464511134, -122.3813765149878], [47.566184539496966, -122.37900764770887], [47.57000135878523, -122.38590533598015], [47.56136431161136, -122.38510704784822], [47.560370101232415, -122.3930383047998], [47.56725798913214, -122.38221291496008], [47.56137397094919, -122.3884382372952], [47.56164625029347, -122.39707259929372], [47.56696290438779, -122.38337757721403], [47.56494994491953, -122.39797690201247], [47.56704816134896, -122.38615064740736], [47.56830072616979, -122.3760300131968], [47.56722692276702, -122.38508567294944], [47.56401857889343, -122.38885558598376], [47.56280117776832, -122.3870543160037], [47.63972335767088, -122.3764220776374], [47.6357729368541, -122.38861928749252], [47.63707970919291, -122.38617913336944], [47.63502327799336, -122.3896954585665], [47.63288520520258, -122.3771697402237], [47.64738253593482, -122.37804928184484], [47.66118596650386, -122.38534417643892], [47.650062319491525, -122.37738430765091], [47.63920028322554, -122.38661556538368], [47.642361949808986, -122.3775093333712], [47.63834272728785, -122.3861921219981], [47.59577199931983, -122.32731604506915], [47.5597785590347, -122.32360314028224], [47.58000693200782, -122.32662822547312], [47.5775896437578, -122.31956561639572], [47.57668747621031, -122.32192824617049], [47.55427231052301, -122.3126486673478], [47.54296367283013, -122.28904717526984], [47.54482778227728, -122.29962707733836], [47.54443757841156, -122.30120029634963], [47.56034897677932, -122.31402319056404], [47.56082164187594, -122.29563724620552], [47.56076941740052, -122.29431480136977], [47.56108748731173, -122.2961610967124], [47.5520095188362, -122.30586891883353], [47.55727510300076, -122.31334530306138], [47.55421556294127, -122.3086033571002], [47.55708216428577, -122.30920296667824], [47.54454406675028, -122.30138707021054], [47.55368054651328, -122.31780503212192], [47.55560303856331, -122.30085453799316], [47.55920111525744, -122.29447913891734], [47.55551619742354, -122.30332317085865], [47.542991403360986, -122.29964812031211], [47.55256631875197, -122.30434964427232], [47.54382833779016, -122.30276478403084], [47.55401819763596, -122.31755339608048], [47.56137576148686, -122.31741051258558], [47.5658340579664, -122.31492338890789], [47.55219473065589, -122.30517740831009], [47.54986937658492, -122.29254923455925], [47.55530659044021, -122.30328126449388], [47.54762602613064, -122.30413371806502], [47.54498546288632, -122.30089926184726], [47.54712359387442, -122.30139463979197], [47.54945611145161, -122.31657741596342], [47.54617149042048, -122.30809532624777], [47.53524505680028, -122.28486546940498], [47.532803137987045, -122.2891503593306], [47.52566156471516, -122.2811555045942], [47.69861296484062, -122.36344237960223], [47.68931773951409, -122.36513551796608], [47.69820987218864, -122.3617194258781], [47.69444400372631, -122.34659410569202], [47.69022200428572, -122.35437120501152], [47.70484849004311, -122.3448873954637], [47.68644323575703, -122.35004730895552], [47.68438656609459, -122.36086979269469], [47.69457430757432, -122.35795935350926], [47.70290980114245, -122.36187337172962], [47.703412385409, -122.35480304957758], [47.70048323654476, -122.34656223149314], [47.69109348570525, -122.36464002063312], [47.68926863780896, -122.35414043748624], [47.69941938100473, -122.34831249572244], [47.69430764252812, -122.34673550930928], [47.69461915650809, -122.36063570209886], [47.69684140871068, -122.349080474568], [47.69835880468836, -122.34948846083786], [47.694904001576525, -122.36106279761492], [47.69239391344844, -122.35325289784844], [47.70391883795151, -122.3544290990173], [47.7018666105898, -122.34523645967018], [47.69314574539448, -122.3622588292876], [47.70329901188529, -122.36073241526356], [47.704281863582494, -122.34621809778736], [47.68638396873183, -122.34510622901335], [47.69400198698333, -122.35995318770064], [47.69510632603678, -122.34961633790256], [47.68396502676616, -122.35792529073176], [47.69874400289459, -122.34834691812344], [47.691250462217, -122.36117756769092], [47.69107690511807, -122.35644791543125], [47.69251163716577, -122.36466227640008], [47.688059798101136, -122.35201683202948], [47.68554794933068, -122.35142135168142], [47.68942014378443, -122.362742348306], [47.698495644515134, -122.3460439290001], [47.68660330330381, -122.34854132211726], [47.69474575408975, -122.3580742473434], [47.69722466884666, -122.34876156918638], [47.70478892877898, -122.34640195030182], [47.69393723463818, -122.36307052982342], [47.70176565247275, -122.35443535095185], [47.68635058076888, -122.3531560632958], [47.6986213639699, -122.34633612556948], [47.68796586734098, -122.35005573597373], [47.699809287151744, -122.35551847109252], [47.695746427644565, -122.3459451589091], [47.69667423468204, -122.35851227157892], [47.68471103285552, -122.3544242919029], [47.684003937540304, -122.35388678920852], [47.69137260027836, -122.36404939345935], [47.70394624565899, -122.3575705949856], [47.69177391621422, -122.36567515823792], [47.69493160352201, -122.36001135703528], [47.69796136916228, -122.34900702762216], [47.700481024903794, -122.35089205892858], [47.68449844267361, -122.36538315116282], [47.69285099348395, -122.35667054339106], [47.6907273724811, -122.35330530832056], [47.69274786106737, -122.3597568232652], [47.6969263355011, -122.35246458429208], [47.69576778601286, -122.3482072688588], [47.68695586274644, -122.36449697359484], [47.69057411286982, -122.3516280920531], [47.6965616389188, -122.36275074363152], [47.69585301696276, -122.35935622173236], [47.69250364121559, -122.35216340579804], [47.69430816295927, -122.35068463853364], [47.69584005470616, -122.35667175232032], [47.69614721129001, -122.34864331193025], [47.6841228388045, -122.34702569277438], [47.69921614825644, -122.3507160207942], [47.68752703769805, -122.35608108151442], [47.68765780516935, -122.3575246427434], [47.68458930528262, -122.359320645064], [47.70095010578348, -122.35322061421772], [47.68348314871844, -122.35705388667768], [47.7030467070973, -122.36276407284042], [47.68796588173736, -122.35290494977848], [47.68464908459314, -122.35771619873258], [47.68940563322306, -122.3481264723316], [47.68526916103524, -122.365503503403], [47.69971929123485, -122.3450886454843], [47.687782142393615, -122.34859609133233], [47.68554620930996, -122.3632620161459], [47.69985568970087, -122.34811668005436], [47.69386019568786, -122.3504936828258], [47.54175591322441, -122.28928912722868], [47.54290734285079, -122.29668315361708], [47.53668112329797, -122.28611586516774], [47.53427640288443, -122.28160623445036], [47.53699589085733, -122.2813078594131], [47.53903549144155, -122.2942432810186], [47.51501214147967, -122.39555060802635], [47.5203940107188, -122.38928531511608], [47.51862409100509, -122.38637040342874], [47.52678914038067, -122.38346175078756], [47.51855218700446, -122.39118820273832], [47.514680316204704, -122.39396780912683], [47.51839076500445, -122.38848936562582], [47.53212815525277, -122.3907846344624], [47.525475734334485, -122.38854780598548], [47.52480878739996, -122.38722402276122], [47.58468275254588, -122.31157203915072], [47.57982485629932, -122.3068797604694], [47.5859417720306, -122.31404610755312], [47.5777946964874, -122.30258130174605], [47.57878466258972, -122.30795585640976], [47.577472352894105, -122.30308037965868], [47.586232324671805, -122.3148062304022], [47.579020127298605, -122.3157431989363], [47.58826621311705, -122.30848615667708], [47.57566772454509, -122.30331694123488], [47.57618629337753, -122.30386721433008], [47.57608514622383, -122.30402714524742], [47.57741482471651, -122.30229960761704], [47.57778726052836, -122.30279079623531], [47.58145636490471, -122.31537895186148], [47.57738782977061, -122.30436136707696], [47.57805989215266, -122.314009728676], [47.578412585057, -122.31579403162596], [47.572876156504535, -122.30987722082004], [47.57274894275662, -122.30743249674757], [47.58016983386594, -122.31172788815635], [47.58777721365417, -122.31692014946668], [47.58558082111754, -122.31195579494616], [47.57181223893098, -122.3081813763631], [47.57543905550266, -122.30757135721352], [47.57756078225309, -122.30428066418015], [47.58004408724626, -122.30709347386912], [47.57896005046971, -122.30432115014952], [47.56529214409568, -122.31206628506642], [47.5883839166187, -122.31618537150266], [47.583786700916974, -122.31676967675524], [47.57727069591887, -122.30185709286152], [47.575290972156935, -122.30204873393409], [47.58946164877133, -122.31099392133817], [47.57764573484693, -122.30245216635872], [47.58513027441332, -122.31526144655828], [47.5718625553106, -122.30666680304267], [47.57706217874174, -122.30888762226849], [47.58852065693014, -122.31821875106144], [47.57958270715148, -122.30983247940922], [47.5846707019761, -122.31464507617191], [47.58430063748111, -122.3117624747522], [47.5841913321413, -122.31165221722586], [47.572721085122126, -122.30734743890596], [47.59043530606866, -122.30871002040908], [47.57181252485698, -122.30538116916804], [47.576204170093455, -122.30672844165814], [47.58345052931265, -122.31647308056289], [47.57169368287292, -122.30950811995764], [47.573142635845954, -122.31054790505442], [47.577433158395934, -122.30547497392942], [47.574184919892886, -122.29938508586191], [47.588322702269465, -122.31119215650892], [47.588753123259096, -122.31107617222992], [47.57248931678653, -122.31116544920825], [47.59214117691236, -122.3193539694788], [47.57176768887868, -122.30831838055047], [47.576251949114045, -122.30367586066464], [47.5757694804858, -122.31636208846804], [47.59566143433549, -122.3180159570667], [47.58009265261841, -122.30485638264813], [47.58002068354933, -122.30686388265453], [47.57975166389754, -122.3093851757636], [47.59188627385039, -122.31822255275053], [47.57130286192215, -122.30967375479632], [47.58313182674253, -122.31470996634302], [47.58880186420391, -122.31525572279838], [47.577430660166605, -122.30569454025796], [47.58360071205829, -122.31398268169708], [47.57582991950808, -122.30348448318895], [47.579067320677495, -122.31538810858396], [47.59001086994751, -122.29468392754376], [47.59177919297077, -122.31846221975636], [47.59155235892177, -122.31299628819905], [47.572819977497126, -122.3074617936825], [47.58646053320332, -122.3150497915222], [47.57660540646618, -122.30193413525944], [47.587861437184586, -122.31397531810909], [47.58123044582929, -122.31045183422692], [47.54553222502494, -122.27222801311774], [47.54396632280287, -122.27168915643624], [47.54538739226149, -122.27302334700347], [47.53898624963268, -122.27799126505847], [47.54048514181432, -122.27529416245038], [47.53540733743967, -122.27983057017124], [47.54515616248273, -122.26994043189568], [47.54552039849873, -122.26988586166964], [47.54438844370521, -122.28312373417482], [47.53649713277183, -122.2746604356086], [47.53678301138112, -122.26829463081414], [47.54561306038226, -122.27257340203307], [47.54517278894307, -122.27013557453864], [47.51750416148741, -122.36468355577983], [47.519769301064834, -122.3597623377686], [47.526647483560495, -122.36113787103372], [47.52553001428419, -122.3577343324363], [47.52793652313042, -122.36367436749131], [47.519448857903214, -122.3624993879849], [47.51769741829905, -122.36529944659635], [47.51913837079121, -122.35937156087576], [47.52397950434662, -122.35989059909596], [47.530784950591055, -122.35545802391246], [47.5331485546507, -122.36550602948142], [47.529872525244976, -122.35982333721564], [47.69076470657127, -122.27469388041918], [47.676065757795584, -122.27688351126804], [47.68417280898952, -122.26551010669228], [47.685087372072985, -122.26709930059818], [47.677869134644965, -122.27183023272067], [47.6764701385461, -122.26818273750985], [47.68171495424424, -122.2760225278756], [47.52543166211981, -122.27823367574916], [47.52129351472614, -122.27318225358844], [47.52673959714216, -122.2747998752735], [47.52765189488406, -122.26596615370003], [47.52764508845274, -122.27740239464651], [47.52456532560882, -122.26091882202796], [47.52749353583138, -122.26095748026836], [47.52984647440817, -122.275839521958], [47.52413532538486, -122.27597636170242], [47.527510638387646, -122.26662779892445], [47.51905405124624, -122.27041778578705], [47.52283446089736, -122.27399223936912], [47.52731806106886, -122.27790909517137], [47.5297563485341, -122.2756999076422], [47.523437287109424, -122.27575475600884], [47.5306667261626, -122.27540901110808], [47.51988612460399, -122.27405536132936], [47.530897521850704, -122.27711602192696], [47.519816641595256, -122.27476362225283], [47.52773406613845, -122.27890285194748], [47.51734067752756, -122.26137062343484], [47.508502581844525, -122.26098035117252], [47.51855437022772, -122.27077496614696], [47.518938559385504, -122.25708494330422], [47.51016433184045, -122.26044257103932], [47.50728407352253, -122.25418857514202], [47.51145719576402, -122.25608099593698], [47.51745341050663, -122.25818608263889], [47.51790136011096, -122.26221266722426], [47.51465168951202, -122.259320187382], [47.51738572657421, -122.2614845108972], [47.5185240588396, -122.25782565328404], [47.51882896670651, -122.2610564112503], [47.51637103369653, -122.25994704025032], [47.5104955407011, -122.26039460058416], [47.510415634302376, -122.25223003277564], [47.50839421356433, -122.25823860852604], [47.55946044723176, -122.28303397844972], [47.56360793704494, -122.29479611254796], [47.588116130252885, -122.29230814944256], [47.560746429114026, -122.28313857119326], [47.5521979447527, -122.27984408924002], [47.56726880145243, -122.29014726131406], [47.558458718491806, -122.2871282108702], [47.54984749016541, -122.27321414696814], [47.55908285423865, -122.28346610346252], [47.56086617266626, -122.28612411092868], [47.561297038408405, -122.28121860707182], [47.560511109106216, -122.2789483009719], [47.55284232273945, -122.2778935707404], [47.556726699269625, -122.28618332993852], [47.55634092076103, -122.28396890002443], [47.563590802523336, -122.29678046690648], [47.562498717488126, -122.29751476106703], [47.55393868514143, -122.2856508330274], [47.5477169711332, -122.2738361172628], [47.54680018108738, -122.27806790942398], [47.57095725362339, -122.29906278302975], [47.57142639599925, -122.29832770518668], [47.56102095354469, -122.27944534044816], [47.562880239228285, -122.29824291454104], [47.5537712008494, -122.28368395751892], [47.56998517714332, -122.297272190932], [47.57502400008719, -122.29730565593886], [47.5631801602667, -122.28492313074784], [47.56504779665536, -122.2928593392294], [47.56491768913853, -122.29263859344162], [47.54723780456653, -122.27312260098104], [47.56335569330284, -122.29821975419424], [47.56791473873067, -122.29073563109328], [47.56791074194922, -122.29338842432334], [47.5466995762533, -122.27802965164813], [47.56856234518449, -122.29053889594616], [47.5577826910658, -122.2820305689717], [47.56135886960509, -122.29390940637586], [47.56575407772693, -122.29041638007338], [47.56252750972213, -122.29243979505466], [47.56361066106268, -122.2890519247489], [47.55487295948851, -122.2778329829351], [47.55742344650298, -122.2812687388707], [47.55278255172996, -122.28609379111596], [47.54847244464749, -122.27842801961393], [47.557774010331975, -122.28405186228976], [47.554634148535584, -122.27462463304931], [47.55945175447067, -122.2836336646569], [47.56961534584623, -122.29395530150327], [47.561838253124, -122.28908385225428], [47.552104401694336, -122.2810286073925], [47.5618520041956, -122.27856473633588], [47.55667314788265, -122.28230545492691], [47.56085902790565, -122.2759678556447], [47.55142191958175, -122.28087470544064], [47.5519523237381, -122.2878218977537], [47.56432648236372, -122.28829203724352], [47.55585809875673, -122.27292114415428], [47.55241211733809, -122.2741804769025], [47.58900742765114, -122.29743337153413], [47.577641923450784, -122.2891996038204], [47.57167449746208, -122.28772083668048], [47.574989233644295, -122.2910869222613], [47.590908637595525, -122.29477767361396], [47.578686578014846, -122.29152464393894], [47.57376352047368, -122.29434170367982], [47.57589070198042, -122.28847781021196], [47.57931034783584, -122.29288601841937], [47.57978356318417, -122.2917294615127], [47.56840825240406, -122.28621404522764], [47.59074812779021, -122.29534593647055], [47.59095881989424, -122.294553315333], [47.569473259972725, -122.28010651563277], [47.58565007208705, -122.29288651038524], [47.5834932048102, -122.2889715350414], [47.5835724112612, -122.29590102447558], [47.58491464185775, -122.29184860519804], [47.56529860962319, -122.28471919672924], [47.57410657004926, -122.28506180320568], [47.56840749372152, -122.28121875017176], [47.58963047850014, -122.29516612769584], [47.57793514169169, -122.29405171176856], [47.5890758255632, -122.29765851968553], [47.5664960257722, -122.28641223279858], [47.56821717473059, -122.28167318833198], [47.56486080719127, -122.28544558181024], [47.567008791923726, -122.28110124374776], [47.57548148483161, -122.28815870211167], [47.5834440417907, -122.29586773599718], [47.56904275863821, -122.28282202753718], [47.57963607662837, -122.2934110707298], [47.57549925294165, -122.29064478808964], [47.56597400751593, -122.28413331414728], [47.58985144887205, -122.29513150252384], [47.58013015586166, -122.28562135651396], [47.56567382630136, -122.28512059592816], [47.56856025948521, -122.28642871363996], [47.587694007412985, -122.29445712985982], [47.56576985974409, -122.285007409869], [47.59062865379524, -122.2898235327344], [47.57124346464379, -122.29078834249538], [47.58683747644089, -122.2952623242652], [47.58828683081299, -122.29591240191722], [47.57377941997783, -122.28496363509196], [47.5737539458833, -122.29271991015274], [47.56928922890167, -122.2855448871184], [47.57952944278804, -122.29386574577316], [47.56438561397143, -122.269097352095], [47.56028946396528, -122.26942791998924], [47.56232974722885, -122.26935385225092], [47.55270539006439, -122.2625186224707], [47.55176860592204, -122.26177667167045], [47.55920833628761, -122.27470533862518], [47.54462234564397, -122.269518872106], [47.55084201066199, -122.27006763085008], [47.54436648987397, -122.26851937384706], [47.55243655471247, -122.27069213420435], [47.55960129537917, -122.27215391504616], [47.54589892064228, -122.26374934561537], [47.55508435448713, -122.26455326154438], [47.56542579712536, -122.27644114940814], [47.54732190236062, -122.27162352983196], [47.568164622741705, -122.27464867974986], [47.55184414642442, -122.2622826405082], [47.54361387680739, -122.26783350080488], [47.54496089277878, -122.26923320835098], [47.56539359959783, -122.2716532910747], [47.56278256562194, -122.2719173072092], [47.557082593258, -122.27504569416254], [47.56052464906029, -122.26633250905022], [47.544282849572944, -122.26431641116764], [47.54672394646645, -122.26990257722716], [47.565438885913, -122.27002175701836], [47.54079716679692, -122.26511823380142], [47.54779235664975, -122.2662025653021], [47.54659988679218, -122.26452212198996], [47.55170408718154, -122.26974491116346], [47.55181102799365, -122.2676069086835], [47.55568444895418, -122.26645901295603], [47.55199612509775, -122.26472164455956], [47.56396146736752, -122.27355490974644], [47.56000257027506, -122.27367366359312], [47.55546317368047, -122.27218381993416], [47.55581751053628, -122.26535160191428], [47.545597035060894, -122.2697923822612], [47.5586360867769, -122.2644841255617], [47.54660516255363, -122.26668183984094], [47.56277186070582, -122.27285395208298], [47.56168142907604, -122.272122827975], [47.55060543163578, -122.26812918340084], [47.55351273704661, -122.2616098168672], [47.566546921903104, -122.36544227921578], [47.56486078777575, -122.36935206494486], [47.55626039002919, -122.36330978356096], [47.56845043444761, -122.36206706752424], [47.56138669648604, -122.36391500896367], [47.562106418082, -122.36173120498158], [47.55691176831891, -122.3622500347879], [47.56129726375586, -122.36240166161777], [47.56235927573039, -122.36027766310072], [47.56051759536983, -122.36253587381952], [47.56403789271297, -122.3735258680269], [47.5678301180422, -122.37004568745932], [47.56059602052688, -122.3617471206523], [47.5621188498996, -122.36121799831731], [47.56495864772283, -122.3723546947702], [47.56416340066152, -122.36670827789686], [47.56379772587213, -122.3624559732866], [47.55431826918992, -122.3755279065048], [47.56685437828548, -122.36543798194069], [47.55818063949522, -122.36304499890898], [47.56612608543363, -122.36658143724848], [47.55374284428944, -122.36423521430773], [47.56458426665185, -122.36630909477064], [47.56587378782787, -122.3683025343236], [47.56557206556964, -122.3704203064912], [47.55765999974555, -122.37606687319268], [47.55816052577119, -122.36119660881369], [47.5696575879365, -122.36171127747023], [47.56853475102717, -122.3706386673207], [47.56188277394586, -122.36548936350486], [47.55781910756468, -122.36348240088977], [47.568365191052806, -122.35686008730872], [47.69608596714577, -122.3182499345944], [47.70259245759744, -122.32282648356625], [47.69345321900523, -122.30765590514687], [47.70707190683216, -122.31948110433956], [47.69494907656147, -122.31988787496552], [47.69468715084564, -122.30648207114103], [47.69621747171737, -122.31576488138542], [47.69818838056255, -122.31624102073933], [47.70438254514187, -122.32210152665677], [47.70683596672351, -122.32158516482085], [47.69429336490132, -122.3125601950616], [47.69571857927814, -122.3119439187342], [47.69833120982215, -122.3215742147495], [47.70765877376819, -122.32162807581904], [47.70394953078907, -122.32288611645993], [47.700068489024375, -122.30601722624829], [47.70388274516064, -122.3158929848837], [47.70343743429742, -122.32570709944667], [47.69349291559436, -122.3063257165837], [47.70746501541828, -122.31947687297124], [47.69741760662327, -122.32475236739045], [47.69997816720038, -122.3077378517925], [47.70437884409855, -122.32085686317], [47.69445217052722, -122.3258190019864], [47.69872251879653, -122.31134656362472], [47.69316558947174, -122.30612863567691], [47.69288725895896, -122.30779620053598], [47.70054291964367, -122.3174115870971], [47.6953856704553, -122.3130749475568], [47.69310154099208, -122.30863071727772], [47.69154322660632, -122.3272879793948], [47.70396492129602, -122.32076118147032], [47.702987997285575, -122.32269664975428], [47.69829285526496, -122.32113996333212], [47.69717780081755, -122.3117444016059], [47.6957369530758, -122.31316340795988], [47.6965313152667, -122.31725876707036], [47.69090810064531, -122.3104829240563], [47.69498627108419, -122.30610633828724], [47.692767129059625, -122.32864531263664], [47.6972009725803, -122.31348102897086], [47.70767146582061, -122.32362015595422], [47.67035785593645, -122.29043120955204], [47.67333045188167, -122.29092070075596], [47.666404272681305, -122.29923413028772], [47.68150705180009, -122.30351617916637], [47.67992804459546, -122.31043293140524], [47.6674958946762, -122.29544332192364], [47.68058415516717, -122.30626096621896], [47.67900039146897, -122.30083841983446], [47.66569149852365, -122.29583951036058], [47.68018164904631, -122.3097739411299], [47.67767720447481, -122.29650746206042], [47.67232721888563, -122.29145116235443], [47.68127770458658, -122.30733423488054], [47.666439985526615, -122.29850275053522], [47.66759421572304, -122.29807730088449], [47.67710749366412, -122.30205482967467], [47.67675310398204, -122.29397184567456], [47.67563436782064, -122.29568726724656], [47.67673518977949, -122.29982482711084], [47.66962389375173, -122.29996436562148], [47.67443337214756, -122.29399518585312], [47.676616087581614, -122.2990467345036], [47.685333748381794, -122.30105166421188], [47.67633593583442, -122.30748585725551], [47.67545173021141, -122.30141956593464], [47.66376398992902, -122.2936090671952], [47.67814227231568, -122.297122650074], [47.670994921226175, -122.2978966619126], [47.66540048804482, -122.29506691311197], [47.668838095553305, -122.299326078079], [47.666061845510725, -122.29649179169957], [47.66428600264021, -122.30083128432736], [47.681086414284295, -122.30744415660746], [47.6684383401462, -122.2985723814466], [47.66842181034435, -122.298792838819], [47.680597237043074, -122.3073584011782], [47.679032630219325, -122.31196117977724], [47.6739980407531, -122.2935786334701], [47.67847209301504, -122.31095314674916], [47.68050999005382, -122.31153453932662], [47.6736046436972, -122.29217169410045], [47.66847367448751, -122.3017800699341], [47.679532207169565, -122.2988080945829], [47.67990724792314, -122.3107247147567], [47.66620804582955, -122.29561648145926], [47.6705636000509, -122.2979546638048], [47.675741790807, -122.29076695319512], [47.670488452181885, -122.30443150463708], [47.66711850610159, -122.2976793036703], [47.681436816903606, -122.3104491251949], [47.68300826482813, -122.29975035620248], [47.680451441659095, -122.31120469149546], [47.677583235844935, -122.30002229200484], [47.66408747721459, -122.29086274340008], [47.6813103615114, -122.30594954345857], [47.66920635655693, -122.29649327925073], [47.66642866628927, -122.29839937358103], [47.66871994981357, -122.29886043670334], [47.67843124318527, -122.31132542998937], [47.67613136703415, -122.31012498899624], [47.68208719585382, -122.29907862499024], [47.67992234643474, -122.3103084980681], [47.67857922742806, -122.30900255142302], [47.67451869327541, -122.30891715295483], [47.66660760510428, -122.29726469674053], [47.672582695567286, -122.30192475844942], [47.66819644796393, -122.29946628855755], [47.55292790828143, -122.3617998172893], [47.544951779981744, -122.3582036327038], [47.54027525327811, -122.3558026892214], [47.54349674374782, -122.35166409661171], [47.55102931441572, -122.36058484472898], [47.55149120178432, -122.3553172793086], [47.53530376975965, -122.35527373328648], [47.53660440506037, -122.35605231373758], [47.65027651882392, -122.31919144491675], [47.64741620464863, -122.32137509318228], [47.65042411781592, -122.3220168792875], [47.64461496754134, -122.3214240645804], [47.645748659091176, -122.3185807054856], [47.64646125745715, -122.31704056417558], [47.65029534954054, -122.32063135008796], [47.64586724358393, -122.32141560696932], [47.64421156166618, -122.32269891618436], [47.647421523359824, -122.3220040067104], [47.64728777986516, -122.31945523017168], [47.65044200196876, -122.32197964171344], [47.65112464560923, -122.32043087418124], [47.66354784225842, -122.2859381456835], [47.66450162424873, -122.28381465704764], [47.66559614931552, -122.28466836728953], [47.66914256010224, -122.27986654417865], [47.66639415633005, -122.28817250565396], [47.66836004352661, -122.28958887766034], [47.66509422863739, -122.28404850934808], [47.66846403365959, -122.2829888380098], [47.673477873972665, -122.28811040187912], [47.67207657145333, -122.28281642775688], [47.681445536852266, -122.28667330883664], [47.66975239335336, -122.28750791179203], [47.66600718076132, -122.28674498072051], [47.66199059741328, -122.29072881192651], [47.66305915009921, -122.28944774580228], [47.68118720310556, -122.28925743782364], [47.67635105699692, -122.28949875990207], [47.66374670205, -122.28870354951738], [47.6656180519684, -122.287880710489], [47.66806493888242, -122.28453631042434], [47.66442796681938, -122.28619288614053], [47.67060807500743, -122.2878475210691], [47.667803858606725, -122.28773811947144], [47.66566398788688, -122.28567666760794], [47.672343252110615, -122.28329071900096], [47.662923090792745, -122.2890039024932], [47.66911843633682, -122.28504603419856], [47.67178534495583, -122.28767750479604], [47.6696399149561, -122.281995873385], [47.63965784052907, -122.30463152528402], [47.63766672991541, -122.31530428016352], [47.6365043077423, -122.31930477017605], [47.63972889988455, -122.30121810131388], [47.63713056901353, -122.30271380413792], [47.64012774906391, -122.31525876358366], [47.63639417563842, -122.30240055347782], [47.63975661499247, -122.32225160033386], [47.63992865340657, -122.31871377097406], [47.6380283646074, -122.31860002347412], [47.63744382235102, -122.3144270791204], [47.63849277761209, -122.30049650776871], [47.638772153181165, -122.31843554380568], [47.64036685357871, -122.31584923893824], [47.63777471220278, -122.319983920645], [47.64003067422799, -122.29850281251068], [47.63658516658972, -122.31588545001054], [47.63799192209454, -122.30400812631808], [47.64033435220519, -122.30526080265231], [47.61486054053562, -122.31546833124018], [47.624137917270176, -122.32727554311612], [47.62105904383071, -122.32822010237196], [47.62836567900654, -122.32626046891215], [47.61966388959199, -122.3191162795944], [47.62432001041283, -122.32608628301442], [47.61638049614916, -122.31786622360212], [47.62168649655349, -122.32061884969023], [47.618170686309256, -122.32344377784072], [47.62002089985319, -122.32280862881208], [47.61506682569858, -122.32560916002753], [47.61418122128396, -122.3140700052626], [47.6225107853602, -122.32051470728354], [47.62072837728939, -122.32109699722228], [47.62474808189185, -122.32032597053156], [47.61973381560376, -122.322740823038], [47.627052896499926, -122.31954490055658], [47.61495273273261, -122.31941185502328], [47.62379135724417, -122.31651411784286], [47.626873641551846, -122.32051750235306], [47.63349158548441, -122.322302816424], [47.617555805981446, -122.31418873953652], [47.62456396297143, -122.31661498299532], [47.622029326373685, -122.31386979601764], [47.62353430565787, -122.31556601239728], [47.62223016337715, -122.31409219737309], [47.62322020755121, -122.31523608088898], [47.62379966326051, -122.3190341672445], [47.61627092595261, -122.32599896580255], [47.620976522740094, -122.31607875843976], [47.622855987513525, -122.31708990038472], [47.61313789860735, -122.3175377226774], [47.61982228005473, -122.31881607112815], [47.62142095846794, -122.31641953071114], [47.61421561457831, -122.32553172918782], [47.615966623454334, -122.32693776540636], [47.625714988776096, -122.3173102920761], [47.62321400022571, -122.32002196661828], [47.62329881514058, -122.31716822748298], [47.61649525057808, -122.32708425017428], [47.62524484107219, -122.31649425692164], [47.61704199454972, -122.32686447285572], [47.61662017369599, -122.32371449955797], [47.62216675841188, -122.31687264209646], [47.6279574725614, -122.32466949471], [47.6153102881738, -122.3145245042932], [47.61718398649332, -122.31828960639174], [47.62562563221539, -122.3180769670266], [47.61853363796208, -122.31850753795172], [47.61601586797109, -122.32353615370002], [47.619677383892686, -122.32414704371844], [47.61918172215583, -122.32579297310566], [47.62087465243189, -122.31805387771712], [47.6162496444032, -122.322292097674], [47.61815863519004, -122.3191845476638], [47.61571372883702, -122.32808914142876], [47.61541249311203, -122.32496759922569], [47.6369825622804, -122.32173322811562], [47.61419076781894, -122.32389228115012], [47.625455921509165, -122.32174151696007], [47.62379452222207, -122.31975059555351], [47.62046896650234, -122.31863469659731], [47.62355702380005, -122.31515011674897], [47.6164066677845, -122.32769003285853], [47.6238311339076, -122.31930419533158], [47.624420770811234, -122.31717902032374], [47.62303614169949, -122.32647716232336], [47.62198975642536, -122.3222551513866], [47.626963523069534, -122.32327274843482], [47.62239745150123, -122.32249951792954], [47.619882824070686, -122.3196125641577], [47.61887952998119, -122.31795698565196], [47.62068045273618, -122.32315852017412], [47.61637313057735, -122.32460765065125], [47.614873884137175, -122.31417732865728], [47.62343039682284, -122.32275084548397], [47.6199512046839, -122.31664724571128], [47.62217811200891, -122.31757174477796], [47.62039949860967, -122.31746766729196], [47.61701928519026, -122.3271470476607], [47.61810683885464, -122.32293176365567], [47.61945297920445, -122.32112603413674], [47.617241158612245, -122.31772664158956], [47.62619295066491, -122.31995505849991], [47.61784562394853, -122.3280946321029], [47.62153262903272, -122.3250448630464], [47.6238833175342, -122.31958864115572], [47.62491803102232, -122.3260380550972], [47.62600263386015, -122.32330601661366], [47.61973813992296, -122.32100999851748], [47.61699467773428, -122.3254852817951], [47.61794176614826, -122.31688155698724], [47.61973159986639, -122.31681502157753], [47.624247543300896, -122.31837941236564], [47.62224427031148, -122.32848759649916], [47.61584268914464, -122.32552914150672], [47.617061802816416, -122.32587242945196], [47.61932565683743, -122.32582024415728], [47.621713432153285, -122.32726173757592], [47.62013093979399, -122.32402873242825], [47.62029730683116, -122.32529437681043], [47.62066334231528, -122.32466118603516], [47.62114139903943, -122.32489272701945], [47.61987049944747, -122.32398850842291], [47.6205646907861, -122.32508155515544], [47.62335266619228, -122.3230688605808], [47.622903090477365, -122.32598047568774], [47.623621343862766, -122.3195298883358], [47.61760918397575, -122.32779110507346], [47.62486043516992, -122.32106806593092], [47.6236529544448, -122.32090432358002], [47.6241243288054, -122.31997550076518], [47.62528522000582, -122.3200901089536], [47.624301210850525, -122.31915424938548], [47.62244315480284, -122.31574146563536], [47.62465018915071, -122.3168894453967], [47.62032667146898, -122.31580513076575], [47.6231865866163, -122.32722246938246], [47.622979112333255, -122.32865604869336], [47.62869351239583, -122.32054223430286], [47.62202852379674, -122.31635463069352], [47.62164177388772, -122.3268447657616], [47.61885233583088, -122.326261986149], [47.62177825469548, -122.32378708881984], [47.614852878885, -122.32399211714062], [47.61481835673556, -122.32505819810316], [47.61880493968164, -122.31884911655987], [47.616818944913774, -122.32471227292962], [47.61917438842803, -122.32184919122312], [47.62387815166235, -122.32624956914115], [47.62847548976194, -122.32161576330468], [47.62205782744373, -122.31809470503484], [47.62297719312208, -122.32705078769804], [47.62362859882143, -122.32688920823487], [47.61953146847298, -122.31581446685992], [47.62238555951581, -122.31476729107668], [47.6200017105456, -122.3169148249804], [47.621124527414494, -122.32487225136022], [47.61491060493543, -122.32611583170696], [47.62169511078001, -122.32668103353848], [47.61669008148117, -122.32388187823368], [47.62617630093577, -122.31762481251674], [47.62824408871563, -122.31908712323094], [47.62241455231983, -122.31266058844166], [47.614790981606646, -122.32326043270864], [47.626324273129576, -122.31708283896184], [47.623607083753285, -122.31723534881972], [47.62161777097461, -122.3147647243398], [47.617964152554194, -122.32702718026084], [47.63504486804123, -122.3210173524308], [47.620686991768345, -122.3274871848208], [47.62213655746582, -122.3257024832116], [47.62276796990185, -122.32616812737476], [47.62659130945079, -122.32675561707369], [47.623451355794906, -122.32586528580914], [47.62035389780235, -122.31702609177356], [47.61677145193078, -122.31758916284774], [47.62234267824028, -122.31596051327188], [47.63010057897099, -122.3131190276804], [47.626081256166266, -122.32539108072648], [47.61890988258248, -122.31757100047255], [47.615538567063226, -122.32486055067112], [47.635883571753865, -122.32185741048347], [47.62445666150917, -122.31617075517336], [47.616303671974826, -122.32357462265024], [47.62234371243158, -122.3258445481476], [47.62187050738056, -122.32784517420694], [47.628254887263886, -122.32619871707122], [47.62266250007002, -122.32792901166654], [47.61620831594769, -122.31623624091156], [47.61417353533865, -122.32692962667775], [47.616044871840536, -122.32644870952304], [47.624060519310206, -122.32778547297544], [47.61497630535894, -122.32385701477229], [47.62075063118381, -122.31654111400472], [47.61943955623934, -122.3205921305051], [47.6233648257769, -122.31900292919184], [47.62446328913634, -122.32469473893224], [47.61701040487054, -122.32039966253306], [47.61905245710695, -122.31769418440958], [47.620280159697096, -122.32313035362606], [47.615978441527446, -122.3269306302092], [47.61539737810128, -122.32563956188248], [47.6177310203808, -122.32625037418256], [47.624196126519145, -122.32385000276804], [47.62425178613752, -122.32581754816404], [47.62509140962521, -122.3284345582903], [47.62290084319067, -122.31504603128305], [47.62552576449215, -122.3235894208792], [47.61545123423191, -122.32874070552016], [47.6210818054676, -122.3268029388112], [47.62701369299947, -122.31644746622598], [47.62696244833271, -122.31850820493196], [47.61749952094209, -122.31409796168502], [47.62346221473713, -122.32733703099028], [47.62304256994192, -122.31938554306336], [47.62302485690024, -122.3242941727272], [47.61602024189273, -122.31404921274488], [47.617864588930445, -122.32203006471325], [47.62161272592612, -122.32061140917168], [47.61464456967695, -122.31683359763142], [47.62697761832084, -122.3242979748076], [47.61593140605766, -122.32529675461356], [47.62424231767299, -122.3209224872884], [47.61625972104768, -122.3255427664448], [47.621477725258295, -122.31993078200205], [47.62500876737865, -122.32597613377762], [47.622366024993305, -122.31591800037413], [47.62551189092091, -122.31709174496096], [47.6232210054084, -122.3151147612988], [47.62572233084138, -122.32090111669412], [47.6174479875502, -122.32262476892518], [47.62479371030663, -122.32177211499076], [47.61972993343194, -122.31691058825194], [47.62060411423205, -122.32200024109606], [47.61491807893655, -122.32411175753724], [47.62091213435827, -122.31491941075431], [47.61909772357814, -122.32140021172444], [47.61952840790508, -122.32806719783578], [47.62330379256412, -122.32595584559913], [47.62590156734253, -122.32732926055527], [47.61456900610705, -122.32723580010256], [47.62491523967346, -122.31972929514926], [47.62476205344759, -122.3202597035664], [47.6234099526752, -122.31919052384433], [47.62477068451541, -122.31914268237028], [47.63070461405453, -122.32119831808032], [47.621998911538704, -122.32228238802097], [47.62174048257828, -122.31783945249023], [47.61419724651563, -122.32278851024674], [47.61894378171149, -122.32657315625907], [47.62073340316015, -122.3171032165151], [47.61864796828616, -122.31531185006163], [47.639487959227885, -122.32278303732863], [47.613876113498826, -122.32927710054832], [47.61847865890015, -122.32452175311212], [47.61763886070276, -122.31467191118963], [47.61802136983288, -122.31710027947058], [47.625281278016416, -122.31768608498554], [47.61856014026699, -122.32343883530544], [47.62767304353864, -122.32109340273814], [47.6270232611412, -122.32346440467845], [47.624305732445954, -122.32826630804962], [47.62033253793437, -122.31620374219985], [47.61865424428634, -122.3142090988259], [47.61797863515815, -122.32315848757608], [47.61739540658632, -122.31547306553668], [47.63372310601173, -122.32234595010326], [47.62076458239214, -122.32578846058836], [47.61854651283646, -122.32631806552756], [47.61868194653507, -122.32136314260772], [47.62359783232851, -122.31768174309032], [47.6207030329412, -122.31886360835568], [47.61503544446293, -122.3158877646662], [47.62812597038292, -122.32723989774718], [47.62360402942079, -122.31943744429168], [47.62301318621346, -122.32274204966193], [47.61705478002012, -122.3259250498193], [47.6155126342199, -122.32264937400612], [47.62098132147749, -122.32396375515576], [47.63092742287477, -122.32456495810824], [47.61506168978295, -122.32274003117756], [47.61587740300795, -122.3142967165866], [47.62304603450335, -122.32046539981424], [47.61530919395087, -122.31838210781476], [47.62525475595666, -122.3260842999262], [47.620170905410745, -122.32383947183314], [47.62235362222631, -122.32201593187229], [47.62319865456118, -122.3252505372043], [47.62359340953379, -122.31682653858252], [47.62179988726788, -122.32124544372044], [47.62498107745399, -122.31648748222864], [47.62358546548156, -122.3266563571155], [47.62529342431216, -122.31757638645136], [47.62040250864689, -122.31930914967494], [47.61868893985362, -122.3221870366059], [47.61538097895309, -122.32412893406638], [47.62393110877108, -122.32258619088644], [47.62383897014697, -122.32176005478334], [47.63417398577591, -122.32223217998862], [47.61812929143407, -122.3148371335712], [47.6241532577878, -122.31822713162882], [47.61445783391577, -122.3142697355306], [47.62026414447599, -122.32246363897646], [47.61390856932194, -122.3290301694458], [47.62572677985786, -122.317307594226], [47.62447068990233, -122.3184991694172], [47.62362019775472, -122.31696656650816], [47.6258102249568, -122.31926581992512], [47.62336215811369, -122.31667781615316], [47.615363931888766, -122.31483092183912], [47.62175821076836, -122.325840160707], [47.61860859602773, -122.3196966339597], [47.62569810383052, -122.32095362196334], [47.61838242079652, -122.32453486689596], [47.62510349041335, -122.32652306493708], [47.62398243705371, -122.3203741915204], [47.61600642141287, -122.3130781723403], [47.62766968104281, -122.32144809656958], [47.61807723405025, -122.31886357465883], [47.61726067712591, -122.32394469218342], [47.62563419343173, -122.32466333147592], [47.62529951645379, -122.31654637635712], [47.61694391684718, -122.31649008627724], [47.62180324121264, -122.3252479011912], [47.615623006444686, -122.31521483497788], [47.62083205223188, -122.3228061236522], [47.6139888733625, -122.32778916790994], [47.61530314719316, -122.32770208783126], [47.624436724098, -122.31811185636352], [47.6251745924337, -122.32516132354422], [47.62409412587149, -122.31969523850948], [47.62938384278783, -122.32174916186636], [47.62528743393574, -122.31942483842946], [47.61865640333776, -122.32483751012865], [47.62328263700896, -122.32377651664234], [47.62595730381212, -122.31780468586264], [47.6182231148292, -122.32319176338969], [47.62650039469603, -122.31985143306252], [47.61484239747943, -122.32356914291928], [47.63556404486238, -122.321561887869], [47.62361834796357, -122.32245414074175], [47.62462334967815, -122.31616214847824], [47.62511854513486, -122.32295932928496], [47.62748202701772, -122.31615312297896], [47.61485056899172, -122.3243035019593], [47.62289407407304, -122.3255749674628], [47.621627391991474, -122.3169293075834], [47.61920606095602, -122.3232524696258], [47.61969855602979, -122.31487625939448], [47.61819943522448, -122.32141714909068], [47.62868618281163, -122.32233635925644], [47.61522663335171, -122.32428101492906], [47.61501705985175, -122.3230597659922], [47.63390682383547, -122.3215254948325], [47.61690781997636, -122.31369192809282], [47.62396966799688, -122.31773144165362], [47.616519693670014, -122.31459643127462], [47.61682554836069, -122.32359624163206], [47.62616578928794, -122.31712823022248], [47.61804404253512, -122.31483131759224], [47.623075962208, -122.31660304673586], [47.62398864466045, -122.3158359759188], [47.61549540486638, -122.3264756668323], [47.61327018313919, -122.32947002542674], [47.61764106757088, -122.32770354691615], [47.62098898046823, -122.31655611576564], [47.61520033505996, -122.313860487452], [47.622050584666326, -122.31559908067568], [47.62294747501747, -122.31958774698988], [47.61330126544714, -122.32993206616352], [47.62401197575456, -122.31621017742802], [47.61910066597741, -122.32271145764996], [47.61836948423559, -122.31474073780552], [47.6278794169226, -122.3200708279655], [47.61984509466301, -122.32279362906526], [47.6251349132884, -122.3205097047422], [47.61554277927273, -122.32668881921678], [47.62043350749607, -122.31688441662835], [47.62299279275405, -122.31709138394211], [47.61929785224479, -122.31584578996916], [47.62364523469755, -122.3234775097152], [47.615321512698, -122.324863244341], [47.623129068741285, -122.32560513528108], [47.61876528552809, -122.31600844955838], [47.61536886522153, -122.31483657118984], [47.61436709350642, -122.31412814374627], [47.62506293023641, -122.31905321285264], [47.61495573384634, -122.32432241023166], [47.625473087322646, -122.31302634012484], [47.61742597866284, -122.3267562717012], [47.62190186200064, -122.32306136393348], [47.619935222108936, -122.31834048094842], [47.625889970598976, -122.3166568052174], [47.62389536485159, -122.32560666625224], [47.623968752733575, -122.31446151785902], [47.61635696928595, -122.3263328507756], [47.620583018232345, -122.32333438207564], [47.62202055571496, -122.32398538651148], [47.62924269304913, -122.3272027057837], [47.61926923648469, -122.31317154789092], [47.61995332298019, -122.31648783908356], [47.617445603731625, -122.3267833007078], [47.6186980165905, -122.32182043314306], [47.62296851517283, -122.318914970648], [47.62211620265593, -122.32802969369584], [47.620265238565, -122.32453129842692], [47.619151635896365, -122.31287642646492], [47.61953599381076, -122.31329024943692], [47.62072668788442, -122.31657354369142], [47.62416288150485, -122.32462894345336], [47.618987848353214, -122.3157066595997], [47.62213327261456, -122.32830692806728], [47.62437140995766, -122.31449356747156], [47.61763326925246, -122.31478863424516], [47.61373021474704, -122.31717553174882], [47.62392188931403, -122.32470761106396], [47.67656866951956, -122.3904257785772], [47.67876137685482, -122.3830886150338], [47.68344123146372, -122.37758583141272], [47.67978818181426, -122.38720229220822], [47.684385945756205, -122.38731790126847], [47.67634538462377, -122.39015437100504], [47.678247195026856, -122.39145461521288], [47.68192738484209, -122.38996596533865], [47.68274745142257, -122.3894702789052], [47.67780640502937, -122.3900696791092], [47.683292687601615, -122.387890871714], [47.67859874087154, -122.3892224190788], [47.6791867438917, -122.38939949379866], [47.682632764250975, -122.38003166731494], [47.67598536122486, -122.39236983835568], [47.68589429957411, -122.37838172850022], [47.682309277976834, -122.37874966188296], [47.6833084146681, -122.37842789781892], [47.68134889368992, -122.38847819637913], [47.67782688494264, -122.3901366346651], [47.68668747130594, -122.39140079237762], [47.68282230991353, -122.37711414011372], [47.67613237949535, -122.38789009715448], [47.68804807506789, -122.39230999944375], [47.67653970620245, -122.38001710277791], [47.68142459680326, -122.38503894840744], [47.67748935705024, -122.38300722083376], [47.681318268516975, -122.3907594484359], [47.67703164673482, -122.38978825845714], [47.68211266720749, -122.37863796163028], [47.68309623935664, -122.38488747878829], [47.67865724346276, -122.38596319316142], [47.68507273116705, -122.3926185578984], [47.684777216258325, -122.38023362420324], [47.67890136088437, -122.38186327463], [47.68128761190235, -122.37718112724728], [47.67639620828041, -122.38969592254782], [47.68115961660947, -122.3849032080102], [47.678133546271326, -122.38719706284223], [47.67736446131171, -122.39064118020045], [47.680358811123504, -122.38547722159151], [47.68088095768351, -122.38222538573548], [47.68718043489563, -122.37775508612614], [47.68289384178316, -122.3833530813662], [47.681835453673415, -122.37890289259444], [47.67653569832997, -122.3927758360174], [47.68108977502807, -122.37790318655158], [47.6861697316854, -122.37724756911916], [47.67916479085142, -122.3918982896517], [47.67710276580579, -122.37739237674336], [47.67713177253045, -122.3779184424994], [47.67655779162952, -122.388556377128], [47.71232885841725, -122.3010031160234], [47.712468272034656, -122.30705874794124], [47.718619177950565, -122.2983693514636], [47.70145299503429, -122.30822499944118], [47.71089867119819, -122.31187606074116], [47.70122059927812, -122.30814969770596], [47.716248790408, -122.31181061702684], [47.707638203751095, -122.31074488469592], [47.71328236580247, -122.30295079554097], [47.71705326881332, -122.3028379909811], [47.70487880304511, -122.30958246961204], [47.71258579676071, -122.31070411655652], [47.716547559409946, -122.29819480963484], [47.71230538533762, -122.31148570628147], [47.70197726300116, -122.30506696793908], [47.694971832165095, -122.27748148373448], [47.70638974062461, -122.28074562168604], [47.70505900461617, -122.2809825409234], [47.69454685193035, -122.2765862531731], [47.69333124289885, -122.27430912483646], [47.70245476952104, -122.2764194797343], [47.702493452134206, -122.277430350748], [47.698169767742925, -122.27530868859736], [47.69911331745363, -122.2730056506549], [47.70032554460981, -122.27788993915205], [47.69523394777537, -122.27264663470731], [47.71691760120692, -122.28316937676188], [47.69424173749816, -122.27724644053696], [47.70439930875982, -122.28911850769953], [47.71316886386523, -122.27957884784855], [47.69902653627106, -122.28452741869457], [47.69516920833031, -122.27521016844574], [47.70648991889953, -122.27916445218578], [47.70109134756456, -122.27530629259206], [47.68402967400614, -122.37408622258336], [47.683940881288734, -122.37304553256494], [47.67959073237747, -122.37001012252033], [47.68073450285213, -122.37183835130143], [47.68514928756054, -122.3763764363306], [47.6786054730194, -122.37404563655284], [47.683094029694615, -122.3713839227005], [47.68854019098801, -122.36681160099278], [47.68366488063717, -122.37085780739044], [47.68702260912776, -122.37321146395637], [47.686489527587256, -122.36846188385236], [47.69024708352697, -122.3696288817652], [47.67969204721214, -122.36929260099332], [47.67720864762551, -122.36969568655506], [47.67685555853757, -122.36711708325348], [47.676632376022994, -122.3667924199138], [47.68713311470204, -122.37630760672914], [47.68800610296523, -122.36955980039434], [47.68891704592609, -122.37586424609675], [47.67763444114481, -122.37543330985362], [47.67991670225664, -122.36710691527672], [47.68345242212878, -122.37618020171396], [47.67728571845608, -122.3746312338498], [47.67909006600589, -122.36967468550468], [47.67980166298034, -122.37506958854703], [47.67941168994686, -122.3705396261051], [47.70920228619516, -122.29790107736636], [47.698710075794686, -122.29575835087334], [47.69890572099664, -122.292220158652], [47.70935147011535, -122.2979748746459], [47.71125212632585, -122.29403938927474], [47.70919879426465, -122.30004557945868], [47.713480233161256, -122.2937874338842], [47.69854662571059, -122.2934498654248], [47.71102512714912, -122.29332606848824], [47.588695726625566, -122.38015011850564], [47.72299888677901, -122.30346221642236], [47.72049288585191, -122.30002676452904], [47.73208714730462, -122.3097813246219], [47.72855615329438, -122.2981587295536], [47.72323034005443, -122.30373182618672], [47.72784611796745, -122.30382586710142], [47.725210016784686, -122.3019263436156], [47.72654063346948, -122.30424930417776], [47.721562809590296, -122.30767046180512], [47.72588166110291, -122.30106314614146], [47.72991354475557, -122.30963047249357], [47.72776456053778, -122.2988422490676], [47.73060394505558, -122.29716544042702], [47.72702562722357, -122.30427446374632], [47.72043752479437, -122.30858457320112], [47.72202231545856, -122.30364107527308], [47.68845888343076, -122.31030209267946], [47.67736819429507, -122.31487292077117], [47.68039039397946, -122.31867561557928], [47.68308054924098, -122.31536249025812], [47.68790176927501, -122.32384593878214], [47.67575893307647, -122.31912137318692], [47.67647779457804, -122.31970707153437], [47.68900048967353, -122.31827432813014], [47.68725100864705, -122.313130273865], [47.68332737252483, -122.31222676825892], [47.67454018986317, -122.31569226682583], [47.67432058812668, -122.31314586273665], [47.68336379408489, -122.31146741199704], [47.68834446770536, -122.3224109839966], [47.68511442487386, -122.31830485867307], [47.68886776337719, -122.3098935325336], [47.6773292180147, -122.31783874206812], [47.67203329203678, -122.31361672415144], [47.68841032059834, -122.31731748310877], [47.67452884781275, -122.31452033504478], [47.67857299565208, -122.31337910413605], [47.684308990858064, -122.31310665674545], [47.67734736215905, -122.31495840765147], [47.68527201549857, -122.31755117145865], [47.67489522501084, -122.31379975104036], [47.68159649744591, -122.31840255187976], [47.68627137919133, -122.30964648946085], [47.67245646917922, -122.31575113039727], [47.676582622601664, -122.31867438493232], [47.67786643015581, -122.3204521282994], [47.62490007498326, -122.35210086931367], [47.63155931572763, -122.3620665659608], [47.62654169582862, -122.34436898699263], [47.61950452500925, -122.35274962226934], [47.62746847978757, -122.3569310744115], [47.6212747951532, -122.35537276101776], [47.62279340688641, -122.35886405820536], [47.62248720744779, -122.36191811254608], [47.62434027306917, -122.35364102908372], [47.622502741408, -122.3558351352342], [47.626167320095576, -122.35891050637773], [47.627580294840456, -122.3565624258136], [47.62647036540942, -122.35398620798772], [47.62203698518376, -122.35652137606164], [47.62081774289543, -122.3563353110631], [47.62309162924563, -122.35477553247937], [47.619892919328166, -122.3541423291498], [47.62385839256503, -122.36187911196046], [47.628237718671855, -122.35982915597364], [47.62459269406091, -122.35945109044368], [47.62065740553534, -122.359649521803], [47.62926800198702, -122.35912840214635], [47.62726804828516, -122.34536318425134], [47.62757145838079, -122.35369065232663], [47.62766752090634, -122.34961677115956], [47.62105520461474, -122.35737774223328], [47.62137650042686, -122.3556232806642], [47.621281453446144, -122.35675215495829], [47.62715149251287, -122.35746343366318], [47.62464949345221, -122.36453046050175], [47.63131042530796, -122.3577408269843], [47.62623303531511, -122.35729501610528], [47.62710960336519, -122.34621862152947], [47.62615511067371, -122.34999112359144], [47.61904215076249, -122.35201584012523], [47.62214547171944, -122.35982497897736], [47.62225065724127, -122.35750247625472], [47.623517130130814, -122.3572970686966], [47.63110090082641, -122.35668659232446], [47.61988748189817, -122.35328902364948], [47.627767828051645, -122.34810586379612], [47.62144287319413, -122.36162690999424], [47.624836357183895, -122.35387958192914], [47.62652554390158, -122.35288281391716], [47.62060974901337, -122.35626606423556], [47.6236280859521, -122.36200298206784], [47.62147653895988, -122.35625307795014], [47.62703059257943, -122.36272883940298], [47.62785774293052, -122.34810351600734], [47.62112474750126, -122.3569294778204], [47.631003231587, -122.35795005421312], [47.62720953097232, -122.34515729316188], [47.62578698577888, -122.35088964939114], [47.62792659510163, -122.34511627397887], [47.62601015953462, -122.34781867241936], [47.62610197913839, -122.36699699901654], [47.626829887977294, -122.35739830561972], [47.62607559607521, -122.34450403862124], [47.62504707003342, -122.35223144456036], [47.62495042960465, -122.36344884685651], [47.61969817110911, -122.35811987389944], [47.6306687320938, -122.357291924901], [47.62558046059477, -122.3472876035103], [47.61902970402387, -122.35437398015524], [47.631326623802046, -122.36163690032872], [47.6187622350322, -122.35341350057244], [47.62770082678977, -122.34490107106582], [47.62585946715112, -122.35766854965892], [47.62632060786393, -122.35736699624276], [47.626858841276096, -122.3596526226253], [47.62680149695164, -122.36229309323302], [47.620233766647104, -122.35434337529122], [47.627822860701336, -122.35341476322996], [47.62737584770274, -122.34425344886766], [47.62767351934829, -122.3586108085457], [47.62072918391622, -122.35645345367494], [47.62640470003942, -122.35838020763768], [47.624061723664745, -122.36207546323692], [47.62781649939787, -122.34743986784252], [47.61974053311945, -122.35368943479293], [47.62244150551632, -122.36108414458816], [47.62563890753154, -122.35986626384914], [47.625177023256704, -122.36202062816498], [47.62749449350216, -122.3504306995804], [47.62658526672353, -122.35837986843632], [47.62352920520026, -122.3552304036194], [47.62620961672291, -122.36014709539658], [47.627620827087554, -122.35659251554976], [47.6210718765165, -122.35312435594248], [47.62680716736821, -122.34811385972382], [47.62182086253421, -122.35623585500736], [47.62041688680292, -122.35791923954312], [47.61964031701725, -122.3575835271956], [47.62401552870012, -122.35398187615144], [47.69281514920636, -122.28533646705196], [47.68374787035663, -122.28730309304956], [47.68457972033377, -122.28669443975896], [47.68442173659331, -122.29846405758964], [47.69365290188945, -122.30316043866652], [47.69657701715148, -122.30455357926138], [47.69220039144081, -122.2923144158846], [47.68362342354283, -122.28827825158572], [47.69670073772953, -122.2957683759265], [47.6942077242851, -122.2862491662176], [47.69048694866752, -122.2967729108917], [47.695449210030695, -122.2825624854258], [47.69246459555626, -122.28688376888938], [47.68523246943455, -122.2894346437032], [47.68571344394092, -122.2899579902188], [47.692701184421885, -122.28547904161472], [47.69284772933439, -122.3046563716258], [47.68471012056479, -122.30011536346144], [47.69818119433137, -122.38710132957084], [47.70013380402096, -122.39227869120133], [47.6983351640249, -122.38671563310248], [47.69819123772167, -122.39661501125305], [47.69412182832424, -122.394657490376], [47.69833692586286, -122.392710283142], [47.7043215105622, -122.38179186815252], [47.7071543831191, -122.37416373766769], [47.698106493499616, -122.38464127843328], [47.69687803032313, -122.4004693447567], [47.7086315695662, -122.37524773928936], [47.69208597179185, -122.38349458841782], [47.69602594355654, -122.39359101520115], [47.703289462739626, -122.37562740654292], [47.721246687990735, -122.28773076677828], [47.72364728052752, -122.28821575871162], [47.72143243942427, -122.28181230127196], [47.71806305864558, -122.2834569645682], [47.71774237907718, -122.29394340515208], [47.7231783054827, -122.28288883471058], [47.71703853272886, -122.28906577941872], [47.71796191715599, -122.29114067340616], [47.705649477780455, -122.35217797283892], [47.73065280239865, -122.35154328375536], [47.71468781782761, -122.35468047484798], [47.71058258122987, -122.35507308839422], [47.70906910717799, -122.3459662505965], [47.705062152210886, -122.34648410762732], [47.71154249806317, -122.35247177585916], [47.72345667371376, -122.35000675071936], [47.71158998361862, -122.35490624316702], [47.70639863767755, -122.35283620160068], [47.72478218642393, -122.35306660791602], [47.715032864948135, -122.355344428721], [47.73335790856482, -122.35427683210628], [47.6861974904743, -122.39952125098333], [47.68353241315573, -122.40090161757358], [47.6692260950274, -122.40010272499178], [47.66788322180328, -122.39996900819426], [47.66992137736428, -122.40146384791753], [47.67234522076338, -122.39892000802274], [47.66813328423442, -122.40074868839622], [47.679337121661824, -122.39580771833316], [47.6806890498443, -122.4014587655766], [47.68695739195074, -122.40031815026224], [47.66917323076454, -122.40058336490942], [47.69087074646852, -122.39935337265798], [47.68952216710735, -122.39596484800248], [47.67698373309141, -122.40149601760776], [47.66899480713783, -122.40280063871452], [47.67133540936138, -122.40230291335192], [47.67958141380681, -122.40401157101138], [47.669937625971976, -122.40305930617517], [47.70608590961093, -122.34168269635124], [47.73264717600906, -122.34130100797616], [47.7083929529044, -122.3370373147342], [47.708264662425535, -122.33829887204294], [47.70757881739443, -122.33680822432828], [47.726701764954576, -122.32478882291645], [47.71501207068684, -122.3319746488079], [47.72741971337099, -122.32763885247316], [47.71823710226655, -122.3367060563143], [47.71914484505008, -122.32790730592671], [47.70901497299373, -122.33706296345302], [47.71488519176861, -122.33296364958792], [47.70675798076456, -122.3366145636803], [47.70689853625001, -122.3374281022537], [47.72395605524281, -122.32577620713803], [47.71298829009648, -122.31658132634888], [47.71110801780188, -122.31669632051477], [47.72932702233706, -122.31526086941793], [47.71245005373736, -122.32641767866464], [47.69302886101725, -122.34052165771406], [47.69151577037309, -122.33949847289306], [47.69710277841381, -122.34455594705128], [47.70505642846772, -122.33755113627734], [47.6967850478025, -122.33480077848702], [47.705198407550064, -122.33476950372832], [47.704309614458985, -122.33924219404967], [47.704210257980776, -122.3411374884572], [47.69146333658343, -122.34291580595983], [47.69234607434876, -122.33791064118786], [47.693596181816304, -122.34042280392724], [47.698255576630125, -122.34222967182689], [47.69453684792851, -122.33189473841362], [47.70495319473181, -122.34331361710088], [47.70055540368647, -122.3445681857362], [47.69616219676815, -122.33281338932562], [47.69464836083742, -122.332767916898], [47.6967836497855, -122.33291659845504], [47.69637208505421, -122.33099839593218], [47.68087330675194, -122.35612987755998], [47.6831754844364, -122.36321158140768], [47.68077958542681, -122.35156529011256], [47.6770861802034, -122.35136707056203], [47.68066817964939, -122.35812669062354], [47.67820431655621, -122.36599366995522], [47.67516361379396, -122.35432776097736], [47.68036017393898, -122.36420192136931], [47.6730567896239, -122.35163932882836], [47.67904141072519, -122.34811639770892], [47.6704531029363, -122.35994469580572], [47.677824487011705, -122.36516034724023], [47.678551736695496, -122.36582221556456], [47.66673365197358, -122.3572902422853], [47.67782054569616, -122.36169846871162], [47.67813731233358, -122.34606090816492], [47.68129309334925, -122.3532154925974], [47.67162630271549, -122.35191274023693], [47.67443807140556, -122.35570153023684], [47.675871044335686, -122.35304174184806], [47.670690874815016, -122.35582038695188], [47.67391346989599, -122.35541968143168], [47.67558743002652, -122.34946910843212], [47.67773946181988, -122.35671071678436], [47.67120131901316, -122.34993933187468], [47.67114065614694, -122.3519143699213], [47.67714970040002, -122.36219421053892], [47.67095718557983, -122.3564303833192], [47.678894074503255, -122.35603337910688], [47.672977265282846, -122.35226298647255], [47.6801788410201, -122.356169394237], [47.67745585232468, -122.3576312300758], [47.67100324463984, -122.35971758481756], [47.675115557962826, -122.35192201462924], [47.67748410980074, -122.34651807395234], [47.67590171312762, -122.35418590053838], [47.68253780383455, -122.35450662223876], [47.67019997174924, -122.3560891231518], [47.66549322706539, -122.34876347811758], [47.680868379543206, -122.354912285686], [47.667825100418696, -122.35849303220836], [47.68049106253779, -122.35560233798832], [47.68254528372459, -122.3510659315371], [47.67450960247169, -122.3526701880334], [47.66869716900951, -122.34026242818652], [47.68061842034878, -122.35325358410763], [47.67805803484732, -122.36448073784815], [47.6671389489326, -122.35838872871786], [47.67870890220993, -122.3642662258282], [47.66628349623065, -122.34050544402736], [47.68235861939058, -122.35237017080404], [47.66881656657538, -122.36050719485716], [47.67770465236915, -122.35983885212654], [47.67455802636143, -122.36011756269993], [47.665866098359245, -122.34862713908888], [47.66440913895002, -122.35632452770588], [47.67405277803925, -122.34892187742884], [47.67890862254743, -122.36350448503778], [47.67693615520516, -122.34761029262526], [47.67716562002255, -122.36169283150076], [47.67804598881192, -122.36042554654244], [47.66595566673428, -122.35636808414009], [47.68306637325721, -122.34934183156416], [47.67937119710528, -122.35696818678132], [47.666438630557806, -122.35840538630248], [47.67180986770782, -122.35042567104104], [47.68065431633335, -122.35416482758346], [47.679446687670655, -122.36354945031556], [47.67677606800108, -122.36573925452797], [47.68308159908718, -122.34900812775406], [47.67236711874453, -122.35204133880826], [47.67260961220636, -122.3599415966947], [47.66911184008564, -122.3602233517183], [47.67351780439878, -122.27494018017744], [47.671587043300455, -122.25994740399302], [47.66958388545281, -122.26271095004584], [47.671856783163626, -122.27457812684987], [47.66137026900953, -122.26799527989228], [47.668409755001086, -122.27024689760576], [47.67253248557309, -122.27857076996396], [47.67145027765348, -122.27636821082965], [47.67075686416935, -122.2767092187538], [47.67105427659155, -122.27890718932444], [47.66398274933784, -122.27482611715182], [47.660946116393184, -122.28685822610602], [47.665025323404095, -122.28053356880412], [47.6596404841275, -122.27077772581688], [47.657383080243314, -122.2857879461256], [47.659985600495226, -122.27224578984392], [47.65724093762146, -122.28477358046445], [47.66459067641659, -122.28164435658216], [47.66580643249395, -122.28143812274546], [47.66622533523533, -122.27675635150328], [47.64806732654159, -122.38286105722696], [47.64417928170769, -122.38384747542048], [47.64781515372746, -122.38898152626606], [47.64657054981112, -122.38841791663602], [47.64767851842145, -122.39247421529105], [47.632970710167385, -122.39488690437372], [47.64776523114392, -122.38250655818244], [47.64161953692924, -122.389724880791], [47.64336320158841, -122.3881651919329], [47.64570959760111, -122.39206043439565], [47.64653806616788, -122.39373832425252], [47.64667347178021, -122.3849647399193], [47.641205651697206, -122.38686559245234], [47.63862402703649, -122.3880129090587], [47.63791250712701, -122.39126417238708], [47.64032522843021, -122.38664944234016], [47.64325317841847, -122.38476510042676], [47.546759065319264, -122.3705601265185], [47.5380635363737, -122.3674219256306], [47.538321675223216, -122.36603453915852], [47.53463338786296, -122.36468022624555], [47.5506879794897, -122.37504961717366], [47.54801634264734, -122.37570663675604], [47.5429492203422, -122.37540639264807], [47.55325067182283, -122.36299401356256], [47.55296009065303, -122.37311355222673], [47.54294169322082, -122.36155532127783], [47.55029745724979, -122.37269633022936], [47.553641860100846, -122.36416852907088], [47.54553299243136, -122.36731591177632], [47.546028202580615, -122.37108016271888], [47.55420219990858, -122.39059049082256], [47.55599995900685, -122.39320339501126], [47.54543065329513, -122.39783727124518], [47.55201260236479, -122.39369260794912], [47.55569265761865, -122.38752517350746], [47.55691310249961, -122.3882632469595], [47.55575249079988, -122.4000448211261], [47.55914900855164, -122.39757540885633], [47.54733798309142, -122.3904658639568], [47.55872251387149, -122.38832216271352], [47.55929523648094, -122.40259362640042], [47.554839887067246, -122.38705658103588], [47.54948235435411, -122.31778777192156], [47.5506196980812, -122.32013541411904], [47.54543701256066, -122.31912746539508], [47.54624714709494, -122.31964164578784], [47.54969070926658, -122.31867911342044], [47.54597775477952, -122.32069123197164], [47.54488042512179, -122.32115763425814], [47.55004279305379, -122.31779872417488], [47.5211681277829, -122.32875520407347], [47.52893490091501, -122.32523659018658], [47.52667999543873, -122.3160363685384], [47.52790259680684, -122.36824721489764], [47.52816898758947, -122.37634665347868], [47.52668877276742, -122.34933924209987], [47.53045987399973, -122.3533317561406], [47.52448605379693, -122.35380141452104], [47.51829751474039, -122.35068690463092], [47.5254332309848, -122.34346494910947], [47.52578916144211, -122.34451200063005], [47.52974660556079, -122.349092257617], [47.52508967609679, -122.3529101890388], [47.52755399510749, -122.35067736944444], [47.52709692120227, -122.34633810173533], [47.518817689459546, -122.35259848925892], [47.6386714317343, -122.27685749378374], [47.640942300255126, -122.27697357444556], [47.64193320921958, -122.28018895342572], [47.634203826597, -122.280113188587], [47.634078601059166, -122.2788965737805], [47.62931558511069, -122.29364882286276], [47.63800388731561, -122.2777909985428], [47.63471336785498, -122.27936710596536], [47.63319218014893, -122.28829364437304], [47.63661481798067, -122.27688205606256], [47.63917993248105, -122.28016070507648], [47.64020779366273, -122.27974821888262], [47.6371342850398, -122.2767983186092], [47.62840339112678, -122.28993795057536], [47.64092313492857, -122.27763406659544], [47.63664677977304, -122.2768576591358], [47.63985104945326, -122.27989479100876], [47.62360910712631, -122.31088057308683], [47.62050720346157, -122.30997779005992], [47.621082036196285, -122.31078468919785], [47.623236139549086, -122.30689745612425], [47.61961227568403, -122.30245510950618], [47.63011169940023, -122.3019340899492], [47.62954292196591, -122.30169503665827], [47.63121578772757, -122.30346029189742], [47.63146986171494, -122.3018807134636], [47.62974045178952, -122.301833959305], [47.63140078323688, -122.30308546938964], [47.63058492448708, -122.3097000033374], [47.618495765898594, -122.3093418369865], [47.62872248042677, -122.3015299251915], [47.62313808775152, -122.3082495643562], [47.62901568237309, -122.3098044183936], [47.619067191227366, -122.3069791552219], [47.62805711874812, -122.29954405177412], [47.62121353328492, -122.30490612839638], [47.62193712191891, -122.30733033732206], [47.63500980611301, -122.30466390968348], [47.61714445853799, -122.30959370261772], [47.62109013766492, -122.30705703881372], [47.61920282203423, -122.30938872981716], [47.62346202852933, -122.29734412309143], [47.6339774595272, -122.31072612922053], [47.6193515504055, -122.309054543315], [47.618097738097305, -122.30979136128936], [47.62865843422127, -122.30992659872324], [47.63027881284194, -122.30048097039646], [47.62463759971606, -122.30488424080292], [47.624059241578856, -122.30056715328617], [47.62180402309057, -122.30828677872132], [47.62005089148471, -122.3093351235339], [47.62215175280539, -122.30797593331307], [47.62513799017902, -122.30556171621502], [47.619177503913335, -122.30701646920168], [47.631464700182434, -122.3084705521602], [47.61956498641115, -122.31172965491884], [47.62039461476095, -122.31214691366412], [47.63155653419706, -122.30195778870709], [47.62988731797907, -122.30859166552344], [47.62906699259267, -122.30791337353013], [47.62271483544456, -122.3013784787199], [47.621184828845855, -122.30950011171733], [47.62049807990528, -122.31059139272466], [47.6240144915512, -122.30176068377772], [47.62229768708468, -122.30679299921148], [47.622471104958734, -122.29791621567372], [47.6197066374531, -122.30654707380069], [47.63223655955958, -122.31189764042162], [47.63131964200488, -122.30916458247096], [47.62721634932823, -122.29990688703224], [47.62337906550224, -122.31210250764124], [47.620166612886095, -122.30785499400385], [47.63793402136341, -122.31350552051168], [47.6242207405071, -122.30018548219256], [47.62883139746564, -122.30540964097634], [47.623046135576246, -122.30490698258534], [47.62770413809745, -122.30902307362231], [47.6152521615454, -122.31200054233196], [47.6214732615149, -122.31163747413908], [47.6186362030012, -122.31079869586996], [47.62162097582888, -122.30129525742656], [47.61781791590904, -122.3064097776198], [47.623389564435165, -122.30776705382958], [47.62779334908147, -122.29894146013568], [47.63077279403437, -122.30332320586508], [47.62206057016862, -122.29868379862366], [47.62995686326601, -122.30860995259572], [47.61887380943844, -122.3100211795884], [47.61752599204703, -122.306596585293], [47.62297658474344, -122.30177245917608], [47.62566655688869, -122.2975984985556], [47.62324212482755, -122.30304156551269], [47.62636343461941, -122.30992714453488], [47.61954591492936, -122.30852196884548], [47.61901512093273, -122.30933824944486], [47.63878684665799, -122.313342991691], [47.61945890305222, -122.31165164040348], [47.62148596654329, -122.30271261491828], [47.61827617520333, -122.30862154701846], [47.61838889563737, -122.3100003742444], [47.623795162280224, -122.30211680922548], [47.620264773671, -122.30777144924564], [47.61757070149381, -122.30899634405364], [47.61774920423304, -122.31200634406886], [47.6308784992299, -122.30366464912828], [47.62207170973192, -122.30386320548978], [47.62498852386177, -122.30994290078996], [47.63022263594373, -122.30324968056463], [47.62951002129162, -122.30307524312455], [47.61772928450984, -122.3114033486228], [47.61791142417204, -122.31126133359372], [47.62387528653714, -122.30133479636105], [47.624046238994325, -122.3018900623908], [47.614729982208566, -122.31239899719874], [47.61686796945072, -122.31074455421488], [47.63389202571661, -122.304287930163], [47.62124542181719, -122.30220098824104], [47.61800144630275, -122.30807197988808], [47.61722030375354, -122.30999231576403], [47.62242594691165, -122.29833910419516], [47.63088967342538, -122.30360022102722], [47.617821915295536, -122.31124744457264], [47.6234876641212, -122.31142390324564], [47.63040704898666, -122.30149005995747], [47.62466101257344, -122.30810017046672], [47.6214562130871, -122.29989888259092], [47.63033030802138, -122.30170782108068], [47.6360308448667, -122.31324159087544], [47.62307216468784, -122.31168531421208], [47.62401654596117, -122.30794716339804], [47.622100031227376, -122.3013503476618], [47.62251577550148, -122.31194261637523], [47.61742132709683, -122.30806550943262], [47.62111909314292, -122.2997381918772], [47.62817272445289, -122.30786321179876], [47.62316699320407, -122.30167806007238], [47.714587928061135, -122.3650888296824], [47.7094245213495, -122.36323260412952], [47.729904951351664, -122.35721023438676], [47.73331631191485, -122.36055950773743], [47.7173026237218, -122.36509242222816], [47.71575913435933, -122.36649725434803], [47.72101018872494, -122.36644878554992], [47.71351832820821, -122.35873528656684], [47.710734745173255, -122.35657498867162], [47.73082622851644, -122.35558832156012], [47.72272663544256, -122.35668427661884], [47.71003520618751, -122.35881979324], [47.70644318329943, -122.35997203006866], [47.71403265746829, -122.35596847799748], [47.716429295625325, -122.37204378143464], [47.71479712079498, -122.35587471526206], [47.71539597078646, -122.35972238469668], [47.65343423737387, -122.35184296897462], [47.65429758614541, -122.3525885074478], [47.65396801563036, -122.35092272668908], [47.653631979080224, -122.3435834722352], [47.65437101931993, -122.35745378318668], [47.65549784620424, -122.35928305068953], [47.65799597374823, -122.35050646544336], [47.655872109269374, -122.3568839127972], [47.661251766336, -122.35103716321402], [47.65701575384673, -122.35993982750551], [47.660814434999246, -122.3472742612175], [47.66032785183963, -122.35222649795358], [47.65488639501561, -122.3454027969336], [47.65624329693977, -122.3433933196593], [47.65895699877973, -122.35674240845212], [47.65371520819471, -122.34742336229796], [47.65323596748693, -122.35074365201444], [47.658760450946126, -122.35649893527405], [47.65302812619456, -122.3426827769605], [47.65191235875002, -122.34961073634317], [47.65555551419877, -122.35913483927445], [47.65219908544854, -122.34752107241547], [47.65256833970344, -122.35136101603464], [47.65717505792681, -122.34510762845844], [47.650928170935984, -122.34624988672252], [47.65557104823872, -122.34488929397256], [47.65957391863134, -122.34449393497448], [47.65590166370777, -122.36101606390685], [47.664406698485, -122.3525986698803], [47.65186769974642, -122.34886310202762], [47.65460544275371, -122.3470629676482], [47.65396828538977, -122.3450797994642], [47.66209732671686, -122.34951314823007], [47.65445181698063, -122.35440335800509], [47.6553965575401, -122.34323736837057], [47.6548713025183, -122.35325551487102], [47.64840403423241, -122.34487670503276], [47.64923402496424, -122.34606015334288], [47.66036135920771, -122.35268847893786], [47.653605048109306, -122.3582030771016], [47.659286575417134, -122.3471595124543], [47.65555047971205, -122.35544803989916], [47.65421753718388, -122.34721725134202], [47.662935926055546, -122.35764151216344], [47.66283101945332, -122.34900458769432], [47.65747136100215, -122.35648827538644], [47.65759982107789, -122.34649569890546], [47.656679715790425, -122.34740030125164], [47.65656982850658, -122.34942722032324], [47.65611341129331, -122.35334571692756], [47.65371477453997, -122.35180793369771], [47.65519501837715, -122.3528182316696], [47.66085311261847, -122.34993765233143], [47.6545345528274, -122.34527249471574], [47.652017349038815, -122.34592087709711], [47.65541169815801, -122.34431022917846], [47.660019772625134, -122.34545775654188], [47.65946873542607, -122.3521262332617], [47.65554662546565, -122.36055895775095], [47.659762638386646, -122.34640579744736], [47.65444027992798, -122.35198813700572], [47.66041924765907, -122.3518486179395], [47.65887304335538, -122.3508346971232], [47.65473076777367, -122.34882844603948], [47.65597445434178, -122.34318660954666], [47.65381905640752, -122.351291770029], [47.65911781877885, -122.34511708285558], [47.65692476652087, -122.36093488228845], [47.65027746592756, -122.34538017283356], [47.65898192432623, -122.35227564183964], [47.65487252987299, -122.350535295665], [47.66069548636607, -122.34992548896562], [47.652016078816615, -122.35189553618258], [47.65058592992447, -122.34882958181666], [47.659115739728925, -122.34265782864792], [47.6525476612294, -122.35293124519916], [47.65865265648151, -122.36081510353472], [47.65163994514471, -122.35272414964336], [47.65193632683714, -122.34285941851608], [47.66037597598447, -122.34485197048814], [47.65810701483653, -122.35738897716084], [47.653057001142265, -122.35032874572836], [47.65027292095315, -122.34406828137536], [47.6536199739238, -122.35689613939128], [47.66074287082135, -122.35638438400392], [47.6552142529515, -122.35847350369195], [47.65407390207967, -122.35828123699754], [47.66100430111227, -122.36305355903598], [47.65686196576722, -122.34790130891218], [47.65294820957498, -122.34699531511043], [47.65546605055918, -122.36142149759644], [47.657674560180205, -122.3586850491992], [47.66128038095368, -122.34321991145416], [47.65321431848841, -122.348586400394], [47.66025964397769, -122.344808988043], [47.65873258452463, -122.34344225624918], [47.652593589714606, -122.35421841760132], [47.65265240959306, -122.34738294548008], [47.656303029008846, -122.35636804828108], [47.65160862367554, -122.35606647053427], [47.6596267101508, -122.35084688804072], [47.6629580076112, -122.34866640561056], [47.66462600501595, -122.35977164822906], [47.6596601707567, -122.34944310749458], [47.65056280812492, -122.34406339773156], [47.6573248017592, -122.35700227708158], [47.65490965768877, -122.34545220015843], [47.6521142862473, -122.345674230076], [47.66392728217793, -122.35478632812844], [47.6598699993992, -122.35946442859], [47.65773936970419, -122.34991765655457], [47.655277824278905, -122.347261830248], [47.65729607058643, -122.35092545550032], [47.65339661119717, -122.35352360168834], [47.66011274473789, -122.35164622938272], [47.65883131385418, -122.34796651322183], [47.6611944480584, -122.36124309169884], [47.65944067320964, -122.35977422243472], [47.65198910712298, -122.35026452472036], [47.65352069804803, -122.35063360430097], [47.65758911115836, -122.35437619558948], [47.65495788663541, -122.35336184929912], [47.65461984108357, -122.34807517276634], [47.65892622402479, -122.3459516143106], [47.65694628649808, -122.3459769347882], [47.65005668852246, -122.3458362070241], [47.660883605530415, -122.35434488944912], [47.65584564668683, -122.3564914364934], [47.66034189340094, -122.36474656540356], [47.6531764657519, -122.3462107235444], [47.66139552262632, -122.35225581121288], [47.65855204795852, -122.34826549520814], [47.65673859959068, -122.34486511600458], [47.66117140209569, -122.34992307879276], [47.64927056765515, -122.34781707990506], [47.6591487879338, -122.36346559661877], [47.6630404330528, -122.3484992163856], [47.66005609984663, -122.35768266419048], [47.6541992166014, -122.35998682514936], [47.65012433429002, -122.34328293185617], [47.65650840850803, -122.36057057060758], [47.658976107679685, -122.35491458718218], [47.65538069427914, -122.34320528340236], [47.65290181449793, -122.3521097093964], [47.66361331232179, -122.34951924240556], [47.65707832262047, -122.35879467130437], [47.650764951554585, -122.34778676901736], [47.6611308507499, -122.34923758831135], [47.660856278622845, -122.35240091090688], [47.65315763762634, -122.3562852193247], [47.65605673777555, -122.35451353821188], [47.65430411543929, -122.34272006439116], [47.6620364991618, -122.3504848535998], [47.64868853788682, -122.3439146816932], [47.654205137727615, -122.3526036684041], [47.657897598546576, -122.3466919129118], [47.65451649295388, -122.3581238557429], [47.66429463525408, -122.35917014772052], [47.64955162768306, -122.31830855007524], [47.50845296779498, -122.2406070305399], [47.63233495072211, -122.27553032447004], [47.64118629707135, -122.34208457742405]],\n",
       "                {&quot;blur&quot;: 15, &quot;maxZoom&quot;: 18, &quot;minOpacity&quot;: 0.5, &quot;radius&quot;: 20}\n",
       "            ).addTo(map_c5e538559d47f628b12ae991fc4aaae4);\n",
       "        \n",
       "&lt;/script&gt;\n",
       "&lt;/html&gt;\" style=\"position:absolute;width:100%;height:100%;left:0;top:0;border:none !important;\" allowfullscreen webkitallowfullscreen mozallowfullscreen></iframe></div></div>"
      ],
      "text/plain": [
       "<folium.folium.Map at 0x1fcaf701430>"
      ]
     },
     "execution_count": 22,
     "metadata": {},
     "output_type": "execute_result"
    }
   ],
   "source": [
    "import folium\n",
    "from folium import plugins\n",
    "\n",
    "m = folium.Map([47.608013 , -122.335167], zoom_start=12) # initialize the map with Seattle coordinates\n",
    "location_array = listing_coordinates.values\n",
    "# plot heatmap\n",
    "m.add_child(plugins.HeatMap(location_array, radius=20))\n",
    "m"
   ]
  },
  {
   "cell_type": "markdown",
   "id": "7bb9ee40-1fdc-479c-88d2-872f586cb6c3",
   "metadata": {},
   "source": [
    "We can clearly see that most of the listings are concetrated in central areas (Broadway) and Belltown."
   ]
  },
  {
   "cell_type": "markdown",
   "id": "6c6931b5-31f8-4e6a-a865-19075da21d08",
   "metadata": {
    "execution": {
     "iopub.execute_input": "2023-01-04T14:31:42.890432Z",
     "iopub.status.busy": "2023-01-04T14:31:42.890432Z",
     "iopub.status.idle": "2023-01-04T14:31:42.898432Z",
     "shell.execute_reply": "2023-01-04T14:31:42.897932Z",
     "shell.execute_reply.started": "2023-01-04T14:31:42.890432Z"
    }
   },
   "source": [
    "## Question 3. What are the main factors that affect booking prices?"
   ]
  },
  {
   "cell_type": "code",
   "execution_count": 24,
   "id": "ba1abfa5-803a-4b03-93b2-35265f50161b",
   "metadata": {
    "execution": {
     "iopub.execute_input": "2023-01-04T16:46:25.081425Z",
     "iopub.status.busy": "2023-01-04T16:46:25.080925Z",
     "iopub.status.idle": "2023-01-04T16:46:25.094927Z",
     "shell.execute_reply": "2023-01-04T16:46:25.094423Z",
     "shell.execute_reply.started": "2023-01-04T16:46:25.081425Z"
    }
   },
   "outputs": [],
   "source": [
    "def get_month_from_date(row):\n",
    "    ''' Get month from date represented as a string '''\n",
    "    return int(row['date'].split('-')[1])"
   ]
  },
  {
   "cell_type": "code",
   "execution_count": 25,
   "id": "d7ec7e66-755f-4383-9b30-48d26da8219e",
   "metadata": {
    "execution": {
     "iopub.execute_input": "2023-01-04T16:46:26.100923Z",
     "iopub.status.busy": "2023-01-04T16:46:26.100423Z",
     "iopub.status.idle": "2023-01-04T16:46:26.117923Z",
     "shell.execute_reply": "2023-01-04T16:46:26.117423Z",
     "shell.execute_reply.started": "2023-01-04T16:46:26.100923Z"
    }
   },
   "outputs": [],
   "source": [
    "def get_year_from_date(row):\n",
    "    ''' Get year from date represented as a string '''\n",
    "    return int(row['date'].split('-')[0])"
   ]
  },
  {
   "cell_type": "code",
   "execution_count": 26,
   "id": "22f6b589-c9ea-4153-bdb5-46deca9bed90",
   "metadata": {
    "execution": {
     "iopub.execute_input": "2023-01-04T16:47:22.577924Z",
     "iopub.status.busy": "2023-01-04T16:47:22.577924Z",
     "iopub.status.idle": "2023-01-04T16:47:22.582924Z",
     "shell.execute_reply": "2023-01-04T16:47:22.582924Z",
     "shell.execute_reply.started": "2023-01-04T16:47:22.577924Z"
    }
   },
   "outputs": [],
   "source": [
    "def get_host_since_year(row):\n",
    "    ''' Get year from a date represented as a string '''\n",
    "    try:\n",
    "        host_since = int(row['host_since'].split('-')[0])\n",
    "    except:\n",
    "        host_since = np.nan\n",
    "    return host_since"
   ]
  },
  {
   "cell_type": "code",
   "execution_count": 27,
   "id": "77281351-4db6-4e3f-a58a-a79421bc919f",
   "metadata": {
    "execution": {
     "iopub.execute_input": "2023-01-04T16:47:22.970923Z",
     "iopub.status.busy": "2023-01-04T16:47:22.970923Z",
     "iopub.status.idle": "2023-01-04T16:47:22.986424Z",
     "shell.execute_reply": "2023-01-04T16:47:22.985923Z",
     "shell.execute_reply.started": "2023-01-04T16:47:22.970923Z"
    }
   },
   "outputs": [],
   "source": [
    "def get_val_from_list(row, column_name, value):\n",
    "    ''' Fill in dummy column for values '''\n",
    "    val = 0.0\n",
    "    try:\n",
    "        vals = row[column_name].replace('[', '').replace(\"'\", '').replace(\"]\", '').replace('\"', '').replace('{', '').replace('}', '').split(',')\n",
    "        if value in vals:\n",
    "            val = 1.0\n",
    "    except:\n",
    "        val = 0.0\n",
    "    return val"
   ]
  },
  {
   "cell_type": "code",
   "execution_count": 28,
   "id": "8e29175d-d520-4955-92cc-a76fa0b33405",
   "metadata": {
    "execution": {
     "iopub.execute_input": "2023-01-04T16:47:36.529423Z",
     "iopub.status.busy": "2023-01-04T16:47:36.528924Z",
     "iopub.status.idle": "2023-01-04T16:47:36.548924Z",
     "shell.execute_reply": "2023-01-04T16:47:36.548423Z",
     "shell.execute_reply.started": "2023-01-04T16:47:36.529423Z"
    }
   },
   "outputs": [],
   "source": [
    "def split_list_into_columns(df, column_name, max_dummies_num = 10):\n",
    "    ''' Split values in columns, which contain lists (for example, amenities) '''\n",
    "    \n",
    "    # get dictionary of unique values in lists across dataset rows\n",
    "    values_dict = {}\n",
    "\n",
    "    for unique_value in df[column_name].unique(): \n",
    "        for value in unique_value.replace('[', '').replace(\"'\", '').replace(\"]\", '').replace('\"', '').replace('{', '').replace('}', '').split(','):\n",
    "            if value in values_dict:\n",
    "                values_dict[value] = values_dict[value] + 1\n",
    "            else:\n",
    "                values_dict[value] = 0\n",
    "                \n",
    "    values_sorted = sorted(values_dict.items(), key=lambda kv: kv[1], reverse = True)\n",
    "      \n",
    "    # split into columns\n",
    "    for value in values_sorted[: max_dummies_num]:\n",
    "        df[column_name + '_' + value[0]] = df.apply(lambda row: get_val_from_list(row, column_name, value[0]),axis=1)\n",
    "        \n",
    "    return"
   ]
  },
  {
   "cell_type": "code",
   "execution_count": 29,
   "id": "131a8ab3-a13a-49b3-bc47-34e3209f3cdd",
   "metadata": {
    "execution": {
     "iopub.execute_input": "2023-01-04T16:48:29.037424Z",
     "iopub.status.busy": "2023-01-04T16:48:29.037424Z",
     "iopub.status.idle": "2023-01-04T16:48:29.046425Z",
     "shell.execute_reply": "2023-01-04T16:48:29.045923Z",
     "shell.execute_reply.started": "2023-01-04T16:48:29.037424Z"
    }
   },
   "outputs": [],
   "source": [
    "def get_extra_people_fee(row):\n",
    "    ''' Return 1 when the is fee for exatra people '''\n",
    "    if row['extra_people'] == '$0.00':\n",
    "        return 0.0\n",
    "    else:\n",
    "        return 1.0"
   ]
  },
  {
   "cell_type": "code",
   "execution_count": 81,
   "id": "e3f009a7-5a47-4c37-ad26-ae5d2a462dcd",
   "metadata": {
    "execution": {
     "iopub.execute_input": "2023-01-04T17:10:17.710938Z",
     "iopub.status.busy": "2023-01-04T17:10:17.710938Z",
     "iopub.status.idle": "2023-01-04T17:10:18.167934Z",
     "shell.execute_reply": "2023-01-04T17:10:18.167435Z",
     "shell.execute_reply.started": "2023-01-04T17:10:17.710938Z"
    }
   },
   "outputs": [],
   "source": [
    "calendar_model = pd.read_csv('calendar.csv')\n",
    "listings_model = pd.read_csv('listings.csv')"
   ]
  },
  {
   "cell_type": "code",
   "execution_count": 82,
   "id": "9cf0a91e-01f0-4f49-95fb-6ff5b1af6b55",
   "metadata": {
    "execution": {
     "iopub.execute_input": "2023-01-04T17:10:33.784435Z",
     "iopub.status.busy": "2023-01-04T17:10:33.783934Z",
     "iopub.status.idle": "2023-01-04T17:10:33.791434Z",
     "shell.execute_reply": "2023-01-04T17:10:33.790935Z",
     "shell.execute_reply.started": "2023-01-04T17:10:33.783934Z"
    },
    "tags": []
   },
   "outputs": [],
   "source": [
    "listings_df = listings_model.rename(index=str, columns={\"id\": \"listing_id\"})"
   ]
  },
  {
   "cell_type": "code",
   "execution_count": 83,
   "id": "7cbe88fe-d470-486e-bb90-f147ca5ec98c",
   "metadata": {
    "execution": {
     "iopub.execute_input": "2023-01-04T17:10:36.242937Z",
     "iopub.status.busy": "2023-01-04T17:10:36.242437Z",
     "iopub.status.idle": "2023-01-04T17:10:45.214935Z",
     "shell.execute_reply": "2023-01-04T17:10:45.214434Z",
     "shell.execute_reply.started": "2023-01-04T17:10:36.242437Z"
    },
    "tags": []
   },
   "outputs": [],
   "source": [
    "# merge datasets\n",
    "df = pd.merge(calendar, listings_df, on = 'listing_id')"
   ]
  },
  {
   "cell_type": "code",
   "execution_count": 84,
   "id": "0b76a82d-2589-451e-8aaa-37b0b5ac42f0",
   "metadata": {
    "execution": {
     "iopub.execute_input": "2023-01-04T17:11:26.558435Z",
     "iopub.status.busy": "2023-01-04T17:11:26.557934Z",
     "iopub.status.idle": "2023-01-04T17:11:26.582436Z",
     "shell.execute_reply": "2023-01-04T17:11:26.581957Z",
     "shell.execute_reply.started": "2023-01-04T17:11:26.558435Z"
    },
    "tags": []
   },
   "outputs": [
    {
     "data": {
      "text/html": [
       "<div>\n",
       "<style scoped>\n",
       "    .dataframe tbody tr th:only-of-type {\n",
       "        vertical-align: middle;\n",
       "    }\n",
       "\n",
       "    .dataframe tbody tr th {\n",
       "        vertical-align: top;\n",
       "    }\n",
       "\n",
       "    .dataframe thead th {\n",
       "        text-align: right;\n",
       "    }\n",
       "</style>\n",
       "<table border=\"1\" class=\"dataframe\">\n",
       "  <thead>\n",
       "    <tr style=\"text-align: right;\">\n",
       "      <th></th>\n",
       "      <th>listing_id</th>\n",
       "      <th>date</th>\n",
       "      <th>available</th>\n",
       "      <th>price_x</th>\n",
       "      <th>month</th>\n",
       "      <th>year</th>\n",
       "      <th>month_year</th>\n",
       "      <th>listing_url</th>\n",
       "      <th>scrape_id</th>\n",
       "      <th>last_scraped</th>\n",
       "      <th>...</th>\n",
       "      <th>review_scores_value</th>\n",
       "      <th>requires_license</th>\n",
       "      <th>license</th>\n",
       "      <th>jurisdiction_names</th>\n",
       "      <th>instant_bookable</th>\n",
       "      <th>cancellation_policy</th>\n",
       "      <th>require_guest_profile_picture</th>\n",
       "      <th>require_guest_phone_verification</th>\n",
       "      <th>calculated_host_listings_count</th>\n",
       "      <th>reviews_per_month</th>\n",
       "    </tr>\n",
       "  </thead>\n",
       "  <tbody>\n",
       "    <tr>\n",
       "      <th>0</th>\n",
       "      <td>241032</td>\n",
       "      <td>2016-01-04</td>\n",
       "      <td>t</td>\n",
       "      <td>85.0</td>\n",
       "      <td>1</td>\n",
       "      <td>2016</td>\n",
       "      <td>2016-01</td>\n",
       "      <td>https://www.airbnb.com/rooms/241032</td>\n",
       "      <td>20160104002432</td>\n",
       "      <td>2016-01-04</td>\n",
       "      <td>...</td>\n",
       "      <td>10.0</td>\n",
       "      <td>f</td>\n",
       "      <td>NaN</td>\n",
       "      <td>WASHINGTON</td>\n",
       "      <td>f</td>\n",
       "      <td>moderate</td>\n",
       "      <td>f</td>\n",
       "      <td>f</td>\n",
       "      <td>2</td>\n",
       "      <td>4.07</td>\n",
       "    </tr>\n",
       "    <tr>\n",
       "      <th>1</th>\n",
       "      <td>241032</td>\n",
       "      <td>2016-01-05</td>\n",
       "      <td>t</td>\n",
       "      <td>85.0</td>\n",
       "      <td>1</td>\n",
       "      <td>2016</td>\n",
       "      <td>2016-01</td>\n",
       "      <td>https://www.airbnb.com/rooms/241032</td>\n",
       "      <td>20160104002432</td>\n",
       "      <td>2016-01-04</td>\n",
       "      <td>...</td>\n",
       "      <td>10.0</td>\n",
       "      <td>f</td>\n",
       "      <td>NaN</td>\n",
       "      <td>WASHINGTON</td>\n",
       "      <td>f</td>\n",
       "      <td>moderate</td>\n",
       "      <td>f</td>\n",
       "      <td>f</td>\n",
       "      <td>2</td>\n",
       "      <td>4.07</td>\n",
       "    </tr>\n",
       "    <tr>\n",
       "      <th>2</th>\n",
       "      <td>241032</td>\n",
       "      <td>2016-01-06</td>\n",
       "      <td>f</td>\n",
       "      <td>NaN</td>\n",
       "      <td>1</td>\n",
       "      <td>2016</td>\n",
       "      <td>2016-01</td>\n",
       "      <td>https://www.airbnb.com/rooms/241032</td>\n",
       "      <td>20160104002432</td>\n",
       "      <td>2016-01-04</td>\n",
       "      <td>...</td>\n",
       "      <td>10.0</td>\n",
       "      <td>f</td>\n",
       "      <td>NaN</td>\n",
       "      <td>WASHINGTON</td>\n",
       "      <td>f</td>\n",
       "      <td>moderate</td>\n",
       "      <td>f</td>\n",
       "      <td>f</td>\n",
       "      <td>2</td>\n",
       "      <td>4.07</td>\n",
       "    </tr>\n",
       "    <tr>\n",
       "      <th>3</th>\n",
       "      <td>241032</td>\n",
       "      <td>2016-01-07</td>\n",
       "      <td>f</td>\n",
       "      <td>NaN</td>\n",
       "      <td>1</td>\n",
       "      <td>2016</td>\n",
       "      <td>2016-01</td>\n",
       "      <td>https://www.airbnb.com/rooms/241032</td>\n",
       "      <td>20160104002432</td>\n",
       "      <td>2016-01-04</td>\n",
       "      <td>...</td>\n",
       "      <td>10.0</td>\n",
       "      <td>f</td>\n",
       "      <td>NaN</td>\n",
       "      <td>WASHINGTON</td>\n",
       "      <td>f</td>\n",
       "      <td>moderate</td>\n",
       "      <td>f</td>\n",
       "      <td>f</td>\n",
       "      <td>2</td>\n",
       "      <td>4.07</td>\n",
       "    </tr>\n",
       "    <tr>\n",
       "      <th>4</th>\n",
       "      <td>241032</td>\n",
       "      <td>2016-01-08</td>\n",
       "      <td>f</td>\n",
       "      <td>NaN</td>\n",
       "      <td>1</td>\n",
       "      <td>2016</td>\n",
       "      <td>2016-01</td>\n",
       "      <td>https://www.airbnb.com/rooms/241032</td>\n",
       "      <td>20160104002432</td>\n",
       "      <td>2016-01-04</td>\n",
       "      <td>...</td>\n",
       "      <td>10.0</td>\n",
       "      <td>f</td>\n",
       "      <td>NaN</td>\n",
       "      <td>WASHINGTON</td>\n",
       "      <td>f</td>\n",
       "      <td>moderate</td>\n",
       "      <td>f</td>\n",
       "      <td>f</td>\n",
       "      <td>2</td>\n",
       "      <td>4.07</td>\n",
       "    </tr>\n",
       "  </tbody>\n",
       "</table>\n",
       "<p>5 rows × 98 columns</p>\n",
       "</div>"
      ],
      "text/plain": [
       "   listing_id        date available  price_x  month  year month_year  \\\n",
       "0      241032  2016-01-04         t     85.0      1  2016    2016-01   \n",
       "1      241032  2016-01-05         t     85.0      1  2016    2016-01   \n",
       "2      241032  2016-01-06         f      NaN      1  2016    2016-01   \n",
       "3      241032  2016-01-07         f      NaN      1  2016    2016-01   \n",
       "4      241032  2016-01-08         f      NaN      1  2016    2016-01   \n",
       "\n",
       "                           listing_url       scrape_id last_scraped  ...  \\\n",
       "0  https://www.airbnb.com/rooms/241032  20160104002432   2016-01-04  ...   \n",
       "1  https://www.airbnb.com/rooms/241032  20160104002432   2016-01-04  ...   \n",
       "2  https://www.airbnb.com/rooms/241032  20160104002432   2016-01-04  ...   \n",
       "3  https://www.airbnb.com/rooms/241032  20160104002432   2016-01-04  ...   \n",
       "4  https://www.airbnb.com/rooms/241032  20160104002432   2016-01-04  ...   \n",
       "\n",
       "  review_scores_value requires_license license jurisdiction_names  \\\n",
       "0                10.0                f     NaN         WASHINGTON   \n",
       "1                10.0                f     NaN         WASHINGTON   \n",
       "2                10.0                f     NaN         WASHINGTON   \n",
       "3                10.0                f     NaN         WASHINGTON   \n",
       "4                10.0                f     NaN         WASHINGTON   \n",
       "\n",
       "  instant_bookable cancellation_policy require_guest_profile_picture  \\\n",
       "0                f            moderate                             f   \n",
       "1                f            moderate                             f   \n",
       "2                f            moderate                             f   \n",
       "3                f            moderate                             f   \n",
       "4                f            moderate                             f   \n",
       "\n",
       "  require_guest_phone_verification calculated_host_listings_count  \\\n",
       "0                                f                              2   \n",
       "1                                f                              2   \n",
       "2                                f                              2   \n",
       "3                                f                              2   \n",
       "4                                f                              2   \n",
       "\n",
       "  reviews_per_month  \n",
       "0              4.07  \n",
       "1              4.07  \n",
       "2              4.07  \n",
       "3              4.07  \n",
       "4              4.07  \n",
       "\n",
       "[5 rows x 98 columns]"
      ]
     },
     "execution_count": 84,
     "metadata": {},
     "output_type": "execute_result"
    }
   ],
   "source": [
    "df.head()"
   ]
  },
  {
   "cell_type": "code",
   "execution_count": 85,
   "id": "00c236fa-528b-4926-ad24-c3c110fb300a",
   "metadata": {
    "execution": {
     "iopub.execute_input": "2023-01-04T17:11:28.646434Z",
     "iopub.status.busy": "2023-01-04T17:11:28.646434Z",
     "iopub.status.idle": "2023-01-04T17:11:35.013934Z",
     "shell.execute_reply": "2023-01-04T17:11:35.013496Z",
     "shell.execute_reply.started": "2023-01-04T17:11:28.646434Z"
    },
    "tags": []
   },
   "outputs": [
    {
     "name": "stdout",
     "output_type": "stream",
     "text": [
      "<class 'pandas.core.frame.DataFrame'>\n",
      "Int64Index: 1393570 entries, 0 to 1393569\n",
      "Data columns (total 98 columns):\n",
      " #   Column                            Non-Null Count    Dtype    \n",
      "---  ------                            --------------    -----    \n",
      " 0   listing_id                        1393570 non-null  int32    \n",
      " 1   date                              1393570 non-null  object   \n",
      " 2   available                         1393570 non-null  object   \n",
      " 3   price_x                           934542 non-null   float64  \n",
      " 4   month                             1393570 non-null  int64    \n",
      " 5   year                              1393570 non-null  int64    \n",
      " 6   month_year                        1393570 non-null  period[M]\n",
      " 7   listing_url                       1393570 non-null  object   \n",
      " 8   scrape_id                         1393570 non-null  int64    \n",
      " 9   last_scraped                      1393570 non-null  object   \n",
      " 10  name                              1393570 non-null  object   \n",
      " 11  summary                           1328965 non-null  object   \n",
      " 12  space                             1185885 non-null  object   \n",
      " 13  description                       1393570 non-null  object   \n",
      " 14  experiences_offered               1393570 non-null  object   \n",
      " 15  neighborhood_overview             1016890 non-null  object   \n",
      " 16  notes                             807380 non-null   object   \n",
      " 17  transit                           1052660 non-null  object   \n",
      " 18  thumbnail_url                     1276770 non-null  object   \n",
      " 19  medium_url                        1276770 non-null  object   \n",
      " 20  picture_url                       1393570 non-null  object   \n",
      " 21  xl_picture_url                    1276770 non-null  object   \n",
      " 22  host_id                           1393570 non-null  int64    \n",
      " 23  host_url                          1393570 non-null  object   \n",
      " 24  host_name                         1392840 non-null  object   \n",
      " 25  host_since                        1392840 non-null  object   \n",
      " 26  host_location                     1390650 non-null  object   \n",
      " 27  host_about                        1080035 non-null  object   \n",
      " 28  host_response_time                1202675 non-null  object   \n",
      " 29  host_response_rate                1202675 non-null  object   \n",
      " 30  host_acceptance_rate              1111425 non-null  object   \n",
      " 31  host_is_superhost                 1392840 non-null  object   \n",
      " 32  host_thumbnail_url                1392840 non-null  object   \n",
      " 33  host_picture_url                  1392840 non-null  object   \n",
      " 34  host_neighbourhood                1284070 non-null  object   \n",
      " 35  host_listings_count               1392840 non-null  float64  \n",
      " 36  host_total_listings_count         1392840 non-null  float64  \n",
      " 37  host_verifications                1393570 non-null  object   \n",
      " 38  host_has_profile_pic              1392840 non-null  object   \n",
      " 39  host_identity_verified            1392840 non-null  object   \n",
      " 40  street                            1393570 non-null  object   \n",
      " 41  neighbourhood                     1241730 non-null  object   \n",
      " 42  neighbourhood_cleansed            1393570 non-null  object   \n",
      " 43  neighbourhood_group_cleansed      1393570 non-null  object   \n",
      " 44  city                              1393570 non-null  object   \n",
      " 45  state                             1393570 non-null  object   \n",
      " 46  zipcode                           1391015 non-null  object   \n",
      " 47  market                            1393570 non-null  object   \n",
      " 48  smart_location                    1393570 non-null  object   \n",
      " 49  country_code                      1393570 non-null  object   \n",
      " 50  country                           1393570 non-null  object   \n",
      " 51  latitude                          1393570 non-null  float64  \n",
      " 52  longitude                         1393570 non-null  float64  \n",
      " 53  is_location_exact                 1393570 non-null  object   \n",
      " 54  property_type                     1393205 non-null  object   \n",
      " 55  room_type                         1393570 non-null  object   \n",
      " 56  accommodates                      1393570 non-null  int64    \n",
      " 57  bathrooms                         1387730 non-null  float64  \n",
      " 58  bedrooms                          1391380 non-null  float64  \n",
      " 59  beds                              1393205 non-null  float64  \n",
      " 60  bed_type                          1393570 non-null  object   \n",
      " 61  amenities                         1393570 non-null  object   \n",
      " 62  square_feet                       35405 non-null    float64  \n",
      " 63  price_y                           1393570 non-null  object   \n",
      " 64  weekly_price                      733285 non-null   object   \n",
      " 65  monthly_price                     553705 non-null   object   \n",
      " 66  security_deposit                  681090 non-null   object   \n",
      " 67  cleaning_fee                      1017620 non-null  object   \n",
      " 68  guests_included                   1393570 non-null  int64    \n",
      " 69  extra_people                      1393570 non-null  object   \n",
      " 70  minimum_nights                    1393570 non-null  int64    \n",
      " 71  maximum_nights                    1393570 non-null  int64    \n",
      " 72  calendar_updated                  1393570 non-null  object   \n",
      " 73  has_availability                  1393570 non-null  object   \n",
      " 74  availability_30                   1393570 non-null  int64    \n",
      " 75  availability_60                   1393570 non-null  int64    \n",
      " 76  availability_90                   1393570 non-null  int64    \n",
      " 77  availability_365                  1393570 non-null  int64    \n",
      " 78  calendar_last_scraped             1393570 non-null  object   \n",
      " 79  number_of_reviews                 1393570 non-null  int64    \n",
      " 80  first_review                      1164715 non-null  object   \n",
      " 81  last_review                       1164715 non-null  object   \n",
      " 82  review_scores_rating              1157415 non-null  float64  \n",
      " 83  review_scores_accuracy            1153400 non-null  float64  \n",
      " 84  review_scores_cleanliness         1155225 non-null  float64  \n",
      " 85  review_scores_checkin             1153400 non-null  float64  \n",
      " 86  review_scores_communication       1155955 non-null  float64  \n",
      " 87  review_scores_location            1154495 non-null  float64  \n",
      " 88  review_scores_value               1154130 non-null  float64  \n",
      " 89  requires_license                  1393570 non-null  object   \n",
      " 90  license                           0 non-null        float64  \n",
      " 91  jurisdiction_names                1393570 non-null  object   \n",
      " 92  instant_bookable                  1393570 non-null  object   \n",
      " 93  cancellation_policy               1393570 non-null  object   \n",
      " 94  require_guest_profile_picture     1393570 non-null  object   \n",
      " 95  require_guest_phone_verification  1393570 non-null  object   \n",
      " 96  calculated_host_listings_count    1393570 non-null  int64    \n",
      " 97  reviews_per_month                 1164715 non-null  float64  \n",
      "dtypes: float64(18), int32(1), int64(14), object(64), period[M](1)\n",
      "memory usage: 1.0+ GB\n"
     ]
    }
   ],
   "source": [
    "df.info()"
   ]
  },
  {
   "cell_type": "code",
   "execution_count": 86,
   "id": "a65b1ef4-a8f9-40c9-b439-c7351793cee0",
   "metadata": {
    "execution": {
     "iopub.execute_input": "2023-01-04T17:11:35.015434Z",
     "iopub.status.busy": "2023-01-04T17:11:35.014934Z",
     "iopub.status.idle": "2023-01-04T17:11:35.029435Z",
     "shell.execute_reply": "2023-01-04T17:11:35.028934Z",
     "shell.execute_reply.started": "2023-01-04T17:11:35.015434Z"
    },
    "tags": []
   },
   "outputs": [],
   "source": [
    "columns_to_drop = ['available', 'host_id','host_location','host_acceptance_rate','host_neighbourhood',\n",
    "                   'host_total_listings_count', 'weekly_price', 'monthly_price',\n",
    "                   'security_deposit', 'cleaning_fee', 'calendar_updated',\n",
    "                   'listing_url','last_scraped' ,'scrape_id', 'name', 'summary', 'space', 'description',\n",
    "                   'experiences_offered', 'street', 'neighbourhood', 'neighbourhood_cleansed', 'zipcode',\n",
    "                   'neighborhood_overview', 'notes', 'transit', 'thumbnail_url', 'medium_url', 'picture_url',\n",
    "                   'xl_picture_url', 'host_url', 'host_name', 'host_about', 'host_thumbnail_url', 'host_picture_url',\n",
    "                   'city', 'state', 'market', 'smart_location', 'country_code', 'country', 'latitude', 'longitude',\n",
    "                   'is_location_exact', 'square_feet', 'has_availability', 'availability_30',\n",
    "                   'availability_60', 'availability_90', 'availability_365', 'calendar_last_scraped',\n",
    "                  'first_review', 'last_review', 'requires_license', 'license', 'jurisdiction_names', 'price_y',\n",
    "                  'reviews_per_month']"
   ]
  },
  {
   "cell_type": "code",
   "execution_count": 87,
   "id": "2cf41780-97d7-43ef-a31a-703346f9d1bd",
   "metadata": {
    "execution": {
     "iopub.execute_input": "2023-01-04T17:11:35.559434Z",
     "iopub.status.busy": "2023-01-04T17:11:35.559434Z",
     "iopub.status.idle": "2023-01-04T17:11:35.710934Z",
     "shell.execute_reply": "2023-01-04T17:11:35.710934Z",
     "shell.execute_reply.started": "2023-01-04T17:11:35.559434Z"
    },
    "tags": []
   },
   "outputs": [],
   "source": [
    "df = df.drop(columns = columns_to_drop)"
   ]
  },
  {
   "cell_type": "code",
   "execution_count": 88,
   "id": "5fb533eb-c054-4ee0-994f-efadbb0713c3",
   "metadata": {
    "execution": {
     "iopub.execute_input": "2023-01-04T17:11:36.002435Z",
     "iopub.status.busy": "2023-01-04T17:11:36.001935Z",
     "iopub.status.idle": "2023-01-04T17:11:57.502935Z",
     "shell.execute_reply": "2023-01-04T17:11:57.502435Z",
     "shell.execute_reply.started": "2023-01-04T17:11:36.002435Z"
    },
    "tags": []
   },
   "outputs": [],
   "source": [
    "#convert date from the calendar into month and drop the date colum\n",
    "df['month'] = df.apply(lambda row: get_month_from_date(row),axis=1)\n",
    "df['year'] = df.apply(lambda row: get_year_from_date(row),axis=1)\n",
    "df = df.drop(columns = ['date'])"
   ]
  },
  {
   "cell_type": "code",
   "execution_count": 89,
   "id": "43ff9acb-6956-41eb-acd4-9c2de4de3e84",
   "metadata": {
    "execution": {
     "iopub.execute_input": "2023-01-04T17:11:57.504435Z",
     "iopub.status.busy": "2023-01-04T17:11:57.503935Z",
     "iopub.status.idle": "2023-01-04T17:11:57.750935Z",
     "shell.execute_reply": "2023-01-04T17:11:57.750434Z",
     "shell.execute_reply.started": "2023-01-04T17:11:57.504435Z"
    },
    "tags": []
   },
   "outputs": [],
   "source": [
    "#remove rows where price_x == nan, because price will be used as response column\n",
    "df = df.dropna(subset=['price_x'])"
   ]
  },
  {
   "cell_type": "code",
   "execution_count": 90,
   "id": "dff50b03-1df7-413b-9d85-cced576b9231",
   "metadata": {
    "execution": {
     "iopub.execute_input": "2023-01-04T17:11:57.751434Z",
     "iopub.status.busy": "2023-01-04T17:11:57.751434Z",
     "iopub.status.idle": "2023-01-04T17:11:58.525935Z",
     "shell.execute_reply": "2023-01-04T17:11:58.525434Z",
     "shell.execute_reply.started": "2023-01-04T17:11:57.751434Z"
    },
    "tags": []
   },
   "outputs": [
    {
     "name": "stderr",
     "output_type": "stream",
     "text": [
      "C:\\Users\\Vagner Belfort\\AppData\\Local\\Temp\\ipykernel_24708\\4216322562.py:3: FutureWarning: The default value of regex will change from True to False in a future version.\n",
      "  df['price'] = df['price'].str.replace(\"[$, ]\", \"\").astype(\"float\")\n"
     ]
    }
   ],
   "source": [
    "#convert price to number and drop the price_x column\n",
    "df['price'] = df['price_x'].astype(str)\n",
    "df['price'] = df['price'].str.replace(\"[$, ]\", \"\").astype(\"float\")\n",
    "df = df.drop(columns = ['price_x'])"
   ]
  },
  {
   "cell_type": "code",
   "execution_count": 91,
   "id": "7584f45b-c4ce-449d-8f03-f3c563e0d063",
   "metadata": {
    "execution": {
     "iopub.execute_input": "2023-01-04T17:11:58.527434Z",
     "iopub.status.busy": "2023-01-04T17:11:58.527434Z",
     "iopub.status.idle": "2023-01-04T17:12:05.609435Z",
     "shell.execute_reply": "2023-01-04T17:12:05.608934Z",
     "shell.execute_reply.started": "2023-01-04T17:11:58.527434Z"
    },
    "tags": []
   },
   "outputs": [],
   "source": [
    "#convert host_since date into number and fill in missing values, drop the original column\n",
    "df['host_since_year'] = df.apply(lambda row: get_host_since_year(row),axis=1)\n",
    "df['host_since_year'].fillna(df['host_since_year'].mean(), inplace = True)\n",
    "df = df.drop(columns = ['host_since'])"
   ]
  },
  {
   "cell_type": "code",
   "execution_count": 92,
   "id": "a11929c3-9216-4c61-aa6d-cfa469432af5",
   "metadata": {
    "execution": {
     "iopub.execute_input": "2023-01-04T17:12:05.610435Z",
     "iopub.status.busy": "2023-01-04T17:12:05.609934Z",
     "iopub.status.idle": "2023-01-04T17:12:06.027936Z",
     "shell.execute_reply": "2023-01-04T17:12:06.027435Z",
     "shell.execute_reply.started": "2023-01-04T17:12:05.609934Z"
    },
    "tags": []
   },
   "outputs": [],
   "source": [
    "#convert host_response_rate into number and fill in missing values, drop the original column\n",
    "df['host_response_rate_num'] = df['host_response_rate'].astype(str)\n",
    "df['host_response_rate_num'] = df['host_response_rate_num'].str.replace(\"%\", \"\").astype(\"float\")\n",
    "df['host_response_rate_num'].fillna(df['host_response_rate_num'].mean(), inplace = True)\n",
    "\n",
    "df['host_response_rate_buckets'] = pd.qcut(df['host_response_rate_num'], 5, labels=False, duplicates = 'drop')\n",
    "df = df.drop(columns = ['host_response_rate', 'host_response_rate_num'])"
   ]
  },
  {
   "cell_type": "code",
   "execution_count": 93,
   "id": "52d8df2b-fc69-4e8a-a60c-0c71ae064075",
   "metadata": {
    "execution": {
     "iopub.execute_input": "2023-01-04T17:12:06.028935Z",
     "iopub.status.busy": "2023-01-04T17:12:06.028435Z",
     "iopub.status.idle": "2023-01-04T17:12:06.043435Z",
     "shell.execute_reply": "2023-01-04T17:12:06.042935Z",
     "shell.execute_reply.started": "2023-01-04T17:12:06.028435Z"
    },
    "tags": []
   },
   "outputs": [],
   "source": [
    "#fill missing values with mean value for host_listings_count\n",
    "df['host_listings_count'].fillna(df['host_listings_count'].mean(), inplace = True)"
   ]
  },
  {
   "cell_type": "code",
   "execution_count": 94,
   "id": "f020f474-5a9a-4d87-b93a-736a5ab1e08f",
   "metadata": {
    "execution": {
     "iopub.execute_input": "2023-01-04T17:12:06.044434Z",
     "iopub.status.busy": "2023-01-04T17:12:06.043934Z",
     "iopub.status.idle": "2023-01-04T17:13:23.543436Z",
     "shell.execute_reply": "2023-01-04T17:13:23.542934Z",
     "shell.execute_reply.started": "2023-01-04T17:12:06.044434Z"
    },
    "tags": []
   },
   "outputs": [],
   "source": [
    "#split host_verifications into dummy columns and drop the original column\n",
    "split_list_into_columns(df, 'host_verifications')\n",
    "df = df.drop(columns = ['host_verifications'])"
   ]
  },
  {
   "cell_type": "code",
   "execution_count": 95,
   "id": "d19c301b-fbfa-49c5-ba62-ec75bd093958",
   "metadata": {
    "execution": {
     "iopub.execute_input": "2023-01-04T17:13:23.543934Z",
     "iopub.status.busy": "2023-01-04T17:13:23.543934Z",
     "iopub.status.idle": "2023-01-04T17:13:23.682935Z",
     "shell.execute_reply": "2023-01-04T17:13:23.682435Z",
     "shell.execute_reply.started": "2023-01-04T17:13:23.543934Z"
    },
    "tags": []
   },
   "outputs": [],
   "source": [
    "#fill in missing values for bathrooms, bedrooms and beds with mode\n",
    "df['bathrooms'] = df['bathrooms'].fillna(df['bathrooms'].mode()[0])\n",
    "df['bedrooms'] = df['bedrooms'].fillna(df['bedrooms'].mode()[0])\n",
    "df['beds'] = df['beds'].fillna(df['beds'].mode()[0])"
   ]
  },
  {
   "cell_type": "code",
   "execution_count": 96,
   "id": "cdb54e79-d98f-4fc8-ad08-9ccbb088ff1e",
   "metadata": {
    "execution": {
     "iopub.execute_input": "2023-01-04T17:13:23.683935Z",
     "iopub.status.busy": "2023-01-04T17:13:23.683435Z",
     "iopub.status.idle": "2023-01-04T17:14:50.834434Z",
     "shell.execute_reply": "2023-01-04T17:14:50.833934Z",
     "shell.execute_reply.started": "2023-01-04T17:13:23.683935Z"
    },
    "tags": []
   },
   "outputs": [],
   "source": [
    "#split amenities into dummy columns and drop the original column\n",
    "split_list_into_columns(df, 'amenities')\n",
    "df = df.drop(columns = ['amenities'])"
   ]
  },
  {
   "cell_type": "code",
   "execution_count": 97,
   "id": "61409f32-16bc-4abf-b843-7b73755b94b4",
   "metadata": {
    "execution": {
     "iopub.execute_input": "2023-01-04T17:14:50.836437Z",
     "iopub.status.busy": "2023-01-04T17:14:50.836437Z",
     "iopub.status.idle": "2023-01-04T17:14:58.739434Z",
     "shell.execute_reply": "2023-01-04T17:14:58.738934Z",
     "shell.execute_reply.started": "2023-01-04T17:14:50.836437Z"
    },
    "tags": []
   },
   "outputs": [],
   "source": [
    "#turn extra people fee into binary column (1 - if fee for extra people is charged, 0 - otherwise)\n",
    "df['extra_people_fee'] = df.apply(lambda row: get_extra_people_fee(row),axis=1)\n",
    "df = df.drop(columns = ['extra_people'])"
   ]
  },
  {
   "cell_type": "code",
   "execution_count": 98,
   "id": "cfdbe9ff-c5a3-4f9b-8a55-6dc7c43c290d",
   "metadata": {
    "execution": {
     "iopub.execute_input": "2023-01-04T17:14:58.740436Z",
     "iopub.status.busy": "2023-01-04T17:14:58.739935Z",
     "iopub.status.idle": "2023-01-04T17:14:58.770443Z",
     "shell.execute_reply": "2023-01-04T17:14:58.769936Z",
     "shell.execute_reply.started": "2023-01-04T17:14:58.740436Z"
    },
    "tags": []
   },
   "outputs": [],
   "source": [
    "#fill missing values for review scores columns\n",
    "review_scores_columns = ['review_scores_rating', 'review_scores_accuracy', 'review_scores_cleanliness',\n",
    "                         'review_scores_checkin', 'review_scores_communication', 'review_scores_location',\n",
    "                         'review_scores_value']\n",
    "\n",
    "for column in review_scores_columns:\n",
    "    df[column].fillna(df[column].mean(), inplace = True)"
   ]
  },
  {
   "cell_type": "code",
   "execution_count": 99,
   "id": "a47fcfa1-8007-47b3-a7b1-4b2158a166f8",
   "metadata": {
    "execution": {
     "iopub.execute_input": "2023-01-04T17:14:58.771434Z",
     "iopub.status.busy": "2023-01-04T17:14:58.771434Z",
     "iopub.status.idle": "2023-01-04T17:14:58.801434Z",
     "shell.execute_reply": "2023-01-04T17:14:58.800934Z",
     "shell.execute_reply.started": "2023-01-04T17:14:58.771434Z"
    },
    "tags": []
   },
   "outputs": [
    {
     "data": {
      "text/html": [
       "<div>\n",
       "<style scoped>\n",
       "    .dataframe tbody tr th:only-of-type {\n",
       "        vertical-align: middle;\n",
       "    }\n",
       "\n",
       "    .dataframe tbody tr th {\n",
       "        vertical-align: top;\n",
       "    }\n",
       "\n",
       "    .dataframe thead th {\n",
       "        text-align: right;\n",
       "    }\n",
       "</style>\n",
       "<table border=\"1\" class=\"dataframe\">\n",
       "  <thead>\n",
       "    <tr style=\"text-align: right;\">\n",
       "      <th></th>\n",
       "      <th>listing_id</th>\n",
       "      <th>month</th>\n",
       "      <th>year</th>\n",
       "      <th>month_year</th>\n",
       "      <th>host_response_time</th>\n",
       "      <th>host_is_superhost</th>\n",
       "      <th>host_listings_count</th>\n",
       "      <th>host_has_profile_pic</th>\n",
       "      <th>host_identity_verified</th>\n",
       "      <th>neighbourhood_group_cleansed</th>\n",
       "      <th>...</th>\n",
       "      <th>amenities_Heating</th>\n",
       "      <th>amenities_Kitchen</th>\n",
       "      <th>amenities_Smoke Detector</th>\n",
       "      <th>amenities_Essentials</th>\n",
       "      <th>amenities_Dryer</th>\n",
       "      <th>amenities_Washer</th>\n",
       "      <th>amenities_Internet</th>\n",
       "      <th>amenities_Shampoo</th>\n",
       "      <th>amenities_TV</th>\n",
       "      <th>extra_people_fee</th>\n",
       "    </tr>\n",
       "  </thead>\n",
       "  <tbody>\n",
       "    <tr>\n",
       "      <th>0</th>\n",
       "      <td>241032</td>\n",
       "      <td>1</td>\n",
       "      <td>2016</td>\n",
       "      <td>2016-01</td>\n",
       "      <td>within a few hours</td>\n",
       "      <td>f</td>\n",
       "      <td>3.0</td>\n",
       "      <td>t</td>\n",
       "      <td>t</td>\n",
       "      <td>Queen Anne</td>\n",
       "      <td>...</td>\n",
       "      <td>1.0</td>\n",
       "      <td>1.0</td>\n",
       "      <td>0.0</td>\n",
       "      <td>0.0</td>\n",
       "      <td>1.0</td>\n",
       "      <td>1.0</td>\n",
       "      <td>1.0</td>\n",
       "      <td>0.0</td>\n",
       "      <td>1.0</td>\n",
       "      <td>1.0</td>\n",
       "    </tr>\n",
       "    <tr>\n",
       "      <th>1</th>\n",
       "      <td>241032</td>\n",
       "      <td>1</td>\n",
       "      <td>2016</td>\n",
       "      <td>2016-01</td>\n",
       "      <td>within a few hours</td>\n",
       "      <td>f</td>\n",
       "      <td>3.0</td>\n",
       "      <td>t</td>\n",
       "      <td>t</td>\n",
       "      <td>Queen Anne</td>\n",
       "      <td>...</td>\n",
       "      <td>1.0</td>\n",
       "      <td>1.0</td>\n",
       "      <td>0.0</td>\n",
       "      <td>0.0</td>\n",
       "      <td>1.0</td>\n",
       "      <td>1.0</td>\n",
       "      <td>1.0</td>\n",
       "      <td>0.0</td>\n",
       "      <td>1.0</td>\n",
       "      <td>1.0</td>\n",
       "    </tr>\n",
       "    <tr>\n",
       "      <th>9</th>\n",
       "      <td>241032</td>\n",
       "      <td>1</td>\n",
       "      <td>2016</td>\n",
       "      <td>2016-01</td>\n",
       "      <td>within a few hours</td>\n",
       "      <td>f</td>\n",
       "      <td>3.0</td>\n",
       "      <td>t</td>\n",
       "      <td>t</td>\n",
       "      <td>Queen Anne</td>\n",
       "      <td>...</td>\n",
       "      <td>1.0</td>\n",
       "      <td>1.0</td>\n",
       "      <td>0.0</td>\n",
       "      <td>0.0</td>\n",
       "      <td>1.0</td>\n",
       "      <td>1.0</td>\n",
       "      <td>1.0</td>\n",
       "      <td>0.0</td>\n",
       "      <td>1.0</td>\n",
       "      <td>1.0</td>\n",
       "    </tr>\n",
       "    <tr>\n",
       "      <th>10</th>\n",
       "      <td>241032</td>\n",
       "      <td>1</td>\n",
       "      <td>2016</td>\n",
       "      <td>2016-01</td>\n",
       "      <td>within a few hours</td>\n",
       "      <td>f</td>\n",
       "      <td>3.0</td>\n",
       "      <td>t</td>\n",
       "      <td>t</td>\n",
       "      <td>Queen Anne</td>\n",
       "      <td>...</td>\n",
       "      <td>1.0</td>\n",
       "      <td>1.0</td>\n",
       "      <td>0.0</td>\n",
       "      <td>0.0</td>\n",
       "      <td>1.0</td>\n",
       "      <td>1.0</td>\n",
       "      <td>1.0</td>\n",
       "      <td>0.0</td>\n",
       "      <td>1.0</td>\n",
       "      <td>1.0</td>\n",
       "    </tr>\n",
       "    <tr>\n",
       "      <th>14</th>\n",
       "      <td>241032</td>\n",
       "      <td>1</td>\n",
       "      <td>2016</td>\n",
       "      <td>2016-01</td>\n",
       "      <td>within a few hours</td>\n",
       "      <td>f</td>\n",
       "      <td>3.0</td>\n",
       "      <td>t</td>\n",
       "      <td>t</td>\n",
       "      <td>Queen Anne</td>\n",
       "      <td>...</td>\n",
       "      <td>1.0</td>\n",
       "      <td>1.0</td>\n",
       "      <td>0.0</td>\n",
       "      <td>0.0</td>\n",
       "      <td>1.0</td>\n",
       "      <td>1.0</td>\n",
       "      <td>1.0</td>\n",
       "      <td>0.0</td>\n",
       "      <td>1.0</td>\n",
       "      <td>1.0</td>\n",
       "    </tr>\n",
       "  </tbody>\n",
       "</table>\n",
       "<p>5 rows × 57 columns</p>\n",
       "</div>"
      ],
      "text/plain": [
       "    listing_id  month  year month_year  host_response_time host_is_superhost  \\\n",
       "0       241032      1  2016    2016-01  within a few hours                 f   \n",
       "1       241032      1  2016    2016-01  within a few hours                 f   \n",
       "9       241032      1  2016    2016-01  within a few hours                 f   \n",
       "10      241032      1  2016    2016-01  within a few hours                 f   \n",
       "14      241032      1  2016    2016-01  within a few hours                 f   \n",
       "\n",
       "    host_listings_count host_has_profile_pic host_identity_verified  \\\n",
       "0                   3.0                    t                      t   \n",
       "1                   3.0                    t                      t   \n",
       "9                   3.0                    t                      t   \n",
       "10                  3.0                    t                      t   \n",
       "14                  3.0                    t                      t   \n",
       "\n",
       "   neighbourhood_group_cleansed  ... amenities_Heating amenities_Kitchen  \\\n",
       "0                    Queen Anne  ...               1.0               1.0   \n",
       "1                    Queen Anne  ...               1.0               1.0   \n",
       "9                    Queen Anne  ...               1.0               1.0   \n",
       "10                   Queen Anne  ...               1.0               1.0   \n",
       "14                   Queen Anne  ...               1.0               1.0   \n",
       "\n",
       "    amenities_Smoke Detector  amenities_Essentials  amenities_Dryer  \\\n",
       "0                        0.0                   0.0              1.0   \n",
       "1                        0.0                   0.0              1.0   \n",
       "9                        0.0                   0.0              1.0   \n",
       "10                       0.0                   0.0              1.0   \n",
       "14                       0.0                   0.0              1.0   \n",
       "\n",
       "    amenities_Washer amenities_Internet  amenities_Shampoo  amenities_TV  \\\n",
       "0                1.0                1.0                0.0           1.0   \n",
       "1                1.0                1.0                0.0           1.0   \n",
       "9                1.0                1.0                0.0           1.0   \n",
       "10               1.0                1.0                0.0           1.0   \n",
       "14               1.0                1.0                0.0           1.0   \n",
       "\n",
       "    extra_people_fee  \n",
       "0                1.0  \n",
       "1                1.0  \n",
       "9                1.0  \n",
       "10               1.0  \n",
       "14               1.0  \n",
       "\n",
       "[5 rows x 57 columns]"
      ]
     },
     "execution_count": 99,
     "metadata": {},
     "output_type": "execute_result"
    }
   ],
   "source": [
    "df.head()"
   ]
  },
  {
   "cell_type": "code",
   "execution_count": 100,
   "id": "75c33b0e-c548-464a-ba4a-916d424f3533",
   "metadata": {
    "execution": {
     "iopub.execute_input": "2023-01-04T17:14:58.802434Z",
     "iopub.status.busy": "2023-01-04T17:14:58.801935Z",
     "iopub.status.idle": "2023-01-04T17:14:58.816934Z",
     "shell.execute_reply": "2023-01-04T17:14:58.816435Z",
     "shell.execute_reply.started": "2023-01-04T17:14:58.802434Z"
    },
    "tags": []
   },
   "outputs": [
    {
     "data": {
      "text/plain": [
       "(934542, 57)"
      ]
     },
     "execution_count": 100,
     "metadata": {},
     "output_type": "execute_result"
    }
   ],
   "source": [
    "df.shape"
   ]
  },
  {
   "cell_type": "code",
   "execution_count": 101,
   "id": "e629b119-160f-4675-9458-0d5f54516c3f",
   "metadata": {
    "execution": {
     "iopub.execute_input": "2023-01-04T17:14:58.817934Z",
     "iopub.status.busy": "2023-01-04T17:14:58.817434Z",
     "iopub.status.idle": "2023-01-04T17:15:02.024936Z",
     "shell.execute_reply": "2023-01-04T17:15:02.024435Z",
     "shell.execute_reply.started": "2023-01-04T17:14:58.817934Z"
    },
    "tags": []
   },
   "outputs": [],
   "source": [
    "#turn categorical columns into dummies\n",
    "cat_columns = list(df.select_dtypes(include=['object']).columns)\n",
    "    \n",
    "for col in  cat_columns:\n",
    "    df = pd.concat([df.drop(col, axis=1), pd.get_dummies(df[col], prefix=col, prefix_sep='_', drop_first=True, dummy_na=True)], axis=1)"
   ]
  },
  {
   "cell_type": "code",
   "execution_count": 109,
   "id": "736f0479-71b6-4dfa-be9a-670a33abcb4c",
   "metadata": {
    "execution": {
     "iopub.execute_input": "2023-01-04T17:15:49.855934Z",
     "iopub.status.busy": "2023-01-04T17:15:49.855434Z",
     "iopub.status.idle": "2023-01-04T17:15:49.933936Z",
     "shell.execute_reply": "2023-01-04T17:15:49.933434Z",
     "shell.execute_reply.started": "2023-01-04T17:15:49.855934Z"
    },
    "tags": []
   },
   "outputs": [],
   "source": [
    "#drop listing_id and year columns\n",
    "df = df.drop(columns = ['listing_id', 'year'])\n",
    "df = df.drop(columns = ['month_year'])"
   ]
  },
  {
   "cell_type": "code",
   "execution_count": 110,
   "id": "5a5b1734-df42-4c4c-addf-a91cc045c938",
   "metadata": {
    "execution": {
     "iopub.execute_input": "2023-01-04T17:15:51.521435Z",
     "iopub.status.busy": "2023-01-04T17:15:51.520934Z",
     "iopub.status.idle": "2023-01-04T17:15:51.576434Z",
     "shell.execute_reply": "2023-01-04T17:15:51.576434Z",
     "shell.execute_reply.started": "2023-01-04T17:15:51.521435Z"
    },
    "tags": []
   },
   "outputs": [],
   "source": [
    "df.replace([np.inf, -np.inf], np.nan, inplace=True)"
   ]
  },
  {
   "cell_type": "code",
   "execution_count": 111,
   "id": "1f3294ba-ee53-46b4-a5e9-b6412b4ae808",
   "metadata": {
    "execution": {
     "iopub.execute_input": "2023-01-04T17:15:51.899937Z",
     "iopub.status.busy": "2023-01-04T17:15:51.899937Z",
     "iopub.status.idle": "2023-01-04T17:15:52.537434Z",
     "shell.execute_reply": "2023-01-04T17:15:52.536934Z",
     "shell.execute_reply.started": "2023-01-04T17:15:51.899937Z"
    },
    "tags": []
   },
   "outputs": [],
   "source": [
    "#prepare train and test datasets for modelling\n",
    "TEST_SIZE = 0.3\n",
    "RAND_STATE = 42\n",
    "\n",
    "X = df.drop(columns = 'price')\n",
    "y = df[['price']]\n",
    "\n",
    "X_train, X_test, y_train, y_test = train_test_split(X, y, test_size = TEST_SIZE, random_state=RAND_STATE)"
   ]
  },
  {
   "cell_type": "markdown",
   "id": "a4409cf2-4295-4ac2-956b-a7662fee0a04",
   "metadata": {},
   "source": [
    "### Train RF regressor model"
   ]
  },
  {
   "cell_type": "code",
   "execution_count": 112,
   "id": "38e80850-ffd9-462c-b0cb-8bc163af915e",
   "metadata": {
    "execution": {
     "iopub.execute_input": "2023-01-04T17:15:52.538435Z",
     "iopub.status.busy": "2023-01-04T17:15:52.537935Z",
     "iopub.status.idle": "2023-01-04T17:15:52.552934Z",
     "shell.execute_reply": "2023-01-04T17:15:52.552433Z",
     "shell.execute_reply.started": "2023-01-04T17:15:52.538435Z"
    },
    "tags": []
   },
   "outputs": [],
   "source": [
    "#train RF regressor model\n",
    "forest = RandomForestRegressor(n_estimators=100, \n",
    "                               criterion='mse', \n",
    "                               random_state=RAND_STATE, \n",
    "                               n_jobs=-1)"
   ]
  },
  {
   "cell_type": "code",
   "execution_count": 115,
   "id": "2c526a91-5121-4b92-b2f9-22cb98dadd8e",
   "metadata": {
    "execution": {
     "iopub.execute_input": "2023-01-04T17:15:56.179935Z",
     "iopub.status.busy": "2023-01-04T17:15:56.179435Z",
     "iopub.status.idle": "2023-01-04T17:18:11.941436Z",
     "shell.execute_reply": "2023-01-04T17:18:11.940934Z",
     "shell.execute_reply.started": "2023-01-04T17:15:56.179935Z"
    },
    "tags": []
   },
   "outputs": [
    {
     "data": {
      "text/plain": [
       "RandomForestRegressor(n_jobs=-1, random_state=42)"
      ]
     },
     "execution_count": 115,
     "metadata": {},
     "output_type": "execute_result"
    }
   ],
   "source": [
    "#train RF regressor model\n",
    "forest.fit(X_train, y_train.squeeze())"
   ]
  },
  {
   "cell_type": "code",
   "execution_count": 116,
   "id": "512b85ca-b60a-4c25-b756-21cbdb52c2d1",
   "metadata": {
    "execution": {
     "iopub.execute_input": "2023-01-04T17:19:08.406935Z",
     "iopub.status.busy": "2023-01-04T17:19:08.406935Z",
     "iopub.status.idle": "2023-01-04T17:19:10.900935Z",
     "shell.execute_reply": "2023-01-04T17:19:10.900434Z",
     "shell.execute_reply.started": "2023-01-04T17:19:08.406935Z"
    }
   },
   "outputs": [
    {
     "name": "stdout",
     "output_type": "stream",
     "text": [
      "Random Forest MSE train: 186.977, test: 211.270\n",
      "Random Forest R^2 train: 0.983, test: 0.981\n"
     ]
    }
   ],
   "source": [
    "#calculate scores for the model\n",
    "y_train_preds = forest.predict(X_train)\n",
    "y_test_preds = forest.predict(X_test)\n",
    "\n",
    "print('Random Forest MSE train: %.3f, test: %.3f' % (\n",
    "        mean_squared_error(y_train, y_train_preds),\n",
    "        mean_squared_error(y_test, y_test_preds)))\n",
    "print('Random Forest R^2 train: %.3f, test: %.3f' % (\n",
    "        r2_score(y_train, y_train_preds),\n",
    "        r2_score(y_test, y_test_preds)))"
   ]
  },
  {
   "cell_type": "code",
   "execution_count": 135,
   "id": "5c399e90-21ce-4bb5-97e4-437bf1719c80",
   "metadata": {
    "execution": {
     "iopub.execute_input": "2023-01-04T17:28:40.038176Z",
     "iopub.status.busy": "2023-01-04T17:28:40.037678Z",
     "iopub.status.idle": "2023-01-04T17:28:40.068676Z",
     "shell.execute_reply": "2023-01-04T17:28:40.068176Z",
     "shell.execute_reply.started": "2023-01-04T17:28:40.038176Z"
    },
    "tags": []
   },
   "outputs": [],
   "source": [
    "# create dataframe feature importance\n",
    "forest_feature_importances = pd.DataFrame(\n",
    "    {\n",
    "        \"name\": X_train.columns,\n",
    "        \"score\": forest.feature_importances_\n",
    "    }\n",
    ")"
   ]
  },
  {
   "cell_type": "code",
   "execution_count": 141,
   "id": "bf7afe3f-05ec-4239-ab25-1d88f1064f1d",
   "metadata": {
    "execution": {
     "iopub.execute_input": "2023-01-04T17:34:15.284699Z",
     "iopub.status.busy": "2023-01-04T17:34:15.284198Z",
     "iopub.status.idle": "2023-01-04T17:34:15.512198Z",
     "shell.execute_reply": "2023-01-04T17:34:15.511697Z",
     "shell.execute_reply.started": "2023-01-04T17:34:15.284699Z"
    },
    "tags": []
   },
   "outputs": [
    {
     "data": {
      "image/png": "[encoded data removed]",
      "text/plain": [
       "<Figure size 1200x500 with 1 Axes>"
      ]
     },
     "metadata": {},
     "output_type": "display_data"
    }
   ],
   "source": [
    "#get feature importances from the model\n",
    "forest_feature_importances = forest_feature_importances.sort_values(by = ['score'], ascending = False)\n",
    "\n",
    "features = forest_feature_importances['name'][:15]\n",
    "y_pos = np.arange(len(features))\n",
    "scores = forest_feature_importances['score'][:15]\n",
    "\n",
    "#plot feature importances\n",
    "plt.figure(figsize=(12,5))\n",
    "plt.bar(y_pos, scores, align='center', alpha=0.5)\n",
    "plt.xticks(y_pos, features, rotation='vertical')\n",
    "plt.ylabel('Score')\n",
    "plt.xlabel('Features')\n",
    "plt.title('Feature importances (Random Forest)')\n",
    "\n",
    "plt.savefig('feature importances RF.png')\n",
    " \n",
    "plt.show()"
   ]
  },
  {
   "cell_type": "markdown",
   "id": "4055c69e-7ff0-44dc-8dc6-2741738cb077",
   "metadata": {},
   "source": [
    "Let's take a look at the results of the modelling:\n",
    "\n",
    " - The modelling also shows us that factors already mentioned above have influence on price: time of the year, location, number of bedrooms, bathrooms, beds and accomodates;\n",
    " - The host qualities are important: number of host's listings, number of years since being the host, time in which the host responds to the inquiries;\n",
    " - The pricing might depend on reviews: number of reviews and review scores."
   ]
  },
  {
   "cell_type": "markdown",
   "id": "00c3797a-b790-452b-9143-75367983f429",
   "metadata": {},
   "source": [
    "## Conclusion"
   ]
  },
  {
   "cell_type": "markdown",
   "id": "7dd5a49b-13c1-4bb6-9de8-f25b9af5d584",
   "metadata": {},
   "source": [
    "In this analysis we try to understand what influences booking prices with the help of AirBnB data for Seattle. Of course, the results may be different for each city, but the current approach can still be used for data from other cities.\n",
    "\n",
    "Key findings from the Seattle data analysis include:\n",
    "The basic characteristics of the place (number of rooms, bathrooms, beds and accommodations) affect the price of the reservation.\n",
    "Host qualities and the number of reviews and review scores can also affect the booking price. So if you want to save money, you can, for example, look for places with less reviews. This will help you find places with the same characteristics (bathrooms, bedrooms, location, etc.) and with a lower booking price.\n",
    "\n",
    "So now that we know how to choose between the places offered by AirBnB and save money, it's time to travel and test it in practice!"
   ]
  }
 ],
 "metadata": {
  "kernelspec": {
   "display_name": "Python 3 (ipykernel)",
   "language": "python",
   "name": "python3"
  },
  "language_info": {
   "codemirror_mode": {
    "name": "ipython",
    "version": 3
   },
   "file_extension": ".py",
   "mimetype": "text/x-python",
   "name": "python",
   "nbconvert_exporter": "python",
   "pygments_lexer": "ipython3",
   "version": "3.9.7"
  }
 },
 "nbformat": 4,
 "nbformat_minor": 5
}
